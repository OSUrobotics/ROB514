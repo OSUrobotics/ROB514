{
 "cells": [
  {
   "cell_type": "markdown",
   "metadata": {},
   "source": [
    "### np.where practice/gotchas\n",
    "\n",
    "Why does numpy's where return arrays? Because there may be anywhere from zero to all indices that meet the criteria. "
   ]
  },
  {
   "cell_type": "code",
   "execution_count": null,
   "metadata": {},
   "outputs": [],
   "source": [
    "# Usual imports\n",
    "import numpy as np"
   ]
  },
  {
   "cell_type": "code",
   "execution_count": null,
   "metadata": {},
   "outputs": [],
   "source": [
    "# Test data\n",
    "test_data = np.random.uniform(0, 1, (5, 7))\n",
    "\n",
    "# Make the first row go from 0 to 1. This will work even if you change the number of columns in the line above\n",
    "test_data[1, :] = np.linspace(0, 1, num=test_data.shape[1])\n",
    "\n",
    "# Make TWO elements be minimums\n",
    "test_data[2, 3] = -2.0\n",
    "test_data[3, 5] = -2.0"
   ]
  },
  {
   "cell_type": "markdown",
   "metadata": {},
   "source": [
    "### Problem 1 - Find min\n",
    "\n",
    "- Step 1: Find the first minimum of the data\n",
    "- Step 2: Find BOTH of the minima\n",
    "\n",
    "The minima are at the locations given above (2,3) and (3,5)"
   ]
  },
  {
   "cell_type": "code",
   "execution_count": null,
   "metadata": {},
   "outputs": [],
   "source": [
    "# TODO: \n",
    "# Complete the steps mentioned above"
   ]
  },
  {
   "cell_type": "markdown",
   "metadata": {},
   "source": [
    "### Problem 2 - find the index of the last peak\n",
    "\n",
    "Numerical calculations in computers are rarely exact. In this problem, find the t value of the peak of the *last* sinusoid. You know sine goes from -1 to 1, but if you're sampling the sine you may not get exactly to 1. So add a fudge factor.\n",
    "\n",
    "Step 1: Find the index of the sine value that is the *last* peak\n",
    "Step 2: Use that index to get the corresponding t value"
   ]
  },
  {
   "cell_type": "code",
   "execution_count": null,
   "metadata": {},
   "outputs": [],
   "source": [
    "# t values\n",
    "ts = np.linspace((-0.3) * np.pi, 6.15 * np.pi, num=200)\n",
    "# Sinusoid\n",
    "my_sine = np.sin(ts)\n",
    "\n",
    "sine_max = np.max(my_sine)\n",
    "print(f\"Sine max was {sine_max}, should be 1, but isn't quite\")\n",
    "\n",
    "# Calculating this from the data - I've set this up to work properly. If you make eps_fudge smaller, you \n",
    "#   may not get the right answer\n",
    "eps_fudge = 10.0 * (1.0 - sine_max)\n",
    "\n",
    "# TODO: \n",
    "# Step 1 Find all of the indices where my_sine is bigger than eps_fudge\n",
    "# Step 2 Get the LAST one\n",
    "# Step 3 Use that index to get the t value out. Should be 14.13 - or close to 4.5 * pi\n",
    "print(f\"Sin at 4.5 * pi is {np.sin(4.5 * np.pi)}, 4.5 * pi is {4.5 * np.pi}\")"
   ]
  },
  {
   "cell_type": "markdown",
   "metadata": {},
   "source": [
    "### -------- Answers ---------"
   ]
  },
  {
   "cell_type": "code",
   "execution_count": null,
   "metadata": {},
   "outputs": [],
   "source": [
    "# Get the minimum value\n",
    "min_value = np.min(test_data)\n",
    "\n",
    "# Use where to get the indices\n",
    "indices_min = np.where(test_data == min_value)\n",
    "\n",
    "# Print out the indices\n",
    "#   The not fancy way\n",
    "indices_row = indices_min[0]\n",
    "indices_col = indices_min[1]\n",
    "for i in range(0, len(indices_row)):\n",
    "    print(f\"Min at ({indices_row[i]}, {indices_col[i]}))\")\n",
    "\n",
    "# The fancy way - zip the indices together\n",
    "for r, c in zip(indices_min[0], indices_min[1]):\n",
    "    print(f\"Min at ({r}, {c})\")"
   ]
  },
  {
   "cell_type": "code",
   "execution_count": null,
   "metadata": {},
   "outputs": [],
   "source": [
    "# Doing multiple things at once\n",
    "#   The > 1.0 - eps_fudge gets all places where the values are close to 1\n",
    "#   The [0] at the end gets out the first element of the tuple\n",
    "indices_peaks = np.where(my_sine > 1.0 - eps_fudge)[0]\n",
    "\n",
    "# The peak is at the end. This bit of code is a fancy way to verify that we GOT at least one peak\n",
    "try:\n",
    "    index_last = indices_peaks[-1]\n",
    "except IndexError:\n",
    "    index_last = 0\n",
    "    print(f\"Try a bigger fudge factor; didn't find any values bigger than 1 - eps_fudge \")\n",
    "\n",
    "# Now get the t value\n",
    "t_value_at_last_peak = ts[index_last]\n",
    "print(f\"T value is {t_value_at_last_peak}, sine value was {my_sine[index_last]}\")"
   ]
  }
 ],
 "metadata": {
  "kernelspec": {
   "display_name": "base",
   "language": "python",
   "name": "python3"
  },
  "language_info": {
   "codemirror_mode": {
    "name": "ipython",
    "version": 3
   },
   "file_extension": ".py",
   "mimetype": "text/x-python",
   "name": "python",
   "nbconvert_exporter": "python",
   "pygments_lexer": "ipython3",
   "version": "3.11.4"
  }
 },
 "nbformat": 4,
 "nbformat_minor": 2
}
