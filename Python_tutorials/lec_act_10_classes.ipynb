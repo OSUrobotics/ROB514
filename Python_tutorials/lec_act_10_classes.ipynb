{
 "cells": [
  {
   "cell_type": "code",
   "execution_count": null,
   "metadata": {
    "deletable": false,
    "editable": false
   },
   "outputs": [],
   "source": [
    "# Initialize Otter\n",
    "import otter\n",
    "grader = otter.Notebook(\"lec_act_10_classes.ipynb\")"
   ]
  },
  {
   "cell_type": "markdown",
   "metadata": {},
   "source": [
    "# Creating a ground segment class\n",
    "\n",
    "This is mostly filling in the methods in the class\n",
    "\n",
    "You will have to decide what variables you want to keep in the class"
   ]
  },
  {
   "cell_type": "code",
   "execution_count": null,
   "metadata": {},
   "outputs": [],
   "source": [
    "# Doing the imports for you\n",
    "import numpy as np\n",
    "import matplotlib.pyplot as plt\n",
    "from numpy.polynomial import polynomial\n"
   ]
  },
  {
   "cell_type": "markdown",
   "metadata": {
    "tags": [
     "otter_answer_cell"
    ]
   },
   "source": [
    "# Ground segment class\n",
    "\n",
    "Note, this is a simplified version of the one in ski_jump.py\n",
    "\n",
    "In this problem, fill in **init** method and **plot** \n",
    "\n",
    "You're welcome to create more variables in the **__init__** function or add more methods to the class\n",
    "\n",
    "TODO: \n",
    "- Fill in all of the methods in the class"
   ]
  },
  {
   "cell_type": "code",
   "execution_count": null,
   "metadata": {
    "tags": [
     "otter_answer_cell"
    ]
   },
   "outputs": [],
   "source": [
    "class SimpleGroundSection:\n",
    "    def __init__(self, x_start, x_end, polynomial_coefs=(0, 0)):\n",
    "        \"\"\"\n",
    "        @param x_start What x value to start at\n",
    "        @param x_end What x value to end at\n",
    "        @param polynomial coeficients for the section y(x) = a0 x^2 + a1 x + a2\n",
    "        \"\"\"\n",
    "        # TODO - store the start and stop values along with the coefficients\n",
    "        ...\n",
    "\n",
    "    def is_between(self, x):\n",
    "        \"\"\" Is the x value between the start and end x value?\n",
    "        @param x the x value \n",
    "        @ return True or False\n",
    "        \"\"\"\n",
    "        ...\n",
    "\n",
    "    def height(self, x):\n",
    "        \"\"\" Return the height, given the x (assumes over the ground)\n",
    "        @param x - x value\n",
    "        @returns height f(x)\"\"\"\n",
    "        ...\n",
    "        \n",
    "    def plot(self, axs):\n",
    "        \"\"\"Plot the section\n",
    "        @param axs the figure to plot into\"\"\"\n",
    "\n",
    "        ..."
   ]
  },
  {
   "cell_type": "code",
   "execution_count": null,
   "metadata": {
    "tags": [
     "otter_answer_cell"
    ]
   },
   "outputs": [],
   "source": [
    "# Create instances and call test functions\n",
    "\n",
    "# Create and test a single, horizontal linear segment at height 1\n",
    "#   polynomial is p0 + p1 x + p2 x^2... etc\n",
    "flat_bit = SimpleGroundSection(-0.5, 1.0, polynomial_coefs=(1, 0))\n",
    "assert not flat_bit.is_between(-0.6)\n",
    "assert flat_bit.is_between(-0.5)\n",
    "assert flat_bit.is_between(0.0)    \n",
    "assert flat_bit.is_between(1.0)    \n",
    "assert not flat_bit.is_between(1.1)\n",
    "assert flat_bit.is_over(0.1, 1.2)\n",
    "assert np.isclose(flat_bit.height(0.0), 1.0)\n",
    "\n",
    "fig, axs = plt.subplots(1, 1, figsize=(2, 2))\n",
    "flat_bit.plot(axs)\n"
   ]
  },
  {
   "cell_type": "code",
   "execution_count": null,
   "metadata": {
    "tags": [
     "otter_answer_cell"
    ]
   },
   "outputs": [],
   "source": [
    "\n",
    "# Create and test a slightly descending straight line\n",
    "#   Starts at 1 and drops by 0.25\n",
    "slope_down_bit = SimpleGroundSection(1.0, 1.5, polynomial_coefs=(1.0 + 0.25, -0.25))\n",
    "assert not slope_down_bit.is_between(0.9)\n",
    "assert slope_down_bit.is_between(1.0)\n",
    "assert slope_down_bit.is_between(1.25)    \n",
    "assert slope_down_bit.is_between(1.5)    \n",
    "assert not slope_down_bit.is_between(1.6)\n",
    "assert slope_down_bit.is_over(1.25, 1.0)\n",
    "assert np.isclose(slope_down_bit.height(1.0), 1.0)\n",
    "\n",
    "fig, axs = plt.subplots(1, 1, figsize=(2, 2))\n",
    "slope_down_bit.plot(axs)\n"
   ]
  },
  {
   "cell_type": "code",
   "execution_count": null,
   "metadata": {
    "tags": [
     "otter_answer_cell"
    ]
   },
   "outputs": [],
   "source": [
    "\n",
    "# Create and test a parabola\n",
    "#   Interpolates the points (0, 2), (1, 1), (3, 2)\n",
    "parabola = SimpleGroundSection(0.0, 2.0, polynomial_coefs=(2.0, -3.0/2.0, 1.0/2.0))\n",
    "assert not parabola.is_between(-0.1)\n",
    "assert parabola.is_between(1.0)\n",
    "assert not slope_down_bit.is_between(2.1)\n",
    "assert parabola.is_over(1.0, 1.5)\n",
    "assert np.isclose(parabola.height(0.0), 2.0)\n",
    "assert np.isclose(parabola.height(3.0), 2.0)\n",
    "\n",
    "\n",
    "fig, axs = plt.subplots(1, 1, figsize=(2, 2))\n",
    "parabola.plot(axs)\n"
   ]
  },
  {
   "cell_type": "code",
   "execution_count": null,
   "metadata": {
    "deletable": false,
    "editable": false
   },
   "outputs": [],
   "source": [
    "grader.check(\"class_defn\")"
   ]
  },
  {
   "cell_type": "markdown",
   "metadata": {
    "deletable": false,
    "editable": false
   },
   "source": [
    "## Hours and collaborators\n",
    "Required for every assignment - fill out before you hand-in.\n",
    "\n",
    "Listing names and websites helps you to document who you worked with and what internet help you received in the case of any plagiarism issues. You should list names of anyone (in class or not) who has substantially helped you with an assignment - or anyone you have *helped*. You do not need to list TAs.\n",
    "\n",
    "Listing hours helps us track if the assignments are too long."
   ]
  },
  {
   "cell_type": "code",
   "execution_count": null,
   "metadata": {
    "tags": [
     "otter_answer_cell"
    ]
   },
   "outputs": [],
   "source": [
    "\n",
    "# List of names (creates a set)\n",
    "worked_with_names = {\"not filled out\"}\n",
    "# List of URLS 2U5 (creates a set)\n",
    "websites = {\"not filled out\"}\n",
    "# Approximate number of hours, including lab/in-class time\n",
    "hours = -1.5"
   ]
  },
  {
   "cell_type": "code",
   "execution_count": null,
   "metadata": {
    "deletable": false,
    "editable": false
   },
   "outputs": [],
   "source": [
    "grader.check(\"hours_collaborators\")"
   ]
  },
  {
   "cell_type": "markdown",
   "metadata": {},
   "source": [
    "### To submit\n",
    "\n",
    "Make sure you include any .py files you are importing (pinball_wall.py).\n",
    "\n",
    "- Submit this .ipynb file and all .py files you are using to Lecture activity 10: Classes\n",
    "\n",
    "If the Gradescope autograder fails, please check here first for common reasons for it to fail\n",
    "    https://docs.google.com/presentation/d/1tYa5oycUiG4YhXUq5vHvPOpWJ4k_xUPp2rUNIL7Q9RI/edit?usp=sharing\n",
    "\n",
    "The primary problem with this submission is forgetting the .py files..."
   ]
  }
 ],
 "metadata": {
  "kernelspec": {
   "display_name": "Python 3",
   "language": "python",
   "name": "python3"
  },
  "language_info": {
   "codemirror_mode": {
    "name": "ipython",
    "version": 3
   },
   "file_extension": ".py",
   "mimetype": "text/x-python",
   "name": "python",
   "nbconvert_exporter": "python",
   "pygments_lexer": "ipython3",
   "version": "3.12.7"
  },
  "otter": {
   "OK_FORMAT": true,
   "tests": {
    "class_defn": {
     "name": "class_defn",
     "points": 2,
     "suites": [
      {
       "cases": [
        {
         "code": ">>> assert not flat_bit.is_between(-0.6)\n>>> assert flat_bit.is_between(-0.5)\n>>> assert flat_bit.is_between(0.0)\n>>> assert flat_bit.is_between(1.0)\n>>> assert not flat_bit.is_between(1.1)\n>>> assert flat_bit.is_over(0.1, 1.2)\n>>> assert np.isclose(flat_bit.height(0.0), 1.0)\n",
         "hidden": false,
         "locked": false
        },
        {
         "code": ">>> assert not slope_down_bit.is_between(0.9)\n>>> assert slope_down_bit.is_between(1.0)\n>>> assert slope_down_bit.is_between(1.25)\n>>> assert slope_down_bit.is_between(1.5)\n>>> assert not slope_down_bit.is_between(1.6)\n>>> assert slope_down_bit.is_over(1.25, 1.0)\n>>> assert np.isclose(slope_down_bit.height(1.0), 1.0)\n",
         "hidden": false,
         "locked": false
        },
        {
         "code": ">>> assert not parabola.is_between(-0.1)\n>>> assert parabola.is_between(1.0)\n>>> assert not slope_down_bit.is_between(2.1)\n>>> assert parabola.is_over(1.0, 1.5)\n>>> assert np.isclose(parabola.height(0.0), 2.0)\n>>> assert np.isclose(parabola.height(3.0), 2.0)\n",
         "hidden": false,
         "locked": false
        }
       ],
       "scored": true,
       "setup": "",
       "teardown": "",
       "type": "doctest"
      }
     ]
    },
    "hours_collaborators": {
     "name": "hours_collaborators",
     "points": 1,
     "suites": [
      {
       "cases": [
        {
         "code": ">>> assert not 'not filled out' in worked_with_names\n",
         "hidden": false,
         "locked": false
        },
        {
         "code": ">>> assert not 'not filled out' in websites\n",
         "hidden": false,
         "locked": false
        },
        {
         "code": ">>> assert hours > 0\n",
         "hidden": false,
         "locked": false
        }
       ],
       "scored": true,
       "setup": "",
       "teardown": "",
       "type": "doctest"
      }
     ]
    }
   }
  }
 },
 "nbformat": 4,
 "nbformat_minor": 2
}
