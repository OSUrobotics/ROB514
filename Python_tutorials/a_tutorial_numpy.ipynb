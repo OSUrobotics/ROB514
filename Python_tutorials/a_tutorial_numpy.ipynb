{
 "cells": [
  {
   "cell_type": "markdown",
   "metadata": {},
   "source": [
    "# What is numpy?\n",
    "\n",
    "Numpy (and scipy) are python libraries for doing numerical and scientific calculations. Pretty much any mathematical or signal processing operation you would find in a text book is implemented in one of those libraries. Much of the functionality of MatLab is here, along with plotting (see matplotlib and the tutorial on matplotlib).\n",
    "\n",
    "The heart of numpy is the numpy array data structure. These are n-dimensional arrays, all of the same data type with every element in a dimension the same size (unlike python lists, which can mix and match data types and array dimension sizes),\n",
    "\n",
    "Because numpy arrays are all of the same type/size, it's possible to do the same operation to all of the elements of an array really, really fast. This is the heart of using numpy; instead of explicitly writing **for** loops, numpy \"overrides\" operations (like *, +, <, > ==) so that they happen to the entire array (all n dimensions of it) all at once, in one line of code. There's still **for** loops in there, it's just Python is doing it for you. If you find yourself writing a **for** loop with a numpy array, btw, chances are you shouldn't be. Not that it's wrong, it's just really, really slow.\n",
    "\n",
    "Finally, there are all of the operations (min, max, sum, filter, etc) in numpy/scipy that use numpy arrays as input. These are very powerful, but it can be challenging to set up data and function parameters correctly to get them to work the way you want. We'll cover basics here, and more in-depth later.\n",
    "\n",
    "**import numpy as np**\n",
    "\n",
    "This is the way I like to import numpy. All numpy operations will start with np. I just find it easier (when reading the code) to have this visual cue that this function/operation came from numpy. It also prevents name conflicts - for example, if you accidentally name a variable \"min\" you won't \"overwrite\" numpy's min. Also, if you cut and paste your code somewhere else, it's easier to get it working without name conflicts.\n",
    "\n",
    "Note: You need to install the numpy library in order to use it. If you followed the instructions in the VS Code install then numpy should already be installed; but if you pick the wrong base python you may get a \"not installed\" error. The following cell will fix this."
   ]
  },
  {
   "cell_type": "code",
   "execution_count": null,
   "metadata": {},
   "outputs": [],
   "source": [
    "# Doing the imports for you\n",
    "\n",
    "# Note, if this fails try running a_start_here_libraries.ipynb first\n",
    "#  If you've done that, then make sure that the kernel you've selected for both is the same\n",
    "#  If that doesn't work, find a TA.\n",
    "\n",
    "#   All numpy functions can be written as np. \n",
    "import numpy as np"
   ]
  },
  {
   "cell_type": "markdown",
   "metadata": {},
   "source": [
    "## An aside on imports\n",
    "\n",
    "As an aside, if instead of the above import you write it like this:\n",
    "\n",
    "**import numpy**\n",
    "\n",
    "then you don't need the **np.** in front of numpy commands. Saves typing, but it means that ALL of the names functions etc in numpy are now in your list of variables (including useful things like pi, min, max).\n",
    "\n",
    "If you want to do a mix of the above, but just bring in the variables/data structures that you need, you can use one of the following. If you're using a lot of numpy operations/variables than it can get annoying to have to include all of them, though. The difference between these two lines is whether the numpy array is named nparray or just array.\n",
    "\n",
    "\n",
    "**from numpy import array as nparray**\n",
    "\n",
    "**from numpy import array**"
   ]
  },
  {
   "cell_type": "markdown",
   "metadata": {},
   "source": [
    "# Making a numpy array\n",
    "\n",
    "There are three main approaches to/reasons for making a numpy array\n",
    " - You have data in a file - spreadsheet, csv, image, etc\n",
    " - You need a \"blank\" array of data that you fill in with some default value\n",
    " - You're combining data from existing numpy arrays\n",
    "\n",
    "We will go over each in turn\n",
    "See also: https://numpy.org/doc/stable/user/basics.creation.html if you don't see a construction method here that meets your needs\n",
    "\n",
    "## From a file (Example 1)\n",
    "\n",
    "There are two cases here\n",
    " - a single file with all the data (and no extra stuff like headers), eg, a csv file of numbers, an image\n",
    " - a spreadsheet with headers and other data that you don't necessarily need\n",
    "\n",
    "For the first case there's almost always a numpy function that will do the data reading and return a numpy array. For the second, the best approach is to read the data into a python list and then create the numpy array from the list. This avoids the problem of needing to know the data sizes in advance.\n",
    "\n",
    "## Creating an array from a list (Example 2)\n",
    "\n",
    "Whatever you do, avoid creating and destroying numpy arrays over and over again just to add elements (think list append); list data structures are setup to handle this a lot better than numpy arrays. You can always just do:\n",
    "\n",
    "**my_np_array = np.array(my_list)**\n",
    "\n",
    "after you make my_list\n",
    "\n",
    "## Creating an empty array (Example 3)\n",
    "\n",
    "My favorite method for creating a \"blank\" array is **np.zeros((width, height))**. This creates an array of width, height (can be one dimensional, or 3 dimensional...) and fills it with zeros\n",
    "\n",
    "If you know the data size in advance then you can use this approach to create the numpy array and then copy data into it.\n",
    "\n"
   ]
  },
  {
   "cell_type": "markdown",
   "metadata": {},
   "source": [
    "## Example 1: Reading in a csv file of numbers directly into a numpy array\n",
    "\n",
    "This is a first example of the fun of numpy/scipy function parameters. Google **numpy loadtxt** to get a list of all possible parameters - all of which have default values, except the file name.\n",
    "\n",
    "Here, we override specific parameters (what type of data it is and what the delimiter is)\n",
    "\n",
    "TODO:\n",
    "- what happens if you set the type to int?\n",
    "- what happens if you set the delimiter to something else? \n",
    "\n",
    "Note: we'll cover advanced file reading later."
   ]
  },
  {
   "cell_type": "code",
   "execution_count": null,
   "metadata": {},
   "outputs": [],
   "source": [
    "# This creates a variable file_name that is a string. You could just put the string into loadtext\n",
    "#  instead of creating a variable, but using a variable means you can ask what the filename is later - for example,\n",
    "#  if you wanted to print out \"Filename is {}\"\n",
    "file_name = \"Data/proxy_test_grasp.csv\"\n",
    "\n",
    "# This is the actual read from a file. The first parameter is the file name (a string). Note that the file has to be in the\n",
    "#  correct place relative to this file for this to work. In this case, Week_1_data_structures has this jupyter notebook file\n",
    "#  AND a folder named Data, inside of which is a file named proxy_test_grasp.csv (look at the explorer pane on the left)\n",
    "#\n",
    "# dtype=\"float\" says set the function parameter named dtype to be the type float. It's quite common for functions to have\n",
    "#   additional parameters that have default values, and for you to be able to change them - say by using dtype=\"int\" - if\n",
    "#   you need to.\n",
    "# Often these additional parameters are strings - and the function expects the string to be one of a specific set of strings.\n",
    "#  Go look up loadtxt (https://numpy.org/doc/stable/reference/generated/numpy.loadtxt.html) and you'll see the list of\n",
    "#  parameters loadtxt has. Unfortunately, for dtype, they don't list what are acceptable types... \n",
    "\n",
    "# This try-except structure is a \"safety check\" - if the file exists, it will open it; otherwise, it will print out the error message\n",
    "try:\n",
    "    data_from_csv = np.loadtxt(file_name, dtype=\"float\", delimiter=\",\")\n",
    "except FileNotFoundError:\n",
    "    print(f\"The file {file_name} was not found; check that the data directory is in the current one and the file is in that directory\")\n",
    "\n",
    "# This is my favorite way to do print statements. The f\"\" means make a formatted string - see the week 0 tutorial on strings\n",
    "#  Anything in {} is a variable that you want printed out. In this case, we'll print out the size of the variable\n",
    "#    data.shape will be a tuple (width, height) because data_from_csv is an n x m array of data\n",
    "print(f\"Size of csv data {data_from_csv.shape}\")\n",
    "# This is a 2 dimensional array, so [0, 0] says get the element in the first row, first column\n",
    "print(f\"Element in first row, first column: {data_from_csv[0, 0]}\")\n",
    "print(f\"Element in first row, second column: {data_from_csv[0, 1]}\")\n",
    "print(f\"Element in second row, first column: {data_from_csv[1, 0]}\")\n",
    "# The -1 says get the last element (see slicing)\n",
    "print(f\"Element in last row, last column: {data_from_csv[-1, -1]}\")\n",
    "print(f\"Element in third row, last column: {data_from_csv[1, -1]}\")"
   ]
  },
  {
   "cell_type": "markdown",
   "metadata": {},
   "source": [
    "## Example 2: Converting a list to a numpy array \n",
    "\n",
    "If you need to make a numpy array, but you aren't sure how big it will be, you can always make a list first, then convert it to a numpy array by doing **np.array(my_list)**. The list needs to be all of the same data type."
   ]
  },
  {
   "cell_type": "code",
   "execution_count": null,
   "metadata": {},
   "outputs": [],
   "source": [
    "# A list with three elements in it. Each element is, in turn, a list with 2 elements\n",
    "my_list = [[0, 1], [2.0, 4.0], [5.0, 10.0]]\n",
    "# Turns this into a numpy array\n",
    "data_from_list = np.array(my_list)\n",
    "\n",
    "print(\"Original list, notice flat format\")\n",
    "print(my_list)\n",
    "print(\"List as numpy array, notice matrix format\")\n",
    "print(data_from_list)\n",
    "# shape gives you the dimensions of the numpy array, size gives you the total number of elements\n",
    "#  In this case 3 * 2 = 6\n",
    "print(f\"Data dimensions: {data_from_list.shape}, total number of elements: {data_from_list.size}\")\n",
    "print(f\"First row, first column element: {data_from_list[0, 0]}\")\n",
    "print(f\"Last row, last column element: {data_from_list[-1, -1]}\")"
   ]
  },
  {
   "cell_type": "markdown",
   "metadata": {},
   "source": [
    "## Print statements are ugly for large arrays\n",
    "TODO: In the upper right there is a button labeled \"Variables\". Click on it.\n",
    "\n",
    "Tada, you now have a window where you can look at all of the variables you've defined\n",
    "\n",
    "Now click on **data_from_list** (can be a little slow sometimes).\n",
    "\n",
    "Now you have a window where you can scroll around and look at the data.\n",
    "\n",
    "Take a moment to look at data_from_csv. \n",
    "\n"
   ]
  },
  {
   "cell_type": "markdown",
   "metadata": {},
   "source": [
    "## Example 3: Creating a numpy array from pre-defined values\n",
    "\n",
    "Numpy has methods to create an array of zeros, ones, a range of numbers, or random numbers. \n",
    "\n",
    "**dtype** is optional - you can set it to int for integers, bool for booleans, etc\n",
    "\n",
    "shape/dimensions can be a list OR a tuple (3, 5, 2) - doesn't matter (safest to use a tuple)\n",
    "\n",
    "Note: One of the most common errors is to forget the [] or the () around the list of dimensions - you don't need it for one dimensional arrays, but you will for more than one - otherwise, you get a TypeError: data type not understood\n",
    "\n",
    "Create a **3 X 5 X 2**  array of zeros\n",
    "\n",
    "TODO: Try creating a matrix of a different size"
   ]
  },
  {
   "cell_type": "code",
   "execution_count": null,
   "metadata": {},
   "outputs": [],
   "source": [
    "# The (2, 3) says make an array that is size 2x3\n",
    "# The dtype=float says make floating point numbers\n",
    "data_zeros = np.zeros((2, 3), dtype=float)\n",
    "\n",
    "# Numpy will do it's best to print out numpy arrays\n",
    "print(data_zeros)\n",
    "print(f\"Number of dimensions: {data_zeros.ndim}, dimension sizes: {data_zeros.shape}, total number of elements: {data_zeros.size}\")\n",
    "print(f\"Element in first row, first column: {data_zeros[0, 0]}\")\n",
    "\n",
    "# Again, use the variable window to check out data_zeros\n"
   ]
  },
  {
   "cell_type": "markdown",
   "metadata": {},
   "source": [
    "### Array of ones\n",
    "\n",
    "Making an array of ones of the same size as **data_from_list**\n",
    "\n",
    "**shape** contains the dimensions of the array - number of rows, columns, etc\n",
    "\n",
    "Shape is a tuple, so you can't change it"
   ]
  },
  {
   "cell_type": "code",
   "execution_count": null,
   "metadata": {},
   "outputs": [],
   "source": [
    "# In this case we're going to use the tuple in data_from_csv.shape (which is 660 by 13) instead of putting numbers in\n",
    "#  That way, if data_from_csv changes dimensions, this line still works.\n",
    "# Note that this is exactly the same as\n",
    "#   data_ones=np.ones((660, 13))\n",
    "print(f\"Data dimensions of data_from_csv: {data_from_csv.shape}, total number of elements: {data_from_csv.size}\")\n",
    "# Make it the same size\n",
    "data_ones = np.ones(data_from_csv.shape)\n",
    "print(f\"Data dimensions of data_ones: {data_ones.shape}, total number of elements: {data_ones.size}\")\n",
    "print(f\"First element of first row of data_ones: {data_ones[0, 0]}\")"
   ]
  },
  {
   "cell_type": "markdown",
   "metadata": {},
   "source": [
    "### Range of numbers\n",
    "\n",
    "Making an array of numbers starting and stopping at given values (linspace)\n",
    "\n",
    "15 numbers, starting at -1 and going to 1\n",
    "\n",
    "TODO: \n",
    "- Try different stop/start values\n"
   ]
  },
  {
   "cell_type": "code",
   "execution_count": null,
   "metadata": {},
   "outputs": [],
   "source": [
    "# linspace (and a similar function, arange) are handy ways to make numpy arrays with evenly-spaced values\n",
    "#   start is -1, end is 1.0, number of elements is 15 (see last print out)\n",
    "data_evenly_spaced_numbers = np.linspace(start=-1.0, stop=1.0, num=15)\n",
    "print(f\"Linspace dimensions: {data_evenly_spaced_numbers.shape}, total number of elements: {data_evenly_spaced_numbers.size}\")\n",
    "print(f\"First value: {data_evenly_spaced_numbers[0]}, last value: {data_evenly_spaced_numbers[-1]}\")"
   ]
  },
  {
   "cell_type": "markdown",
   "metadata": {},
   "source": [
    "### Random numbers\n",
    "\n",
    "Making an array of random numbers. \n",
    "Don't be confused by the parameter being called size - it can take a tuple of dimensions (shape)\n",
    "\n",
    "TODO: check the dimension of the array/matrix"
   ]
  },
  {
   "cell_type": "code",
   "execution_count": null,
   "metadata": {},
   "outputs": [],
   "source": [
    "# This makes a 3x10 array of numbers, all of which are between -1 and 1\n",
    "data_random = np.random.uniform(low=-1, high=1, size=(3, 10))\n",
    "print(f\"Random uniform data, size {data_random.shape}\")\n",
    "# Print out statistics on the array. Note that you can call functions inside of the {}\n",
    "# The numbers are *between* -1 and 1, but may not actually get to -1, The mean should be close to zero\n",
    "print(f\"Min {np.min(data_random)}, max {np.max(data_random)}, mean {np.mean(data_random)}\")\n",
    "print(data_random)"
   ]
  },
  {
   "cell_type": "markdown",
   "metadata": {},
   "source": [
    "# Operations with numpy arrays\n",
    "\n",
    "There are two concepts here, one easy, one hard\n",
    " - Concept 1: operators (+, -, <, etc) are all automatically done on all elements (for loops). All arrays in the equation have to have the same dimensions\n",
    " - Concept 2: If statements are accomplished using boolean indexing [if statement]. \n"
   ]
  },
  {
   "cell_type": "code",
   "execution_count": null,
   "metadata": {},
   "outputs": [],
   "source": [
    "# Simplest example - apply 2 * x + 1 to all elements of the array, and store in a new array\n",
    "data_new_csv = 2 * data_from_csv + 1\n",
    "\n",
    "#  min/max are numpy operations that do the min/max across ALL of the dimension - see below for how to do min/max\n",
    "#    across just one dimension\n",
    "print(f\"Original minimum: {np.min(data_from_csv)} and maximum: {np.max(data_from_csv)}\")\n",
    "print(f\"New minimum: {np.min(data_new_csv)} and maximum: {np.max(data_new_csv)}\")"
   ]
  },
  {
   "cell_type": "code",
   "execution_count": null,
   "metadata": {},
   "outputs": [],
   "source": [
    "# A more complicated example - shift and scale the entire data set so that the min is zero, the max is one\n",
    "min_all_data = np.min(data_from_csv)\n",
    "max_all_data = np.max(data_from_csv)\n",
    "# Subtract this from all the data to make the smallest value be 0\n",
    "shift_amount = min_all_data\n",
    "# The data goes from min to max - scale by (max-min) to make it go zero \n",
    "scale_amount = 1.0 / (max_all_data - min_all_data)\n",
    "# Subtract the min and scale - now the min should be zero and the max 1\n",
    "data_new_csv = scale_amount * (data_from_csv - shift_amount)\n",
    "print(f\"Shifted minimum: {np.min(data_new_csv)} and maximum: {np.max(data_new_csv)}\")"
   ]
  },
  {
   "cell_type": "markdown",
   "metadata": {},
   "source": [
    "## If statement/boolean indexing\n",
    "\n",
    "Now for the **if** statement. There are a handful of places in the data where there are zeros. These are places where\n",
    "there wasn't any valid data, so they shouldn't be included when doing a mean calculations.\n",
    "\n",
    "TODO: Notice the difference in the calculated means"
   ]
  },
  {
   "cell_type": "code",
   "execution_count": null,
   "metadata": {},
   "outputs": [],
   "source": [
    "mean_including_zeros = np.mean(data_from_csv)\n",
    "\n",
    "# The [data_from_csv != 0] selects all of the data that is not 0.0\n",
    "#   Note: You should use isclose() for most floating point comparisons, not == 0\n",
    "# This is exactly the same as doing something like\n",
    "#    my_sum = 0\n",
    "#    count = 0\n",
    "#    for number in data_from_csv\n",
    "#       if number is zero\n",
    "#           skip\n",
    "#       else\n",
    "#           my_sum += numer\n",
    "#           count += 1\n",
    "#    my_mean = my_sum / count\n",
    "mean_not_including_zeros = np.mean(data_from_csv[data_from_csv != 0])\n",
    "\n",
    "print(f\"Means with {mean_including_zeros} and without {mean_not_including_zeros} zeros\")"
   ]
  },
  {
   "cell_type": "markdown",
   "metadata": {},
   "source": [
    "# OPTIONAL: Shift each column individually\n",
    "\n",
    "This is an example where you DO need to use a for loop - because you're doing something different for each column of the data.\n",
    "\n",
    "What this code does: Does a similar shift/scale as above, but this time, on each column of the data individually\n",
    "\n",
    "The idea is that each row is one run from an experiment, each column represents a single data value that you're capturing. You want to \"normalize\" the data for each value so that the mean is zero and the data has a standard deviation of 1\n",
    "\n",
    "TODO:\n",
    "- where are we selecting the entire column?\n",
    "- where is the number of columns?"
   ]
  },
  {
   "cell_type": "code",
   "execution_count": null,
   "metadata": {},
   "outputs": [],
   "source": [
    "# Pre-alloc the matrix to put the data back into - since we know the size of the data, it's easiest to make a new\n",
    "#  numpy array of the right size and then copy data in and edit it after it's copied in\n",
    "data_new_csv = np.zeros(data_from_csv.shape)\n",
    "# for each column in the data. .shape[1] is the number of columns\n",
    "for c in range(0, data_from_csv.shape[1]):\n",
    "    # Copy the data from the old array to the new one\n",
    "    #   Note the : and the ,  and the [r,c] - array indexing/slicing for numpy arrays is pretty much the same as for lists\n",
    "    #   Unlike lists, this actually copies the data over\n",
    "    data_new_csv[:, c] = data_from_csv[:, c]  # All rows, column c\n",
    "\n",
    "    # Making a variable of this here so you can see it/use it\n",
    "    non_zero_data_in_col = data_new_csv[:, c] != 0  # A boolean array that is false for all zero elements\n",
    "    mean_column = np.mean(data_new_csv[non_zero_data_in_col, c])  # Use only those row elements that are non-zero\n",
    "    std_column = np.std(data_new_csv[non_zero_data_in_col, c])\n",
    "    # Shift and scale - but only the non-zero (valid) numbers\n",
    "    #  We'll do this in-place - on the RHS we calculate the new values, then the = sign assigns them to the appropriate\n",
    "    #     values on the LHS. Similar to\n",
    "    #  for all r in column c\n",
    "    #     if non_zero_data_in_col[r] is True\n",
    "    #          non_zero_data[r,c] = (non_zero_data[r,c] - shift) / std_column\n",
    "    data_new_csv[non_zero_data_in_col, c] = (data_new_csv[non_zero_data_in_col, c] - mean_column) / std_column\n",
    "\n",
    "# Because we've normalized all the columns individually, the mu and standard deviation of the ENTIRE data\n",
    "#  set should be close to 0, +=1\n",
    "print(f\"Mean {np.mean(data_new_csv)} and std {np.std(data_new_csv)} for ALL data\")\n",
    "\n",
    "# ... but is we ask for the mu, std for one row it is NOT\n",
    "print(f\"Mean {np.mean(data_new_csv[0, :])} and std {np.std(data_new_csv[0, :])} for one row\")\n"
   ]
  },
  {
   "cell_type": "markdown",
   "metadata": {},
   "source": [
    "# Numpy gotchas\n",
    "\n",
    "Size and Shape are often confused for each other, and doubly so when the numpy array is one dimensional (in which case there is an additional confusion between row-column and column row). This confusion doesn't usually result in an Python error, but is usually some version of \"I thought that array would be bigger (or smaller)\", or \"I thought I made a matrix nxm\", and occasionally as a mis-matched size array or invalid index error.\n",
    "\n",
    "One quick check (for both this error and the next one) is to print out (or check in the variable window) BOTH print(f\"Size {a.size} and shape {a.shape} of array a\"). That way, you don't have to remember which is which.\n",
    "\n",
    "Shape is the dimensions of the array, Size is the number of elements. Shape is a tuple, Size is an integer\n",
    "\n",
    "So a numpy array with shape (3, 6) will have 18 = 3 X 6 size. 1 dimensional arrays will usually have shape (1, size),\n",
    "although sometimes (for example, grabbing a column out of a matrix) you may end up with (size, 1) or (size, _).\n",
    "\n",
    "Here are some common errors/examples"
   ]
  },
  {
   "cell_type": "code",
   "execution_count": null,
   "metadata": {},
   "outputs": [],
   "source": [
    "# Make a 3x6 matrix\n",
    "my_orig_matrix = np.ones((3, 6))\n",
    "\n",
    "# Accidental use of size instead of shape\n",
    "my_incorrect_size_matrix = np.ones(my_orig_matrix.size)\n",
    "# Correct way to create a matrix of the same dimensions\n",
    "my_correct_size_matrix = np.zeros(my_orig_matrix.shape)\n",
    "\n",
    "print(f\"Orig shape {my_orig_matrix.shape} and size {my_orig_matrix.size}\")\n",
    "print(f\"Incorrect matrix shape {my_incorrect_size_matrix.shape} and size {my_incorrect_size_matrix.size}\")\n",
    "print(f\"Correct matrix shape {my_correct_size_matrix.shape} and size {my_correct_size_matrix.size}\")\n"
   ]
  },
  {
   "cell_type": "markdown",
   "metadata": {},
   "source": [
    "This generates an error because the two matrices are different shapes (but same size)\n",
    "\n",
    "  generates ValueError: operands could not be broadcast together with shapes (3,6) (18,)"
   ]
  },
  {
   "cell_type": "code",
   "execution_count": null,
   "metadata": {},
   "outputs": [],
   "source": [
    "oops = my_orig_matrix + my_incorrect_size_matrix"
   ]
  },
  {
   "cell_type": "code",
   "execution_count": null,
   "metadata": {},
   "outputs": [],
   "source": [
    "# This is even worse: this creates a 1x1 array set to the value 18:\n",
    "my_oops_matrix = np.array(my_orig_matrix.size)\n",
    "# This also doesn't work - this creates a 1x2 array set to the value (3,6):\n",
    "my_oops2_matrix = np.array(my_orig_matrix.shape)\n",
    "# ... This creates an array of the same dimensions and values (use zeros(m.shape) if you want just zeros)\n",
    "my_correct_assign_matrix = np.array(my_orig_matrix)\n",
    "\n",
    "print(f\"Oops matrix shape {my_oops_matrix.shape} and size {my_oops_matrix.size}\")\n",
    "print(f\"Oops matrix 2 shape {my_oops2_matrix.shape} and size {my_oops2_matrix.size}, values {my_oops2_matrix}\")\n",
    "print(f\"Correct matrix shape {my_correct_assign_matrix.shape} and size {my_correct_assign_matrix.size}\")\n"
   ]
  },
  {
   "cell_type": "markdown",
   "metadata": {},
   "source": [
    "# Assignment errors/problems \n",
    "\n",
    "There are two common errors with numpy arrays: Indexing errors (index out of bounds, missing dimension) and trying to do mathematical operations on arrays that have different dimensions\n",
    "\n",
    "\n",
    "Most common error - matrices are different sizes, usually because one is the transpose of the other or because you grabbed a subset of a matrix and tried to set it to the original matrix"
   ]
  },
  {
   "cell_type": "code",
   "execution_count": null,
   "metadata": {},
   "outputs": [],
   "source": [
    "my_matrix = np.random.random([15, 15])\n",
    "my_matrix_sub = my_matrix[2:-2, 2:-2]\n",
    "\n",
    "my_add_two_different_sizes = my_matrix + my_matrix_sub\n",
    "# Generates this error\n",
    "#   ValueError: operands could not be broadcast together with shapes (15,15) (11,11)\n",
    "# Which should be read as: I have an 11x11 matrix that I tried to assign to a 15x15 matrix\n"
   ]
  },
  {
   "cell_type": "code",
   "execution_count": null,
   "metadata": {},
   "outputs": [],
   "source": [
    "# ... or, you thought my_matrix_sub was my_matrix and tried to get the last element\n",
    "# Generates this error:\n",
    "#   IndexError: index 14 is out of bounds for axis 0 with size 11\n",
    "# which should be read as: The index I used for the first dimension (14) was too big (the matrix is 11x11)\n",
    "print(f\"Generate an index error: {my_matrix_sub[14, 3]}\")"
   ]
  },
  {
   "cell_type": "markdown",
   "metadata": {},
   "source": [
    "numpy is pretty good about lists - whether they're 15, 1x15, or 15x1 you can still add/multiply them together - numpy can find a way to \"line them up\". It will not, however, line up a 3x5 with a 1x15. \n",
    "\n",
    "You can use reshape to make this work, btw\n",
    "\n",
    "TODO: Try to guess which ones will work and which ones won't before running the code"
   ]
  },
  {
   "cell_type": "code",
   "execution_count": null,
   "metadata": {},
   "outputs": [],
   "source": [
    "my_list_v1 = np.linspace(-1, 1, 15)\n",
    "my_list_v2 = np.ones([15, 1])\n",
    "my_list_v3 = np.ones([1, 15])\n",
    "my_list_v4 = my_matrix[:, 0]\n",
    "my_list_v5 = my_matrix[0:3, 0:5]\n",
    "\n",
    "all_lists = [my_list_v1, my_list_v2, my_list_v3, my_list_v4, my_list_v5]\n",
    "# Print them all out\n",
    "for i, l in enumerate(all_lists):\n",
    "    print(f\"my_list_v{i+1} shape {l.shape} and size {l.size}\")\n",
    "    for j, l2 in enumerate(all_lists):\n",
    "        # try-except is an \"if\" statement but the if statement conditional is whether or not Python threw\n",
    "        #  an error anywhere (in this case, a ValueError, which is what you get if the matrix sizes are mis-matchec)\n",
    "        try:\n",
    "            res = l + l2\n",
    "            print(f\"List {i+1} and list {j+1} can be added\")\n",
    "        except ValueError:\n",
    "            print(f\"List {i+1} and list {j+1} can NOT be added\")\n",
    "            print(f\"Reshaping so it will work\")\n",
    "            res = l.reshape([1, 15]) + l.reshape(([1, 15]))\n",
    "\n",
    "        print(f\"res shape {res.shape} and size {res.size}\")\n"
   ]
  },
  {
   "cell_type": "markdown",
   "metadata": {},
   "source": [
    "Sometimes you just forget to put in the index for some of the dimensions... unfortunately, this actually works (does not cause an error) because my_matrix[3] is a single number, so numpy adds that single number to the entire list"
   ]
  },
  {
   "cell_type": "code",
   "execution_count": null,
   "metadata": {},
   "outputs": [],
   "source": [
    "oops_wrong_thing_added = my_matrix[3] + my_list_v1\n",
    "\n",
    "# This is what I actually meant to do - grab the 3rd row and add it to my_list_v1\n",
    "#    Notice the 3, : which grabs the *entire* 3rd row\n",
    "enough_dims = my_matrix[3, :] + my_list_v1\n",
    "print(f\"Enough dims {enough_dims.shape} and size {enough_dims.size}\")"
   ]
  },
  {
   "cell_type": "markdown",
   "metadata": {},
   "source": [
    "## Transpose problems"
   ]
  },
  {
   "cell_type": "code",
   "execution_count": null,
   "metadata": {},
   "outputs": [],
   "source": [
    "# One last one that is pretty common - rows and columns transposed, which can yield an index error or a value error\n",
    "my_non_square_matrix = np.random.random([3, 6])\n",
    "# Index error\n",
    "row_column_transposed_index = my_non_square_matrix[5, 2]"
   ]
  },
  {
   "cell_type": "code",
   "execution_count": null,
   "metadata": {},
   "outputs": [],
   "source": [
    "# Value error\n",
    "my_non_square_matrix_transposed = np.random.random([6, 3])\n",
    "oops_wrong_dims = my_non_square_matrix + my_non_square_matrix_transposed\n"
   ]
  },
  {
   "cell_type": "code",
   "execution_count": null,
   "metadata": {},
   "outputs": [],
   "source": [
    "# Quick fix - transpose before adding\n",
    "correct_dim = np.transpose(my_non_square_matrix_transposed) + my_non_square_matrix\n",
    "print(f\"Correct dims {correct_dim.shape} and size {correct_dim.size}\")"
   ]
  },
  {
   "cell_type": "code",
   "execution_count": null,
   "metadata": {},
   "outputs": [],
   "source": [
    "# ... or transpose the matrix and assign it back to itself (or to a new variable - which is the safer approach)\n",
    "my_non_square_matrix_fixed = my_non_square_matrix_transposed.transpose()\n",
    "correct_dim = my_non_square_matrix_fixed + my_non_square_matrix"
   ]
  },
  {
   "cell_type": "markdown",
   "metadata": {},
   "source": [
    "# Summary\n",
    "The moral of this story is that there are lots of ways to create a numpy array that is NOT the dimensions you want OR  to have a bit of code that is working syntactically (is not generating an error) but is incorrect semantically.\n",
    "\n",
    "The best debugging tool for this is to just print out (or check in the debugger) the shape of the numpy array(s) at each step. Don't assume that you have them correct.\n",
    "\n",
    "This file is not turned in - however, if you don't do it (and the practice) you may struggle with the Lab/Homework."
   ]
  }
 ],
 "metadata": {
  "kernelspec": {
   "display_name": "Python 3",
   "language": "python",
   "name": "python3"
  },
  "language_info": {
   "codemirror_mode": {
    "name": "ipython",
    "version": 3
   },
   "file_extension": ".py",
   "mimetype": "text/x-python",
   "name": "python",
   "nbconvert_exporter": "python",
   "pygments_lexer": "ipython3",
   "version": "3.9.6"
  }
 },
 "nbformat": 4,
 "nbformat_minor": 2
}
