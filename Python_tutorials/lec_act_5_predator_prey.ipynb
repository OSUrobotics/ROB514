{
 "cells": [
  {
   "cell_type": "code",
   "execution_count": null,
   "metadata": {
    "deletable": false,
    "editable": false
   },
   "outputs": [],
   "source": [
    "# Initialize Otter\n",
    "import otter\n",
    "grader = otter.Notebook(\"lec_act_5_predator_prey.ipynb\")"
   ]
  },
  {
   "cell_type": "markdown",
   "metadata": {},
   "source": [
    "#  Predator-prey iterative functions \n",
    "\n",
    "Slides: https://docs.google.com/presentation/d/1wd1SpTJiezfroDizaFkA6UxCgMQE_A4ZKCyJoNfa0cM/edit?usp=sharing\n",
    "\n",
    "We're going to start implementing a simple version of the predator/prey relationship, a classic differential equations problem also known as the Lotka-Volterra equations. You don't need to know a whole lot about them, except that there are two variables to track - prey and predator - and that how the numbers of prey/predator changes depends on both the current prey values AND the predator values (the differential equations part)\n",
    "\n",
    "Resources:\n",
    "-   https://en.wikipedia.org/wiki/Lotka%E2%80%93Volterra_equations for a more general theoretical introduction\n",
    "-   https://www.kristakingmath.com/blog/predator-prey-systems a better \"what is it\" description\n",
    "-   https://scientific-python.readthedocs.io/en/latest/notebooks_rst/3_Ordinary_Differential_Equations/02_Examples/Lotka_Volterra_model.html - implementation in sci-py (which is what you should really use for this type of problem - scipy's ode solver)\n",
    "\n",
    "\n",
    "In this lecture activity: You're going to \n",
    "- practice writing a function from a function description \n",
    "- practice turning a bit of math into an iterative function\n",
    "- practice calling functions from functions\n",
    "\n",
    "\n",
    "Note: You can write the entire solver in one function. But that's a) rather hard to debug and b) can result in making the most common mistake with iterative functions - not computing the new values from the old ones."
   ]
  },
  {
   "cell_type": "code",
   "execution_count": null,
   "metadata": {},
   "outputs": [],
   "source": [
    "# Doing the imports for you\n",
    "import numpy as np\n",
    "import matplotlib.pyplot as plt"
   ]
  },
  {
   "cell_type": "markdown",
   "metadata": {
    "deletable": false,
    "editable": false
   },
   "source": [
    "## First function - compute the new prey value from the prey and predator\n",
    "\n",
    "Function input: \n",
    "- current prey value (number)\n",
    "- current predator value (number)\n",
    "- the parameters as a dictionary (see calling function code)\n",
    "\n",
    "Output\n",
    "- New prey value (number)\n",
    "\n",
    "Equation:\n",
    "- dprey/dt = \"Prey reproduce\" * prey - \"Prey eaten\" * prey * predator\n",
    "- prey = prey + delta_t * dprey/dt\n",
    "\n",
    "Function name: Use **compute_prey_from_prey_and_predator**"
   ]
  },
  {
   "cell_type": "code",
   "execution_count": null,
   "metadata": {
    "tags": [
     "otter_answer_cell"
    ]
   },
   "outputs": [],
   "source": [
    "\n",
    "# TODO: Fill in the parameters (see description above). Don't forget to comment what the input paramters are\n",
    "def compute_prey_from_prey_and_predator():\n",
    "    # TODO: Calculate the new prey value from the input prey/predator values and delta t (see equation in the cell above)\n",
    "    #  Note: To get, eg, the \"Prey reproduce\" value use params[\"Prey reproduce\"].\n",
    "    pass"
   ]
  },
  {
   "cell_type": "code",
   "execution_count": null,
   "metadata": {
    "tags": [
     "otter_answer_cell"
    ]
   },
   "outputs": [],
   "source": [
    "# Test code\n",
    "# Tie the number of time steps to the total number of days\n",
    "delta_t = 0.1\n",
    "n_days = 40\n",
    "n_time_steps = int(n_days / delta_t)\n",
    "# Store everything you need to compute the system in the one dictionary\n",
    "params = {\"Prey reproduce\":1.0,\n",
    "          \"Prey eaten\":0.02,\n",
    "          \"Predator loss\":1.2,\n",
    "          \"Predator reproduce\":0.03,\n",
    "          \"delta t\": delta_t,   # unit: days\n",
    "          \"n days\": n_days,     # unit: days\n",
    "          \"n time steps\": n_time_steps}\n",
    "\n",
    "prey_initial = 100\n",
    "predator_initial = 100\n",
    "\n",
    "prey_new = compute_prey_from_prey_and_predator(prey=prey_initial, predator=predator_initial, params=params)\n",
    "\n",
    "print(f\"Checking prey new {prey_new}, should be 90\")"
   ]
  },
  {
   "cell_type": "code",
   "execution_count": null,
   "metadata": {
    "deletable": false,
    "editable": false
   },
   "outputs": [],
   "source": [
    "grader.check(\"prey_from_prey_and_predator\")"
   ]
  },
  {
   "cell_type": "markdown",
   "metadata": {
    "deletable": false,
    "editable": false
   },
   "source": [
    "## Second function (predator)\n",
    "\n",
    "Compute the new predator value from the prey and predator.\n",
    "\n",
    "Input: \n",
    "- Current prey value (number)\n",
    "- current predator value (numer)\n",
    "- the parameters as a dictionary (see calling function)\n",
    "\n",
    "Output: \n",
    "- New predator value (number)\n",
    "\n",
    "Equation:\n",
    "- dpredator/dt = - \"Predator loss\" * predator + \"Predator reproduce\" * prey * predator\n",
    "- predator = predator + delta_t * dpredator/dt\n",
    "\n",
    "Function name\n",
    "\n",
    "Use **compute_predator_from_prey_and_predator**\n"
   ]
  },
  {
   "cell_type": "code",
   "execution_count": null,
   "metadata": {
    "tags": [
     "otter_answer_cell"
    ]
   },
   "outputs": [],
   "source": [
    "\n",
    "# TODO: Fill in the parameters (see description above). Don't forget to comment what the input paramters are\n",
    "def compute_predator_from_prey_and_predator():\n",
    "    # TODO: Calculate the new predator value from the input prey/predator values and delta t (see equation)\n",
    "    #  Note: To get, eg, the \"Prey reproduce\" value use params[\"Prey reproduce\"].\n",
    "    pass"
   ]
  },
  {
   "cell_type": "code",
   "execution_count": null,
   "metadata": {
    "tags": [
     "otter_answer_cell"
    ]
   },
   "outputs": [],
   "source": [
    "# Check code - uses parameters defined in question 1\n",
    "predator_new = compute_predator_from_prey_and_predator(prey=prey_initial, predator=predator_initial, params=params)\n",
    "\n",
    "print(f\"Checking predator new {predator_new}, should be 118\")"
   ]
  },
  {
   "cell_type": "code",
   "execution_count": null,
   "metadata": {
    "deletable": false,
    "editable": false
   },
   "outputs": [],
   "source": [
    "grader.check(\"predator_from_prey_and_predator\")"
   ]
  },
  {
   "cell_type": "markdown",
   "metadata": {
    "deletable": false,
    "editable": false
   },
   "source": [
    "# Third function (call both)\n",
    "\n",
    "Put the two functions together.\n",
    "\n",
    "Input: \n",
    "- Current prey value (number)\n",
    "- current predator value (numer), the parameters as a dictionary (see calling function)\n",
    "\n",
    "Output: New prey, predator values (tuple)\n",
    "\n",
    "Functionality: Should just call the two functions, one after the other\n",
    "\n",
    "Function name: use **compute_one_time_step**\n",
    "\n",
    "TODO: Once you have this working correctly make one small change - use the new prey value you calculate in the call to calculate the predator value (instead of the input prey value). How much is the result off by? This is a really, really common error and one that is difficult to catch. By writing the code this way (two functions, then calling one function after the other) you're less likely to make that mistake in the first place\n",
    "\n",
    "Don't forget to put it back to the correct answer"
   ]
  },
  {
   "cell_type": "code",
   "execution_count": null,
   "metadata": {
    "tags": [
     "otter_answer_cell"
    ]
   },
   "outputs": [],
   "source": [
    "...\n",
    "\n",
    "# TODO: Fill in the parameters (see description above). Don't forget to comment what the input paramters are\n",
    "def compute_one_time_step():\n",
    "    # TODO: Calculate the new prey/predator values from the input prey/predator values and delta t (see equation)\n",
    "    # Do NOT re-write the equations - call the functions you already wrote\n",
    "    pass"
   ]
  },
  {
   "cell_type": "code",
   "execution_count": null,
   "metadata": {
    "tags": [
     "otter_answer_cell"
    ]
   },
   "outputs": [],
   "source": [
    "# Test code\n",
    "prey_new2, predator_new2 = compute_one_time_step(prey_initial, predator_initial, params)\n",
    "\n",
    "print(f\"Checking prey new {prey_new2}, should be 90 predator new {predator_new2}, should be 118\")"
   ]
  },
  {
   "cell_type": "code",
   "execution_count": null,
   "metadata": {
    "deletable": false,
    "editable": false
   },
   "outputs": [],
   "source": [
    "grader.check(\"compute_one_time_step\")"
   ]
  },
  {
   "cell_type": "markdown",
   "metadata": {
    "deletable": false,
    "editable": false
   },
   "source": [
    "## Hours and collaborators\n",
    "Required for every assignment - fill out before you hand-in.\n",
    "\n",
    "Listing names and websites helps you to document who you worked with and what internet help you received in the case of any plagiarism issues. You should list names of anyone (in class or not) who has substantially helped you with an assignment - or anyone you have *helped*. You do not need to list TAs.\n",
    "\n",
    "Listing hours helps us track if the assignments are too long."
   ]
  },
  {
   "cell_type": "code",
   "execution_count": null,
   "metadata": {
    "tags": [
     "otter_answer_cell"
    ]
   },
   "outputs": [],
   "source": [
    "\n",
    "# List of names (creates a set)\n",
    "worked_with_names = {\"not filled out\"}\n",
    "# List of URLS 2U5 (creates a set)\n",
    "websites = {\"not filled out\"}\n",
    "# Approximate number of hours, including lab/in-class time\n",
    "hours = -1.5"
   ]
  },
  {
   "cell_type": "code",
   "execution_count": null,
   "metadata": {
    "deletable": false,
    "editable": false
   },
   "outputs": [],
   "source": [
    "grader.check(\"hours_collaborators\")"
   ]
  },
  {
   "cell_type": "markdown",
   "metadata": {},
   "source": [
    "### To submit\n",
    "\n",
    "Did you remember to restart and run all then save?\n",
    "\n",
    "- Submit just this .ipynb file through gradescope, Lecture activity 5 predator prey\n",
    "\n",
    "If the Gradescope autograder fails, please check here first for common reasons for it to fail\n",
    "    https://docs.google.com/presentation/d/1tYa5oycUiG4YhXUq5vHvPOpWJ4k_xUPp2rUNIL7Q9RI/edit?usp=sharing\n",
    "\n",
    "On rare occaisions, if you spend too much time computing the Gradescope grader will time out. If this happens to you, try reducing the number of iterations. "
   ]
  }
 ],
 "metadata": {
  "kernelspec": {
   "display_name": "Python 3",
   "language": "python",
   "name": "python3"
  },
  "language_info": {
   "codemirror_mode": {
    "name": "ipython",
    "version": 3
   },
   "file_extension": ".py",
   "mimetype": "text/x-python",
   "name": "python",
   "nbconvert_exporter": "python",
   "pygments_lexer": "ipython3",
   "version": "3.11.7"
  },
  "otter": {
   "OK_FORMAT": true,
   "tests": {
    "compute_one_time_step": {
     "name": "compute_one_time_step",
     "points": 1,
     "suites": [
      {
       "cases": [
        {
         "code": ">>> assert np.isclose(prey_new, prey_new2)\n",
         "hidden": false,
         "locked": false
        },
        {
         "code": ">>> assert np.isclose(predator_new, predator_new2)\n",
         "hidden": false,
         "locked": false
        }
       ],
       "scored": true,
       "setup": "",
       "teardown": "",
       "type": "doctest"
      }
     ]
    },
    "hours_collaborators": {
     "name": "hours_collaborators",
     "points": 1,
     "suites": [
      {
       "cases": [
        {
         "code": ">>> assert not 'not filled out' in worked_with_names\n",
         "hidden": false,
         "locked": false
        },
        {
         "code": ">>> assert not 'not filled out' in websites\n",
         "hidden": false,
         "locked": false
        },
        {
         "code": ">>> assert hours > 0\n",
         "hidden": false,
         "locked": false
        }
       ],
       "scored": true,
       "setup": "",
       "teardown": "",
       "type": "doctest"
      }
     ]
    },
    "predator_from_prey_and_predator": {
     "name": "predator_from_prey_and_predator",
     "points": 2,
     "suites": [
      {
       "cases": [
        {
         "code": ">>> assert np.isclose(predator_new, 118)\n",
         "hidden": false,
         "locked": false
        }
       ],
       "scored": true,
       "setup": "",
       "teardown": "",
       "type": "doctest"
      }
     ]
    },
    "prey_from_prey_and_predator": {
     "name": "prey_from_prey_and_predator",
     "points": 2,
     "suites": [
      {
       "cases": [
        {
         "code": ">>> assert np.isclose(prey_new, 90)\n",
         "hidden": false,
         "locked": false
        }
       ],
       "scored": true,
       "setup": "",
       "teardown": "",
       "type": "doctest"
      }
     ]
    }
   }
  }
 },
 "nbformat": 4,
 "nbformat_minor": 2
}
