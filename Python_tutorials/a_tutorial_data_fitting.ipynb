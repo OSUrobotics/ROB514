{
 "cells": [
  {
   "cell_type": "markdown",
   "metadata": {},
   "source": [
    "## Data fitting\n",
    "Generate \"fake\" data, then use a scipy library to fit a model to that data\n",
    "\n",
    "More practice with plotting, numpy arrays"
   ]
  },
  {
   "cell_type": "code",
   "execution_count": null,
   "metadata": {},
   "outputs": [],
   "source": [
    "# We'll need a new library - scipy\n",
    "import numpy as np\n",
    "import matplotlib.pyplot as plt\n",
    "\n",
    "# Just using this method, so just import this one thing (linear regression)\n",
    "from scipy.stats import linregress"
   ]
  },
  {
   "cell_type": "markdown",
   "metadata": {},
   "source": [
    "# Function to create the data"
   ]
  },
  {
   "cell_type": "code",
   "execution_count": null,
   "metadata": {},
   "outputs": [],
   "source": [
    "# Generate fake data - I've written this function to generate data of the form y = m x + b - and add noise\n",
    "#  to the output (y). This is meant to model some real-world process where you're sampling linear data.\n",
    "\n",
    "def make_up_linear_data(m=0.5, b=0.25, x_range=(0, 1), n_samples=100, noise_sd = 0.2):\n",
    "    \"\"\" Generate y = mx + b data, over the given x range, and with the added (Gaussian) noise\n",
    "    @param m - slope of regression function\n",
    "    @param b - intercept of regression function\n",
    "    @param x_range - use x values in this range (input is a tuple)\n",
    "    @param n_samples - number of samples to generate\n",
    "    @param noise_sd - standard deviation of Gaussian noise (no mean-shift\n",
    "    @returns two arrays, x and y, each of length n_samples, as a tuple\"\"\"\n",
    "\n",
    "    # Use uniform here because we want a relatively even distribution of samples in the x direction\n",
    "    x_vals = np.random.uniform(x_range[0], x_range[1], n_samples)\n",
    "    # Generate y values from x using the equation\n",
    "    y_vals = m * x_vals + b\n",
    "\n",
    "    # Add noise\n",
    "    y_vals += np.random.normal(loc=0.0, scale=noise_sd, size=n_samples)\n",
    "\n",
    "    # This returns a tuple with two numpy arrays in it - you can put in the parenthesis, but you don't need to\n",
    "    return x_vals, y_vals\n"
   ]
  },
  {
   "cell_type": "markdown",
   "metadata": {},
   "source": [
    "# Plot the data\n",
    "\n",
    "To check: Does the black line cross the x=0 line at 0.2? Is the rise over the run 0.75? \n",
    "\n",
    "TODO: Try changing the amount of noise, and see how that changes the scatter plot"
   ]
  },
  {
   "cell_type": "code",
   "execution_count": null,
   "metadata": {},
   "outputs": [],
   "source": [
    "# First step, always: Plot your data\n",
    "# I'm declaring variables here because we want to use the values later\n",
    "my_slope = 0.75\n",
    "my_intercept = 0.2\n",
    "my_x_range = (-0.5, 0.5)\n",
    "x, y = make_up_linear_data(m=my_slope, b=my_intercept, x_range=my_x_range, noise_sd=0.1)\n",
    "\n",
    "# Plot the line the data came from (since we know what it is)\n",
    "#  Note the cast from a tuple (my_x_range) to a numpy array so that m * x + b happens for all elements of my_x_range\n",
    "plt.plot(my_x_range, my_slope * np.array(my_x_range) + my_intercept, '-k', label=\"Expected line\")\n",
    "\n",
    "# Use a scatter plot because the data isn't in any order\n",
    "plt.scatter(x, y, label=\"Data\")\n",
    "\n",
    "# This is always a good idea if your axes have geometric meaning - i.e., if you're plotting a circle, this\n",
    "#   will make sure the circle is, well, a circle and not an oval\n",
    "# In this case, this lets us check that the slope of the data is correct by eye-balling the data\n",
    "plt.axis('equal')\n",
    "\n",
    "plt.legend()\n",
    "plt.show()"
   ]
  },
  {
   "cell_type": "markdown",
   "metadata": {},
   "source": [
    "# Fit the data\n",
    "\n",
    "Now do the actual \"fit\" to the noisy data and plot the results\n",
    "See https://docs.scipy.org/doc/scipy/reference/generated/scipy.stats.linregress.html\n",
    "\n",
    "This function returns a LOT of parameters. Older versions of scipy will return a tuple, and you have to \"know\"\n",
    "the order of the return values; newer versions return an object with named variables\n",
    "\n",
    "Print out how good the fit was - you should always check that r and p are \"reasonable\", and that stderr is not too big, relative to your data.\n",
    "\n",
    "This is a light-hearted take on linear regression and r, p values: https://thestatsninja.com/2018/11/07/the-analytics-pain-part-3-interpreting-p-values-with-linear-regression/\n",
    "\n",
    "TODO: Go look at the documentation for the linregress function and match inputs to outputs"
   ]
  },
  {
   "cell_type": "code",
   "execution_count": null,
   "metadata": {},
   "outputs": [],
   "source": [
    "# Old-school tuple, with unpacking\n",
    "ret_slope, ret_intercept, ret_rvalue, ret_pvalue, ret_se = linregress(x, y)\n",
    "print(f\"Original slope: {my_slope} and intercept {my_intercept}\")\n",
    "print(f\"Returned slope: {ret_slope}, intercept {ret_intercept}, stderr {ret_se}\")"
   ]
  },
  {
   "cell_type": "code",
   "execution_count": null,
   "metadata": {},
   "outputs": [],
   "source": [
    "# New version, with spiffy names - see the .xxx\n",
    "ret_results = linregress(x, y)\n",
    "print(f\"Original slope: {my_slope} and intercept {my_intercept}\")\n",
    "print(f\"Returned slope: {ret_results.slope}, intercept {ret_results.intercept}, stderr {ret_results.stderr}\")"
   ]
  },
  {
   "cell_type": "markdown",
   "metadata": {},
   "source": [
    "# Plot the fitted line\n",
    "\n",
    "TODO Try changing the noise added and re-run the fit and plot - how does the standard error vary as you vary the noise? If you eye-ball the plot, is the standard error about what you would expect based on the average distance of the points from the fitted line?"
   ]
  },
  {
   "cell_type": "code",
   "execution_count": null,
   "metadata": {},
   "outputs": [],
   "source": [
    "# Plot the line the data came from (since we know what it is)\n",
    "plt.plot(my_x_range, my_slope * np.array(my_x_range) + my_intercept, '-k', label=\"Expected line\")\n",
    "\n",
    "# Use a scatter plot because the data isn't in any order\n",
    "plt.scatter(x, y, label=\"Data\")\n",
    "\n",
    "# Plot the fitted line (using new spiffy names)\n",
    "# TODO make sure you understand how the line segment is generated for drawing\n",
    "plt.plot(my_x_range, ret_results.slope * np.array(my_x_range) + ret_results.intercept, '--g', linewidth=3, label=\"Fitted line\")\n",
    "\n",
    "plt.axis('equal')\n",
    "\n",
    "plt.legend()\n",
    "plt.show()"
   ]
  }
 ],
 "metadata": {
  "kernelspec": {
   "display_name": "Python 3",
   "language": "python",
   "name": "python3"
  },
  "language_info": {
   "codemirror_mode": {
    "name": "ipython",
    "version": 3
   },
   "file_extension": ".py",
   "mimetype": "text/x-python",
   "name": "python",
   "nbconvert_exporter": "python",
   "pygments_lexer": "ipython3",
   "version": "3.11.4"
  }
 },
 "nbformat": 4,
 "nbformat_minor": 2
}
