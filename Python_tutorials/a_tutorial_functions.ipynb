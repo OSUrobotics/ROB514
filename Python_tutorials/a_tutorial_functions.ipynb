{
 "cells": [
  {
   "cell_type": "markdown",
   "metadata": {},
   "source": [
    "# Functions\n",
    "\n",
    "First concept: All of the data/variables/inputs are passed INTO the function. You can create as many variables in the function as you want, but only the values/data in the return statement are returned to the calling function\n",
    "\n",
    "Implications:\n",
    "\n",
    "When you are designing your function you should mentally (or on paper) write down\n",
    "- Input: What data do you need?\n",
    "- Output: What data are you going to return:\n",
    "- Body of function: How is the output related to the input?\n",
    "- Mathematical function\n",
    " - Data manipulation (eg, reorganize the data into a dictionary, sort it, etc)\n",
    " - Classification/Decision making (eg, does the data contain a zero? How many 1's in the data, etc)\n",
    "- Practical: Scoping. The variables IN the function are not the same as the variables OUTSIDE the function - even if they have the same name. One way to think about it is that every variable in the function is actually called **func_name.a**, not **a** - and every variable outside the function is called **global.a**, not **a**.\n",
    "\n",
    "This isn't quite true, but it's pretty close\n"
   ]
  },
  {
   "cell_type": "code",
   "execution_count": 2,
   "metadata": {},
   "outputs": [],
   "source": [
    "# Don't forget the imports\n",
    "import numpy as np"
   ]
  },
  {
   "cell_type": "code",
   "execution_count": null,
   "metadata": {},
   "outputs": [],
   "source": [
    "# TODO We will come back to this later - this SHOULD fail the first time you execute this because, well, the variable\n",
    "# doesn't exist.\n",
    "print(f\"{a_global_variable}\")"
   ]
  },
  {
   "cell_type": "markdown",
   "metadata": {},
   "source": [
    "## Function definition\n",
    "\n",
    "It's a good idea to put each function in its own cell, and to put all of the functions at the top of the JN.\n",
    "\n",
    "In this case, we're going to put the function here and the \"test\" code in the following cell"
   ]
  },
  {
   "cell_type": "code",
   "execution_count": 4,
   "metadata": {},
   "outputs": [],
   "source": [
    "# First try it and see: input --- output, scope of variables in a function versus not\n",
    "def func_calc_min_max(data):\n",
    "    \"\"\" Return the min and max of the data array\n",
    "    @param data - a numpy array with some numbers in it\n",
    "    @returns min_value, max_value of the numpy array\"\"\"\n",
    "    min_value = np.min(data)\n",
    "    max_value = np.max(data)\n",
    "\n",
    "    # TODO: Uncomment the following line. What error does this generate, and why? Where is it generated?\n",
    "    #   Hint: where is my_data defined?\n",
    "    # m_v = np.min(my_data)\n",
    "    return min_value, max_value"
   ]
  },
  {
   "cell_type": "code",
   "execution_count": null,
   "metadata": {},
   "outputs": [],
   "source": [
    "# Calling function - note that it's really a terrible idea to have code like this at the \"top\"/global level, but\n",
    "#   I'm trying to keep things simple\n",
    "my_data = np.random.uniform(-0.2, 0.6, (100, 2))  # Generate some random numbers between -0.2 and 0.6\n",
    "\n",
    "out_min, out_max = func_calc_min_max(my_data)\n",
    "print(f\"Output {out_min} {out_max}\")"
   ]
  },
  {
   "cell_type": "markdown",
   "metadata": {},
   "source": [
    "TODO 1: Try changing the # todo in the func_calc_min_max cell, then re-evalute both the function and the code that calls it. What happened? Why? Put it back the way it was before doing the next TODO"
   ]
  },
  {
   "cell_type": "code",
   "execution_count": null,
   "metadata": {},
   "outputs": [],
   "source": [
    "# TODO 2: Try the following line. What error does this generate, and why?\n",
    "#   Hint: What happens to variables in func_calc_min_max when the function exits? Do min_value and max_value exist\n",
    "#.   outside of func_calc_min_max?\n",
    "print(f\"Min value {min_value}, max_value {max_value}\")"
   ]
  },
  {
   "cell_type": "code",
   "execution_count": null,
   "metadata": {},
   "outputs": [],
   "source": [
    "# This doesn't generate an error. What happened to the min/max return value? See hint above\n",
    "func_calc_min_max(my_data)"
   ]
  },
  {
   "cell_type": "code",
   "execution_count": null,
   "metadata": {},
   "outputs": [],
   "source": [
    "# This will fail with the first common error you get with functions - incorrect number of parameters\n",
    "#  TODO: To fix, you need to pass it only 1 argument, not 2... but the real question usually is: Why did I think it needed\n",
    "#    2 parameters?\n",
    "func_calc_min_max(my_data, 3)"
   ]
  },
  {
   "cell_type": "code",
   "execution_count": 18,
   "metadata": {},
   "outputs": [],
   "source": [
    "# A function that will tell you that data is the \"wrong\" type\n",
    "def func_calc_min_max_with_check(data):\n",
    "    \"\"\" Return the min and max of the data array\n",
    "    @param data - a numpy array with some numbers in it\n",
    "    @returns min_value, max_value of the numpy array\"\"\"\n",
    "    try:\n",
    "        min_value = np.min(data)\n",
    "        max_value = np.max(data)\n",
    "    except:\n",
    "        min_value = 0\n",
    "        max_value = 0\n",
    "        print(f\"Expected data to be of type numpy, but it wasn't\")\n",
    "\n",
    "    return min_value, max_value"
   ]
  },
  {
   "cell_type": "code",
   "execution_count": null,
   "metadata": {},
   "outputs": [],
   "source": [
    "# This will fail with the second common error you get with functions - incorrect paramter type\n",
    "#  TODO: Look at the modified func_calc_min_max_with_check code above - see the \"try\" \"except\"? This\n",
    "#    was added to provide you (the user) with some idea of what went wrong before you get too far into the\n",
    "#    actual function\n",
    "func_calc_min_max_with_check(\"my_data\")"
   ]
  },
  {
   "cell_type": "code",
   "execution_count": null,
   "metadata": {},
   "outputs": [],
   "source": [
    "# This is what happens \n",
    "#  TODO: Scroll through the (very lengthy) error message below. Notice the first green arrow - that is where in the previous \n",
    "#    cell the error ocurred. \n",
    "#         Find the second arrow - this is the line in func_calc_min_max that the error occured... But that line of code is not wrong... \n",
    "#        Scroll a bit further down and you'll see another File ... - this is the numpy min function\n",
    "#     There's yet another arrow below that - this is where in min it actually made the error.\n",
    "#     This line is a rather uninformative UFuncTypeError - which is a fancy way of saying \"that data type doesn't work\"\n",
    "func_calc_min_max(\"my_data\")"
   ]
  },
  {
   "cell_type": "markdown",
   "metadata": {},
   "source": [
    "# Parameter passing\n",
    "\n",
    "Python's input paramter specification and parameter passing is very sophisticated. One of the best things about Python is that you can directly assign variables to parameters by name. Side-stepping all of the fancy things you can do, I'd recommend the following two rules:\n",
    "\n",
    "- If the function only has one parameter, just pass it in (see example above)\n",
    "- If the function has more than one parameter, use pass by name.\n",
    " - Why: One of the most common (and sometimes difficult) to debug problems is that you *thought* you were passing zero to the **x** parameter, but you actually sent it to the **y** one..\n"
   ]
  },
  {
   "cell_type": "code",
   "execution_count": null,
   "metadata": {},
   "outputs": [],
   "source": [
    "# Next try it and see, parameter ordering\n",
    "def func_lots_of_params(a, b, c):\n",
    "    \"\"\" Function with three parameters\n",
    "    @param a - should be a string\n",
    "    @param b - should be a list\n",
    "    @param c - should be a dictionary\n",
    "    @return None - no return value\"\"\"\n",
    "\n",
    "    print(\"a should be a string: convert to upper case \" + a.upper())\n",
    "\n",
    "    print(f\"b has {len(b)} elements\")\n",
    "    for i, b_elem in enumerate(b):\n",
    "        print(f\"{i}th element of b is {b_elem}, should be {b[i]}\")\n",
    "\n",
    "    for k, v in c.items():\n",
    "        print(f\"key {k} has value {v}\")\n",
    "    return None\n"
   ]
  },
  {
   "cell_type": "markdown",
   "metadata": {},
   "source": [
    "Now call that function with the \"correct\" parameters..."
   ]
  },
  {
   "cell_type": "code",
   "execution_count": null,
   "metadata": {},
   "outputs": [],
   "source": [
    "a_string = \"Hello, I'm a string\"\n",
    "b_list = [3.0, \"hi\", 10.0]\n",
    "c_dict = {\"key 1\":\"value 1\", \"Key 2\":0.3}\n",
    "\n",
    "# This one works and does what you expect (prints out the values of the variables)\n",
    "func_lots_of_params(a_string, b_list, c_dict)\n"
   ]
  },
  {
   "cell_type": "markdown",
   "metadata": {},
   "source": [
    "Now call that function with the \"incorrect\" parameters..."
   ]
  },
  {
   "cell_type": "code",
   "execution_count": null,
   "metadata": {},
   "outputs": [],
   "source": [
    "# TODO: Try this one and see if you can predict what error will be generated. \n",
    "#   Hint: does a list have an \"upper\" method like a string does?\n",
    "func_lots_of_params(b_list, a_string, c_dict)"
   ]
  },
  {
   "cell_type": "markdown",
   "metadata": {},
   "source": [
    "To prevent this problem you can use pass by parameter name - note that the parameters do NOT need to be in the\n",
    "correct order! (Although you probably do want to keep the order the same, anyways...)"
   ]
  },
  {
   "cell_type": "code",
   "execution_count": null,
   "metadata": {},
   "outputs": [],
   "source": [
    "# TODO: Rearrange the parameter order - does is matter? What happens if you take out one of the a=?\n",
    "func_lots_of_params(a=a_string, c=c_dict, b=b_list)"
   ]
  },
  {
   "cell_type": "code",
   "execution_count": null,
   "metadata": {},
   "outputs": [],
   "source": [
    "# You don't have to set the parameters to variables, either, you can just set them to values:\n",
    "func_lots_of_params(a=\"mystring\", b=[0.2, 0.3], c={\"as\":0.2, \"bs\":0.3})"
   ]
  },
  {
   "cell_type": "markdown",
   "metadata": {},
   "source": [
    "# Global variables and breaking function encapsulation\n",
    "\n",
    "Also known as: Why I dislike Jupyter Notebooks and writing code not inside of functions\n",
    "\n",
    "It can be really tempting to use global variables rather than passing values in as parameters. Saves typing, but will almost always lead to debugging headaches. "
   ]
  },
  {
   "cell_type": "code",
   "execution_count": null,
   "metadata": {},
   "outputs": [],
   "source": [
    "# Every variable declared like this is accessible *everywhere* after it's declared. Really crazy, if you execute \n",
    "#.  this cell here, then go up to the top of the file and add a cell that has in it\n",
    "#.  print(f\"{a_global_variable}\")\n",
    "# .. it will work. Why? \n",
    "a_global_variable = 3.0\n",
    "\n",
    "# TODO: Execute this cell then go to the top of the file and try the print statement - did it work?\n",
    "#. Should it, really?\n",
    "#.  What happens if you do \"Kernel -> Restart and run all - will it still work? \""
   ]
  },
  {
   "cell_type": "markdown",
   "metadata": {},
   "source": [
    "TODO: Execute the next two cells. This works - because **a_global_variable** is defined above - and when you call *func_bad_use_global_variable* is uses that variable"
   ]
  },
  {
   "cell_type": "code",
   "execution_count": 20,
   "metadata": {},
   "outputs": [],
   "source": [
    "def func_bad_use_global_variable(a_np_array):\n",
    "    \"\"\" Multiply the numpy array by the global variable\n",
    "    @param a_np_array - a numpy array\n",
    "    @return a numpy array\"\"\"\n",
    "    print(f\"Global variable {a_global_variable}\")\n",
    "    return a_np_array * a_global_variable\n"
   ]
  },
  {
   "cell_type": "code",
   "execution_count": null,
   "metadata": {},
   "outputs": [],
   "source": [
    "a_np_array = np.linspace(0, 1, 6)\n",
    "b_output_array = func_bad_use_global_variable(a_np_array)\n",
    "print(f\"Does what is expected {b_output_array}\")\n",
    "\n",
    "a_global_variable = 10"
   ]
  },
  {
   "cell_type": "markdown",
   "metadata": {},
   "source": [
    "Ok, technically this IS doing what is expected - unless you didn't notice that **a_global_variable** was set to 10 in the previous cell... what if you thought it was still set to 3 like it was in the initial declaration?"
   ]
  },
  {
   "cell_type": "code",
   "execution_count": null,
   "metadata": {},
   "outputs": [],
   "source": [
    "# TODO: Understand why this call returns different values than the previous one\n",
    "b_output_array_bad = func_bad_use_global_variable(a_np_array)\n",
    "print(f\"Oops: new output array {b_output_array_bad}\")"
   ]
  }
 ],
 "metadata": {
  "kernelspec": {
   "display_name": "base",
   "language": "python",
   "name": "python3"
  },
  "language_info": {
   "codemirror_mode": {
    "name": "ipython",
    "version": 3
   },
   "file_extension": ".py",
   "mimetype": "text/x-python",
   "name": "python",
   "nbconvert_exporter": "python",
   "pygments_lexer": "ipython3",
   "version": "3.12.4"
  }
 },
 "nbformat": 4,
 "nbformat_minor": 2
}
