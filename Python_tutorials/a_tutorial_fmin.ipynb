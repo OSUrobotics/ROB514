{
 "cells": [
  {
   "cell_type": "markdown",
   "metadata": {},
   "source": [
    "# Optimization\n",
    "\n",
    "There are many engineering problems that can be expressed as an optimization of parameters to minimize/maximize some function. \n",
    "\n",
    "**Cute trick: You can turn any maximization problem into a minimization one by multiplying by -1... **\n",
    "\n",
    "For example, what angle should you put the wind turbine blades if the wind is blowing at 30 mph if you want to maximize energy output? \n",
    "\n",
    "Optimization assumes you have some function/simulation you can run that will output the amount of energy produced given the angle and the wind speed. Then it's a \"search\" for the angle that maximizes the energy produced. The simplest form of search is gradient descent.\n",
    "\n",
    "In this tutorial we'll focus on the mechanics of setting up the search using a quadratic function (find **x** given **f(x)**) and a 2D parameter search (find **x,y** given **f(x,y)**). The **f** is just a generic function that you could solve for analytically; but pretend it's some complicated bit of code that simulates some system."
   ]
  },
  {
   "cell_type": "code",
   "execution_count": null,
   "metadata": {},
   "outputs": [],
   "source": [
    "# Our usual imports\n",
    "import numpy as np\n",
    "import matplotlib.pyplot as plt\n",
    "\n",
    "# New scipy import that finds the minima of a function\n",
    "from scipy.optimize import fmin\n",
    "# A helper function that \"binds\" variables\n",
    "from functools import partial\n"
   ]
  },
  {
   "cell_type": "code",
   "execution_count": null,
   "metadata": {},
   "outputs": [],
   "source": [
    "# A generic function that we want to find the minimum of\n",
    "def my_func(x):\n",
    "    \"\"\"A quadratic function\n",
    "    @param x the input x value\n",
    "    @returns f(x)\"\"\"\n",
    "    return (x-2)**2 - 3"
   ]
  },
  {
   "cell_type": "markdown",
   "metadata": {},
   "source": [
    "## Use fmin to find the minimum of my_func\n",
    "\n",
    "The _ says ignore that returned value\n",
    "\n",
    "See https://docs.scipy.org/doc/scipy/reference/generated/scipy.optimize.fmin.html for what the remaining values are\n",
    "\n",
    "Note that **x_at_min** is a list - in this case, a list of dimension 1\n",
    "\n",
    "The **full_output=True** prints out the optimization result to the console\n",
    "\n",
    "TODO: look in the list of parameters for fmin to find how to control the desired accuracy of the answer and how many iterations to try"
   ]
  },
  {
   "cell_type": "code",
   "execution_count": null,
   "metadata": {},
   "outputs": [],
   "source": [
    "# The fmin call\n",
    "x_at_min, f_at_x_min, _, _, _ = fmin(my_func, x0=0.2, maxfun=100, full_output=True)\n",
    "\n",
    "# Notice the [0] to get the first element out of the x list\n",
    "print(f\"Minimum of f is {f_at_x_min}, happens at x={x_at_min[0]}\")\n",
    "print(f\"Checking fmin result {f_at_x_min} against func eval {my_func(x_at_min[0])}\")"
   ]
  },
  {
   "cell_type": "code",
   "execution_count": null,
   "metadata": {},
   "outputs": [],
   "source": [
    "# Plot the function and the result\n",
    "fig, axs = plt.subplots(1, 1, figsize=(4, 4))\n",
    "ts = np.linspace(-1.0, 3.0)\n",
    "axs.plot(ts, my_func(ts), '-k', label='Quadratic')\n",
    "axs.plot(x_at_min, f_at_x_min, 'Xr')\n",
    "axs.set_xlabel('x')\n",
    "axs.set_ylabel('y')\n",
    "axs.axis('equal')\n",
    "axs.set_title(\"Minimum of quadratic\")"
   ]
  },
  {
   "cell_type": "markdown",
   "metadata": {},
   "source": [
    "## Example with parameters\n",
    "\n",
    "Now going to do the same thing, but with the equation having parameters that get set, and using fmin's ability to pass parameters in to make this a general search over any parabola"
   ]
  },
  {
   "cell_type": "code",
   "execution_count": null,
   "metadata": {},
   "outputs": [],
   "source": [
    "# A generic function that we want to find the minimum of\n",
    "def my_func_with_params(x, a, b, c):\n",
    "    \"\"\"A quadratic function a x^2 + bx + c\n",
    "    @param x the input x value\n",
    "    @param a a x^2\n",
    "    @param b bx\n",
    "    @param c c\n",
    "    @returns a x^2 + bx + c\"\"\"\n",
    "    return a * x**2 + b * x + c"
   ]
  },
  {
   "cell_type": "markdown",
   "metadata": {},
   "source": [
    "## Passing parameters to your function through fmin\n",
    "\n",
    "Because the function **my_func_with_params** definition has all these three extra parameters that control the shape of the quadratic (**a, b, c**), we have do what's called \"binding\" the variables to values, in this case **a = 3, b = 2, c = -16**\n",
    "\n",
    "We're going to do this in two ways; one is using Python's **lambda** functionality to create a new (unnamed) function that only takes in one parameter. The second is passing the paramters through to **my_func_with_params** using **fmin's** **args** option."
   ]
  },
  {
   "cell_type": "markdown",
   "metadata": {},
   "source": [
    "## With lambda...\n",
    "**fmin** takes a function that takes in one argument (a list of dimension d) and outputs one number. Our **my_func_with_params** function currently takes in **x, a, b, c**, not **x**.\n",
    "\n",
    "**Lambda** functions fix that: In this case, **lambda** says make a new (temporary, unnamed function) that takes in one parameter (**array**) and calls **my_func_with_params** with **x**\n",
    "\n",
    "Notice this time we saved the returned tuple to result, rather than unpacking it"
   ]
  },
  {
   "cell_type": "code",
   "execution_count": null,
   "metadata": {},
   "outputs": [],
   "source": [
    "# the quadratic we want to search for the minimum of\n",
    "a = 3 \n",
    "b = 2\n",
    "c = -16\n",
    "result = fmin(lambda x: my_func_with_params(x, a=a, b=b, c=c), x0=0, maxfun=200, full_output=True)\n",
    "print(result)\n",
    "print(f\"Function minimum is {result[1]}, found at x {result[0]}\")"
   ]
  },
  {
   "cell_type": "code",
   "execution_count": null,
   "metadata": {},
   "outputs": [],
   "source": [
    "# Breaking this down a little - you use lambda functions so you don't *have* to name the function, \n",
    "# but we can go ahead and name it\n",
    "\n",
    "my_func_no_params = lambda x: my_func_with_params(x, a=a, b=b, c=c)\n",
    "\n",
    "# These are exactly the same\n",
    "res_1 = my_func_with_params(x=0.0, a=a, b=b, c=c)\n",
    "res_2 = my_func_no_params(x=0.0)\n",
    "\n",
    "print(f\"Res_1 {res_1} and res_2 {res_2} are the same\")"
   ]
  },
  {
   "cell_type": "markdown",
   "metadata": {},
   "source": [
    "## Using fmin args\n",
    "Using **fmin**'s args function to pass parameters directly to the function.\n",
    "\n",
    "The fancy term(s) for this is packing and unpacking arguments, but you can think of it as just passing the variables through. A lot of scipy/numpy functions that take functions have this ability."
   ]
  },
  {
   "cell_type": "code",
   "execution_count": null,
   "metadata": {
    "scrolled": true
   },
   "outputs": [],
   "source": [
    "# args must be in the same order as the additional parameters in my_func_with_params\n",
    "#   fmin just \"unpacks\" the tuple into parameters 2,3, and 4 in the function\n",
    "# TODO: Change args so it only has 2 (or 4) things in it (eg, (a,b)). What error message do you get? Why?\n",
    "result = fmin(my_func_with_params, x0=0.0, args=(a, b, c), full_output=True)\n",
    "print(f\"Function minimum is {result[1]}, found at x {result[0]}\")\n",
    "\n",
    "# Error with (a,b):\n",
    "#   TypeError: my_func_with_params() missing 1 required positional argument: 'c'\n",
    "# Error with (a,b,c,4):\n",
    "#   TypeError: my_func_with_params() takes 4 positional arguments but 5 were given"
   ]
  }
 ],
 "metadata": {
  "kernelspec": {
   "display_name": "base",
   "language": "python",
   "name": "python3"
  },
  "language_info": {
   "codemirror_mode": {
    "name": "ipython",
    "version": 3
   },
   "file_extension": ".py",
   "mimetype": "text/x-python",
   "name": "python",
   "nbconvert_exporter": "python",
   "pygments_lexer": "ipython3",
   "version": "3.11.7"
  }
 },
 "nbformat": 4,
 "nbformat_minor": 2
}
