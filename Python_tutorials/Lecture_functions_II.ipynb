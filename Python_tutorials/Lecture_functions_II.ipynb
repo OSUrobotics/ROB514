{
 "cells": [
  {
   "cell_type": "markdown",
   "metadata": {},
   "source": [
    "# Functions, part 2, parameter passing (review)\n",
    "\n",
    "- Call using paramter name\n",
    "- Default parameters"
   ]
  },
  {
   "cell_type": "code",
   "execution_count": 1,
   "metadata": {},
   "outputs": [],
   "source": [
    "def my_func_with_default(a, b=0.2):\n",
    "    \"\"\" A function that calculates a-b\n",
    "    @param a - a number\n",
    "    @param b - a number (default value, 0.2)\n",
    "    @return a-b (also a number)\"\"\"\n",
    "    ret_val = a - b\n",
    "    \n",
    "    return ret_val   "
   ]
  },
  {
   "cell_type": "code",
   "execution_count": null,
   "metadata": {},
   "outputs": [],
   "source": [
    "# Calling the function, using default value\n",
    "ret_using_default_b_value = my_func_with_default(2)   # Uses default (0.2) value for b\n",
    "print(f\"ret_using_default_b_value is {ret_using_default_b_value}\")"
   ]
  },
  {
   "cell_type": "code",
   "execution_count": null,
   "metadata": {},
   "outputs": [],
   "source": [
    "# Calling the function, using pass by parameter\n",
    "ret1 = my_func_with_default(a=2, b=3)\n",
    "print(f\"ret1 is {ret1}\")\n",
    "\n",
    "a_here = 10.2\n",
    "b_here = 12.2\n",
    "# Probably still a good idea to put them in the \"correct\" order, but at least you got b_here assigned to b...\n",
    "ret2 = my_func_with_default(b=b_here, a=a_here)\n",
    "print(f\"ret2 is {ret2}\")"
   ]
  },
  {
   "cell_type": "markdown",
   "metadata": {},
   "source": [
    "# Example: plot functions\n",
    "\n",
    "Plot is a very, very versitile function - it can plot a lot of things and has a lot of \"default\" behavior. It also has a *lot* of parameters that can be set in order to change what happens"
   ]
  },
  {
   "cell_type": "code",
   "execution_count": 4,
   "metadata": {},
   "outputs": [],
   "source": [
    "import matplotlib.pyplot as plt\n",
    "import numpy as np\n",
    "\n",
    "# This \"magic\" command tells matplotlib to make in-line images of plots.\n",
    "%matplotlib inline"
   ]
  },
  {
   "cell_type": "code",
   "execution_count": null,
   "metadata": {},
   "outputs": [],
   "source": [
    "# Give it one list of values and it will plot that with 1,2,3 etc on the x axis\n",
    "t_values = np.linspace(-np.pi, np.pi, num=20)\n",
    "plt.plot(np.sin(t_values))"
   ]
  },
  {
   "cell_type": "code",
   "execution_count": null,
   "metadata": {},
   "outputs": [],
   "source": [
    "#. Or set x and y - notice the x-axis has different values\n",
    "plt.plot(t_values, np.sin(t_values))"
   ]
  },
  {
   "cell_type": "code",
   "execution_count": null,
   "metadata": {},
   "outputs": [],
   "source": [
    "#. Adjust color and line style - the string is a very concise shorthand for - line style, x markers, rec\n",
    "plt.plot(t_values, np.sin(t_values), \"-xr\")"
   ]
  },
  {
   "cell_type": "code",
   "execution_count": null,
   "metadata": {},
   "outputs": [],
   "source": [
    "#. Adjust color and line style - setting each parameter by hand\n",
    "plt.plot(t_values, np.sin(t_values), linestyle='dashed', color='darkred', marker=\"x\", markersize='10')"
   ]
  },
  {
   "cell_type": "markdown",
   "metadata": {},
   "source": [
    "# Functions, part 2, pass by value versus pass by reference\n",
    "\n",
    "- Passing a list or a dictionary does NOT pass a copy"
   ]
  },
  {
   "cell_type": "code",
   "execution_count": 9,
   "metadata": {},
   "outputs": [],
   "source": [
    "def my_func_good(a_list, b):\n",
    "    \"\"\" A function that calculates a*b\n",
    "    @param a_list a list\n",
    "    @param b anything that can multiply the elements in a\n",
    "    @return a list with b * a[i] \"\"\"\n",
    "    \n",
    "    # Correct way to do this\n",
    "    ret_list = []\n",
    "    for a in a_list:\n",
    "        ret_list.append(a * b)\n",
    "\n",
    "    return ret_list"
   ]
  },
  {
   "cell_type": "code",
   "execution_count": null,
   "metadata": {},
   "outputs": [],
   "source": [
    "# Calling the function with a list\n",
    "a_list = [1, 2, 3]\n",
    "print(f\"Original list is {a_list}\")\n",
    "ret_list_good = my_func_good(a_list, 2)\n",
    "print(f\"Original list is {a_list}, returned list is {ret_list_good}\")"
   ]
  },
  {
   "cell_type": "code",
   "execution_count": 11,
   "metadata": {},
   "outputs": [],
   "source": [
    "def my_func_bad(a_list, b):\n",
    "    \"\"\" A function that calculates a*b\n",
    "    @param a_list a list\n",
    "    @param b anything that can multiply the elements in a\n",
    "    @return a list with b * a[i] \"\"\"\n",
    "    \n",
    "    # Bad, bad programmer - changes a_list\n",
    "    for i, a in enumerate(a_list):\n",
    "        a_list[i] = a * b\n",
    "\n",
    "    return a_list"
   ]
  },
  {
   "cell_type": "code",
   "execution_count": null,
   "metadata": {},
   "outputs": [],
   "source": [
    "# Calling the function with a list\n",
    "a_list = [1, 2, 3]\n",
    "print(f\"Original list is {a_list}\")\n",
    "ret_list_bad = my_func_bad(a_list, 2)\n",
    "print(f\"Original list is {a_list}, returned list is {ret_list_bad}\")"
   ]
  },
  {
   "cell_type": "markdown",
   "metadata": {},
   "source": [
    "# Return values"
   ]
  },
  {
   "cell_type": "code",
   "execution_count": 13,
   "metadata": {},
   "outputs": [],
   "source": [
    "def my_func_with_two_return_values(a, b):\n",
    "    \"\"\" A function that calculates a-b and a+b\n",
    "    @param a - a number\n",
    "    @param b - a number\n",
    "    @return a-b and a+b (as a tuple)\"\"\"\n",
    "    ret_val1 = a - b\n",
    "    ret_val2 = a + b\n",
    "    \n",
    "    return ret_val1, ret_val2  # makes a tuple"
   ]
  },
  {
   "cell_type": "code",
   "execution_count": null,
   "metadata": {},
   "outputs": [],
   "source": [
    "# Different ways to get out return values\n",
    "ret_as_tuple = my_func_with_two_return_values(3, 7)\n",
    "print(f\"A tuple {ret_as_tuple}, get first value {ret_as_tuple[0]}, second value {ret_as_tuple[1]}\")\n",
    "\n",
    "ret_a, ret_b = my_func_with_two_return_values(3, 7)\n",
    "print(f\"First {ret_a} second {ret_b}\")"
   ]
  }
 ],
 "metadata": {
  "kernelspec": {
   "display_name": "Python 3",
   "language": "python",
   "name": "python3"
  },
  "language_info": {
   "codemirror_mode": {
    "name": "ipython",
    "version": 3
   },
   "file_extension": ".py",
   "mimetype": "text/x-python",
   "name": "python",
   "nbconvert_exporter": "python",
   "pygments_lexer": "ipython3",
   "version": "3.9.6"
  }
 },
 "nbformat": 4,
 "nbformat_minor": 2
}
