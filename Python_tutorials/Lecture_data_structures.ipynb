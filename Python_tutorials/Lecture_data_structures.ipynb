{
 "cells": [
  {
   "cell_type": "markdown",
   "metadata": {},
   "source": [
    "# Lecture: Jupyter Notebooks, lists, dictionaries, numpy arrays\n",
    "\n",
    "Also see the tutorials for lists and dictionaries. This lecture will focus on Fun Things with Numpy arrays.\n",
    "We're going to do stuff with lists, first, because it's easier to understand. After this lecture, you should always use numpy arrays, not lists, when storing/manipulating arrays of numbers."
   ]
  },
  {
   "cell_type": "code",
   "execution_count": null,
   "metadata": {},
   "outputs": [],
   "source": [
    "# Some typical list-based ways to store a list of numbers\n",
    "a_list = [0.0, 1.0, 2.0, 3.0]\n",
    "b_list = [-2.0, -1.0, 0.0, 0.2]\n",
    "\n",
    "print(a_list)\n",
    "print(b_list)"
   ]
  },
  {
   "cell_type": "code",
   "execution_count": null,
   "metadata": {},
   "outputs": [],
   "source": [
    "# print one element of the list (notice index, 1)\n",
    "print(a_list[1])"
   ]
  },
  {
   "cell_type": "code",
   "execution_count": null,
   "metadata": {},
   "outputs": [],
   "source": [
    "# Calculate the sum of a list\n",
    "my_sum = 0\n",
    "for e in a_list:\n",
    "    # e is set to a_list[i] where i is 0, 1, 2 etc\n",
    "    my_sum += e\n",
    "print(f\"Sum: {my_sum}\")"
   ]
  },
  {
   "cell_type": "code",
   "execution_count": null,
   "metadata": {},
   "outputs": [],
   "source": [
    "# Perform a mathematical operation on each element in the list \n",
    "# In this case, 2 * x + 1\n",
    "#. Notice how we create a list to put the result in, and use append (rather than creating the list first)\n",
    "operate_on_a_list = []\n",
    "for e in a_list:\n",
    "    operate_on_a_list.append( 2 * e + 1)\n",
    "print(operate_on_a_list)"
   ]
  },
  {
   "cell_type": "code",
   "execution_count": null,
   "metadata": {},
   "outputs": [],
   "source": [
    "# Iterate through two lists together\n",
    "add_lists = []\n",
    "for a, b in zip(a_list, b_list):\n",
    "    add_lists.append(a + b)\n",
    "print(f\"Adding lists: {add_lists}\")"
   ]
  },
  {
   "cell_type": "code",
   "execution_count": null,
   "metadata": {},
   "outputs": [],
   "source": [
    "# See if 2.0 is in the list\n",
    "b_found_two = False\n",
    "for a in a_list:\n",
    "    if abs(a - 2.0) < 1e-12:\n",
    "        b_found_two = True\n",
    "print(f\"Found 2: {b_found_two}\")"
   ]
  },
  {
   "cell_type": "markdown",
   "metadata": {},
   "source": [
    "## Just say NO to lists for mathematical operations on arrays of numbers\n",
    "Use numpy.\n",
    "Do numpy tutorial before lab."
   ]
  },
  {
   "cell_type": "code",
   "execution_count": null,
   "metadata": {},
   "outputs": [],
   "source": [
    "# Import the library numpy and declare that you want to access numpy as np.[blah]\n",
    "import numpy as np"
   ]
  },
  {
   "cell_type": "code",
   "execution_count": null,
   "metadata": {},
   "outputs": [],
   "source": [
    "a_np_array = np.array(a_list)  # Shortcut way to create a numpy array from a list\n",
    "b_np_array = np.array(b_list)\n",
    "print(a_np_array)  # Notice different formatting from a list\n",
    "print(b_np_array)"
   ]
  },
  {
   "cell_type": "code",
   "execution_count": null,
   "metadata": {},
   "outputs": [],
   "source": [
    "# Calculate the sum of a list\n",
    "print(f\"Sum: {np.sum(a_np_array)}\")"
   ]
  },
  {
   "cell_type": "code",
   "execution_count": null,
   "metadata": {},
   "outputs": [],
   "source": [
    "# Perform a mathematical operation on each element in the list \n",
    "# In this case, 2 * x + 1\n",
    "#.   Look - no for loop!!!\n",
    "operate_on_an_np_array = 2 * a_np_array + 1\n",
    "print(operate_on_an_np_array)"
   ]
  },
  {
   "cell_type": "code",
   "execution_count": null,
   "metadata": {},
   "outputs": [],
   "source": [
    "# Add two lists together\n",
    "print(f\"Adding lists: {a_np_array + b_np_array}\")"
   ]
  },
  {
   "cell_type": "code",
   "execution_count": null,
   "metadata": {},
   "outputs": [],
   "source": [
    "# See if 2.0 is in the list\n",
    "#.  isclose and any are a bit complicated to use, but very powerful\n",
    "all_twos = np.isclose(a_np_array, 2.0)\n",
    "if all_twos.any():\n",
    "    print(\"Found a 2\")\n",
    "print(f\"Found 2: {all_twos}\")"
   ]
  },
  {
   "cell_type": "markdown",
   "metadata": {},
   "source": [
    "## Dictionaries\n",
    "See tutorial on dictionaries.\n",
    "\n",
    "Dictionaries are the heart of Python - pretty much everything in Python is a dictionary.\n",
    "\n",
    "Basic idea: Store data by a key (name) and value (what's in that key)\n",
    "\n",
    "Difference to lists: You can think of a list as a dictionary where all the keys are the numbers 0..n-1"
   ]
  },
  {
   "cell_type": "code",
   "execution_count": null,
   "metadata": {},
   "outputs": [],
   "source": [
    "# Notice curly brackets\n",
    "my_dict = {\"key 1\": [-0.2, 0.2], \"key 2\": \"value\"}\n",
    "print(my_dict)"
   ]
  },
  {
   "cell_type": "code",
   "execution_count": null,
   "metadata": {},
   "outputs": [],
   "source": [
    "# Getting one element out of the dictionary\n",
    "print(my_dict[\"key 1\"])"
   ]
  },
  {
   "cell_type": "code",
   "execution_count": null,
   "metadata": {},
   "outputs": [],
   "source": [
    "for k, v in my_dict.items():\n",
    "    print(f\"Key {k}, value {v}\")"
   ]
  },
  {
   "cell_type": "code",
   "execution_count": null,
   "metadata": {},
   "outputs": [],
   "source": [
    "# Adding one element to the dictionary\n",
    "my_dict[3] = \"Value for key 3\"\n",
    "print(my_dict)"
   ]
  },
  {
   "cell_type": "markdown",
   "metadata": {},
   "source": [
    "## Big picture\n",
    "\n",
    "Data structures are variables with more \"stuff\" in them than a single number or string. That way you don't have to label every single value you store. To get specific items out, it's always square brackets.\n",
    "\n",
    "var_name[stuff here]\n"
   ]
  },
  {
   "cell_type": "code",
   "execution_count": 6,
   "metadata": {},
   "outputs": [],
   "source": [
    "# From Intro_assignment.ipynb, dictionary probelm\n",
    "# Creating one variable for each value you want to store\n",
    "\n",
    "name = \"Me\"\n",
    "age = 10\n",
    "first_grade = \"A\"\n",
    "second_grade = \"A-\"\n",
    "third_grade = \"B+\""
   ]
  },
  {
   "cell_type": "code",
   "execution_count": null,
   "metadata": {},
   "outputs": [],
   "source": [
    "# Grades are a good candidate for a list - they're already numbered\n",
    "grades = [\"A\", \"A-\", \"B+\"]\n",
    "\n",
    "# Or you could do - it's the same as above\n",
    "grades = [first_grade, second_grade, third_grade]\n",
    "\n",
    "# Notice the [] in the print statement, and the 'A' instead of A\n",
    "print(f\"Grades (individual variables) {first_grade}, {second_grade}, {third_grade}\")\n",
    "print(f\"Grades (list) {grades}\")\n",
    "\n"
   ]
  },
  {
   "cell_type": "code",
   "execution_count": null,
   "metadata": {},
   "outputs": [],
   "source": [
    "# Edit the variables\n",
    "# Make the first grade be an A+\n",
    "first_grade = first_grade + \"+\"\n",
    "\n",
    "# Do the same thing for the list - edit the first element (notice the [0])\n",
    "grades[0] = grades[0] + \"+\"\n",
    "\n",
    "# Re-create the list from the variables - remember that first_grade has changed\n",
    "grades_same_thing = [first_grade, second_grade, third_grade]\n",
    "\n",
    "# Notice that all the A's were changed to A+'s\n",
    "print(f\"Grades (individual variables) {first_grade}, {second_grade}, {third_grade}\")\n",
    "print(f\"Grades (list) {grades}\")\n"
   ]
  },
  {
   "cell_type": "code",
   "execution_count": null,
   "metadata": {},
   "outputs": [],
   "source": [
    "# Adding another variable\n",
    "\n",
    "# If you're keeping individual variables, you have to make another variable\n",
    "fourth_grade = \"B\"\n",
    "\n",
    "# If you have a list, just append to the list\n",
    "grades.append(\"B\")\n",
    "\n",
    "# Notice that we have to add another {fourth_grade}\n",
    "print(f\"Grades (individual variables) {first_grade}, {second_grade}, {third_grade}, {fourth_grade}\")\n",
    "# This just works\n",
    "print(f\"Grades (list) {grades}\")\n"
   ]
  },
  {
   "cell_type": "code",
   "execution_count": null,
   "metadata": {},
   "outputs": [],
   "source": [
    "# Now let's do the same thing for the dictionary\n",
    "#    All three of these do the same thing, btw\n",
    "#  Make the whole list using key:value, key:value, all in {}\n",
    "my_grade_stuff = {\"name\": \"Me\", \"age\": 10, \"grades\": [\"A\", \"A-\", \"B+\"]}\n",
    "print(f\"Grades version 1 {my_grade_stuff}\")\n",
    "\n",
    "# The same thing, but this time use the variables as the values\n",
    "#   TODO: Why is this slightly different than the one above? Reminder that\n",
    "#     we edited grades to have 4 grades...\n",
    "my_grade_stuff = {\"name\": name, \"age\": age, \"grades\": grades}\n",
    "print(f\"Grades version 2 {my_grade_stuff}\")\n",
    "\n",
    "# One more time, this time making an empty dictionary and adding stuff \n",
    "#   in one at a time\n",
    "my_grade_stuff = {}\n",
    "    # Notice that the [\"foo\"] is on the left-hand side - this *makes*\n",
    "    #   the key, value pair in the dictionary, instead of *getting* it\n",
    "my_grade_stuff[\"name\"] = name\n",
    "my_grade_stuff[\"age\"] = age\n",
    "my_grade_stuff[\"grades\"] = grades\n",
    "print(f\"Grades version 3 {my_grade_stuff}\")\n"
   ]
  },
  {
   "cell_type": "code",
   "execution_count": 13,
   "metadata": {},
   "outputs": [],
   "source": [
    "# Now do an edit of the age\n",
    "# These do the same thing - but one edits the age variable, one\n",
    "#   edits the age value in with the key \"age\"\n",
    "age = age + 3   # Add 3 to the age variable\n",
    "my_grade_stuff[\"age\"] = my_grade_stuff[\"age\"] + 3\n",
    "\n",
    "# You could do this, if it's helpful to think of it this way\n",
    "my_current_age = my_grade_stuff[\"age\"]   # Get the current age\n",
    "my_current_age = my_current_age + 3\n",
    "my_grade_stuff[\"age\"] = my_current_age"
   ]
  }
 ],
 "metadata": {
  "kernelspec": {
   "display_name": "Python 3",
   "language": "python",
   "name": "python3"
  },
  "language_info": {
   "codemirror_mode": {
    "name": "ipython",
    "version": 3
   },
   "file_extension": ".py",
   "mimetype": "text/x-python",
   "name": "python",
   "nbconvert_exporter": "python",
   "pygments_lexer": "ipython3",
   "version": "3.12.7"
  }
 },
 "nbformat": 4,
 "nbformat_minor": 2
}
