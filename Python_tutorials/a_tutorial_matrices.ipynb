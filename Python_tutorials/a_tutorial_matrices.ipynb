{
 "cells": [
  {
   "cell_type": "markdown",
   "metadata": {},
   "source": [
    "# Matrices\n",
    "\n",
    "Matrices are, fundamentally, about moving rigid objects around in space. This tutorial builds a couple matrices (in 2D), then uses them to plot a circle in different positions. If you are not familiar with matrices look at the slides first.\n",
    "\n",
    "Lecture slides: https://docs.google.com/presentation/d/12p3VOVT5yL14-1z5T20hTscpVC0hsxjtvMLHmQLFITk/edit?usp=sharing\n",
    "\n",
    "The major tricky part of this is that the object - the circle - is ALSO represented as a matrix (a **3xn** matrix, **n** being the number of points used to represent the circle).\n",
    "\n",
    "Some other tricky parts with matrices\n",
    "\n",
    "- Order matters. Doing m1 then m2 is NOT the same as m2 then m1. We will use the convention that **pts_new = m1 @ m2 @ m3 pts_orig** means multiply pts_orig by m3, then m2, then m1. Yes, that feels backwards. But that is the convention (left multiply) in most software that uses matrices\n",
    "\n",
    "- You'll notice I used @ and not *.  Numpy decided to use @ instead of * for matrix multiply. * means item by item multiplication which a) will only work if the two matrics are the same size and b) probably isn't what you want).\n",
    "\n",
    "This example puts all of the code that will be re-used into functions in a Python file (**matrix_routines.py**), rather than just writing it in-line. So you should open up that file and look at it, too, then come back and work through this tutorial. \n",
    "\n",
    "In this tutorial, we will\n",
    "- Multiply matrices together\n",
    "- Use matrices to place objects in the world\n",
    "\n",
    "A reminder that all matrices are 3x3 (even though we are in 2d) so that we can do translations (the upper left is the 2x2 matrix)\n",
    "\n",
    "First, look at matrix_routines.py. Look for code that:\n",
    "- Creates matrices\n",
    "- Creates a circle as a list of points\n",
    "- Multiplies points by a matrix and plots the before and after\n",
    "-- Where are the points made/created?\n",
    "-- Where does the multiplicaiton happen?\n",
    "\n",
    "There is an example here that shows swapping the order of the matrices. Try drawing what the rotations/translations would look like on a piece of paper and try to match up the transformations with the code."
   ]
  },
  {
   "cell_type": "code",
   "execution_count": null,
   "metadata": {},
   "outputs": [],
   "source": [
    "import numpy as np\n",
    "from matplotlib import pyplot as plt\n",
    "\n",
    "# All of the matrix routines are in here - we can import the Python (.py) file just like the imports above\n",
    "#  All of the functions in there will be accessed as mr.\n",
    "import matrix_routines as mr\n",
    "\n",
    "\n",
    "# These commands will force JN to actually re-load the external file when you re-execute the import command\n",
    "%load_ext autoreload\n",
    "%autoreload 2"
   ]
  },
  {
   "cell_type": "markdown",
   "metadata": {},
   "source": [
    "### Matrices and points\n",
    "\n",
    "Matrices pick \"objects\" up and move them around. What do those objects look like? They're just a list of points. Here we make an object - a triangle - and perform a couple of transformations on it"
   ]
  },
  {
   "cell_type": "code",
   "execution_count": null,
   "metadata": {},
   "outputs": [],
   "source": [
    "# It's easier to start with a numpy array that has ones in it to make the points because you'll need ones in the 3rd row\n",
    "n_points = 3\n",
    "pts_triangle = np.ones((3, n_points))\n",
    "# Make a right-sided triangle with the center of the origin in the middle\n",
    "pts_triangle[0:2, 0] = [-2.0, 1.25]   # Upper left corner\n",
    "pts_triangle[0:2, 1] = [2.0, -0.5]    # Pointy bit at the right\n",
    "pts_triangle[0:2, 2] = [-2.0, -0.5]   # 90 degree angle part\n",
    "\n",
    "print(pts_triangle)"
   ]
  },
  {
   "cell_type": "code",
   "execution_count": null,
   "metadata": {},
   "outputs": [],
   "source": [
    "# Now make a matrix to multiply the points by - this matrix translates the points up and to the right by 1.5, 2.5\n",
    "mat_trans = mr.make_translation_matrix(1.5, 2.5)\n",
    "\n",
    "# Ttis is a translation matrix - ones along the diagonal, then the dx, dy in the top right\n",
    "print(mat_trans)"
   ]
  },
  {
   "cell_type": "code",
   "execution_count": null,
   "metadata": {},
   "outputs": [],
   "source": [
    "# How to move the points by the matrix - notice that pts is on the right and we use @\n",
    "#  3x3 matrix times a 3xn matrix yields a 3xn matrix, so pts_triangle_moved is the same size as pts_triangle\n",
    "#  This adds dx to the x and dy to the y (see slides)\n",
    "pts_triangle_moved = mat_trans @ pts_triangle"
   ]
  },
  {
   "cell_type": "markdown",
   "metadata": {},
   "source": [
    "### Make some useful plotting functions"
   ]
  },
  {
   "cell_type": "code",
   "execution_count": null,
   "metadata": {},
   "outputs": [],
   "source": [
    "def plot_axes_and_big_box(axs):\n",
    "    \"\"\"Plot the origin and x,y axes with a box that goes from -5, -5 to 5, 5\n",
    "    @param axs - figure axes\"\"\"\n",
    "\n",
    "    # Put a black + at the origin\n",
    "    axs.plot(0, 0, '+k')\n",
    "    # Draw one red arrow for the x axis (x,y, dx, dy)\n",
    "    axs.arrow(x=0, y=0, dx=1, dy=0, color='red')\n",
    "    # Draw a blue arrow for the y axis\n",
    "    axs.arrow(x=0, y=0, dx=0, dy=1, color='blue')\n",
    "\n",
    "    # Draw a box around the world to make sure the plots stay the same size\n",
    "    axs.plot([-5, 5, 5, -5, -5], [-5, -5, 5, 5, -5], '-k')\n",
    "\n",
    "    # This makes sure the x and y axes are scaled the same\n",
    "    axs.axis('equal')"
   ]
  },
  {
   "cell_type": "code",
   "execution_count": null,
   "metadata": {},
   "outputs": [],
   "source": [
    "def plot_transformed_axes(axs, mat):\n",
    "    \"\"\"Plot where the coordinate system (0,0 and x,y axes) goes to when transformed by mat\n",
    "    @param axs - figure axes\n",
    "    @param mat - the matrix\"\"\"\n",
    "\n",
    "    # Moved coordinate system - draw the moved coordinate system and axes\n",
    "    #  The x axis as a vector - notice that the 3rd coordinate is a zero because vectors can't translate\n",
    "    x_axis = np.array([1, 0, 0]).transpose()\n",
    "    x_axis_moved = mat @ x_axis\n",
    "\n",
    "    y_axis = np.array([0, 1, 0]).transpose()\n",
    "    y_axis_moved = mat @ y_axis\n",
    "\n",
    "    # The origin, however, is a point and it has a 1 in that third column\n",
    "    origin = np.array([0, 0, 1]).transpose()\n",
    "\n",
    "    # Move the origin by mat\n",
    "    origin_moved = mat @ origin\n",
    "\n",
    "    # Put a blue X at the placd the origin moved to\n",
    "    axs.plot(origin_moved[0], origin_moved[1], 'Xb', markersize=5)\n",
    "    # Draw an arrow from there to the end of the moved x axis\n",
    "    axs.arrow(x=origin_moved[0], y=origin_moved[1], dx=x_axis_moved[0], dy=x_axis_moved[1], color='red', linestyle=\"--\")\n",
    "    # Draw a blue arrow for the y axis\n",
    "    axs.arrow(x=origin_moved[0], y=origin_moved[1], dx=y_axis_moved[0], dy=y_axis_moved[1], color='blue', linestyle=\"--\")\n"
   ]
  },
  {
   "cell_type": "code",
   "execution_count": null,
   "metadata": {},
   "outputs": [],
   "source": [
    "def plot_pts(axs, pts, fmt='-k'):\n",
    "    \"\"\" plot the points in the window\n",
    "    @param axs - the window to draw into\n",
    "    @param pts - the 3xn array of points\n",
    "    @param fmt - optional format parameter\"\"\"\n",
    "\n",
    "    # This gets the x values (in row 0) and the y values and just does a regular plot\n",
    "    axs.plot(pts[0, :], pts[1, :], fmt)\n",
    "\n",
    "    pts_close = np.zeros((2, 2))\n",
    "    pts_close[:, 0] = pts[0:2, 0]\n",
    "    pts_close[:, 1] = pts[0:2, -1]\n",
    "    # and close the polygon\n",
    "    axs.plot(pts_close[0, :], pts_close[1, :], fmt)\n"
   ]
  },
  {
   "cell_type": "markdown",
   "metadata": {},
   "source": [
    "#### Plot the triangle without any transform on the left, and the translate on the right\n",
    "\n",
    "TODO: look at the plotting code and make sure you understand the format of the points numpy array\n",
    "\n",
    "TODO: Notice how the origin and x and y axis are transformed\n",
    "\n",
    "TODO: Change the matrix to a scale matrix, then a rotation matrix to see what those do"
   ]
  },
  {
   "cell_type": "code",
   "execution_count": null,
   "metadata": {},
   "outputs": [],
   "source": [
    "fig, axs = plt.subplots(1, 2, figsize=(8, 4))\n",
    "\n",
    "# No transformation on the left\n",
    "plot_axes_and_big_box(axs[0])\n",
    "plot_pts(axs[0], pts_triangle)\n",
    "axs[0].set_title(\"No transform\")\n",
    "\n",
    "# Transform\n",
    "plot_axes_and_big_box(axs[1])\n",
    "# Show how the axes moved\n",
    "plot_transformed_axes(axs[1], mat_trans)\n",
    "plot_pts(axs[1], pts_triangle_moved, fmt=\":k\")\n",
    "axs[1].set_title(\"Translated\")"
   ]
  },
  {
   "cell_type": "markdown",
   "metadata": {},
   "source": [
    "## Example: What happens if you swap the order of two matrix multiplications? \n",
    "\n",
    "In this example we'll do a translate and a rotate in the left window, and a rotate translate in the middle window, then a scale, rotate, translate in the right window. "
   ]
  },
  {
   "cell_type": "code",
   "execution_count": null,
   "metadata": {},
   "outputs": [],
   "source": [
    "# Make the plot that shows the difference between rotate-translate and translate-rotate, and also shows a scale, rotate, then translate\n",
    "fig, axs = plt.subplots(1, 3, figsize=(12, 4))\n",
    "\n",
    "# Rotate the object then translate it - notice that the rotation goes on the right, which means the rotate\n",
    "#   happens first\n",
    "mat_rot_trans = mr.make_translation_matrix(1, 2) @ mr.make_rotation_matrix(np.pi / 4.0)   # pts go here\n",
    "\n",
    "axs[0].set_title(\"Rot trans\")\n",
    "plot_axes_and_big_box(axs[0])\n",
    "pts_triangle_rot_trans = mat_rot_trans @ pts_triangle\n",
    "plot_transformed_axes(axs[0], mat_rot_trans)\n",
    "plot_pts(axs[0], pts_triangle_rot_trans, \":k\")\n",
    "\n",
    "\n",
    "# Reverse the order of operations\n",
    "# Now create the matrix in the reverse order - try to predict what this will look like\n",
    "#   Set mat to be a translation, rotation matrix (same params as above)\n",
    "axs[1].set_title(\"Trans rot\")\n",
    "\n",
    "# Translate first, then rotate\n",
    "mat_trans_rot = mr.make_rotation_matrix(np.pi / 4.0) @ mr.make_translation_matrix(1, 2)   # pts go here\n",
    "\n",
    "plot_axes_and_big_box(axs[1])\n",
    "pts_triangle_trans_rot = mat_trans_rot @ pts_triangle\n",
    "plot_transformed_axes(axs[1], mat_trans_rot)\n",
    "plot_pts(axs[1], pts_triangle_trans_rot, \":k\")\n",
    "\n",
    "\n",
    "# Last one - scale first, then rotate, then translate\n",
    "# Now do a matrix that is a scale 0.5,2.0, rotate pi/4, translate (1,2)\n",
    "mat_scl_rot_trans = mr.make_translation_matrix(1, 2) @ \\\n",
    "                    mr.make_rotation_matrix(np.pi / 4.0) @ \\\n",
    "                    mr.make_scale_matrix(0.5, 2.0)   # pts go here\n",
    "\n",
    "\n",
    "axs[2].set_title(\"Scale, rotate, translate\")\n",
    "plot_axes_and_big_box(axs[2])\n",
    "pts_triangle_scl_rot_trans = mat_scl_rot_trans @ pts_triangle\n",
    "plot_transformed_axes(axs[2], mat_scl_rot_trans)\n",
    "plot_pts(axs[2], pts_triangle_scl_rot_trans, \":k\")\n"
   ]
  }
 ],
 "metadata": {
  "kernelspec": {
   "display_name": "Python 3",
   "language": "python",
   "name": "python3"
  },
  "language_info": {
   "codemirror_mode": {
    "name": "ipython",
    "version": 3
   },
   "file_extension": ".py",
   "mimetype": "text/x-python",
   "name": "python",
   "nbconvert_exporter": "python",
   "pygments_lexer": "ipython3",
   "version": "3.11.7"
  }
 },
 "nbformat": 4,
 "nbformat_minor": 2
}
