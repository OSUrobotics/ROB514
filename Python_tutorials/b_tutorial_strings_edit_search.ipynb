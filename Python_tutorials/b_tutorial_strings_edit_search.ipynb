{
 "cells": [
  {
   "cell_type": "markdown",
   "metadata": {},
   "source": [
    "# Tutorial: Editing strings\n",
    "\n",
    "Sometimes you have to take a string and edit it. Strings are IMMUTABLE - that means, you can't edit them in place. So all editing looks like copying over the pieces you want to keep and making a new string.\n",
    "\n",
    "There are a TON of existing routines for editing and searching and taking apart strings:\n",
    " - Upper/lower case, is it a letter, number or a white space, take out special characters\n",
    " - Find a character or a substring in a string, does the string contain these characters?\n",
    " - Split up a string into a list of strings\n",
    " \n",
    "See https://docs.python.org/2.5/lib/string-methods.html\n",
    "\n",
    "This tutorial won't cover all of them, just some of the most useful. In general, there will not be a single command to \"Remove the apostrophe's and the dashes from the names, make sure they're all lower case, and merge first and middle names\". Instead, you have to figure out which 2-3 of the commands get you close (strip, split, find, tolower) and then apply them one after the other (eg, convert everything to lower case, then strip out the dashes, then remove the spaces) with some logic (if 2 strings after split versus 3)."
   ]
  },
  {
   "cell_type": "markdown",
   "metadata": {},
   "source": [
    "## Example: Editing a string\n",
    "Goal: convert \"SOUNDS LIKE I'M YELLING!\" to \"Sounds like I'm NOT yelling\"\n",
    "\n",
    "Problem break down:\n",
    "- First do the conversion to lower case\n",
    "- Next, capitalize the first letter (there's a function for that)\n",
    "- Next, fix the i'm by doing a replace\n",
    "- Next, stick in a \"not\"\n",
    "- Next, take the ! out\n",
    "\n",
    "Obviously, if I knew what the sentence was it would be a lot easier to just, well, make the new sentence... But imagine, instead, you're writing a general purpose routine to convert all-caps strings to lower-case ones and fix grammar errors...\n",
    "\n",
    "TODO\n",
    "- Try taking out all of the spaces"
   ]
  },
  {
   "cell_type": "code",
   "execution_count": null,
   "metadata": {},
   "outputs": [],
   "source": [
    "# An entirely upper-case string\n",
    "my_string_upper_case = \"SOUNDS LIKE I'M YELLING!\""
   ]
  },
  {
   "cell_type": "code",
   "execution_count": null,
   "metadata": {},
   "outputs": [],
   "source": [
    "# convert to lower case - lower makes a copy of the string, converts the upper case letters, then returns the copy\n",
    "my_string_lower_case = my_string_upper_case.lower()\n",
    "\n",
    "# Note that my_string_upper_case hasn't changed...\n",
    "print(f\"This is yelling: {my_string_upper_case}, this is not: {my_string_lower_case}\")"
   ]
  },
  {
   "cell_type": "code",
   "execution_count": null,
   "metadata": {},
   "outputs": [],
   "source": [
    "# Oops, should capitalize first letter - note capitalize, and not upper:\n",
    "my_string_cap = my_string_lower_case.capitalize()\n",
    "print(my_string_cap)"
   ]
  },
  {
   "cell_type": "code",
   "execution_count": null,
   "metadata": {},
   "outputs": [],
   "source": [
    "# ... and replace the lower-case i with an upper case\n",
    "#  Notice the use of \"\" so that we can use ' as a character\n",
    "my_string_with_i_fixed = my_string_cap.replace(\"i'm\", \"I'm\")\n",
    "print(my_string_with_i_fixed)"
   ]
  },
  {
   "cell_type": "code",
   "execution_count": null,
   "metadata": {},
   "outputs": [],
   "source": [
    "# add in the \"not\" by finding the last space\n",
    "index_last_space = my_string_with_i_fixed.rfind(\" \")\n",
    "# List indexing to get out the left and right half\n",
    "#   0:index gets 0, through index -1\n",
    "#   index: gets from index through end\n",
    "my_not_yelling_string = my_string_with_i_fixed[0:index_last_space] + \" not\" + my_string_with_i_fixed[index_last_space:]\n",
    "print(my_not_yelling_string)"
   ]
  },
  {
   "cell_type": "code",
   "execution_count": null,
   "metadata": {},
   "outputs": [],
   "source": [
    "# ... without the ! at the end - use :-1 to only copy up to the last element\n",
    "my_not_yelling_string_better = my_string_with_i_fixed[0:index_last_space] + \" not\" + my_string_with_i_fixed[index_last_space:-1]\n",
    "print(my_not_yelling_string_better)"
   ]
  },
  {
   "cell_type": "markdown",
   "metadata": {},
   "source": [
    "... Yes, you can do all of that editing in one line of really confusing Python. Just don't. BUT, you might try combining two steps at the same time..."
   ]
  },
  {
   "cell_type": "markdown",
   "metadata": {},
   "source": [
    "## GOTCHA - Common error when editing a string: Can't edit in place\n",
    "You can't directly edit a string. You'll get a very confusing error message that says\n",
    " TypeError: 'str' object does not support item assignment\n",
    "\n",
    "Translate that as: You can't assign to an individual character in a string"
   ]
  },
  {
   "cell_type": "code",
   "execution_count": null,
   "metadata": {},
   "outputs": [],
   "source": [
    "my_not_yelling_string[1] = 's'"
   ]
  },
  {
   "cell_type": "markdown",
   "metadata": {},
   "source": [
    "# Tutorial: Splitting up strings\n",
    "Often when you read in strings from files (or people type in strings) you'll get strings that you have to \"split up\",\n",
    "for example, by getting all the numbers separated by commas OR ignoring a descriptor at the beginning. \n",
    "\n",
    "For these examples we'll have pre-defined strings that are \"typed in\" (rather than reading them from a file) just to keep things simple. In reality, you usually have to do this when you can't edit the files directly.\n",
    "\n",
    "An aside: When you only have one file you're \"cleaning up\" for processing (as opposed to writing some code to process a whole bunch of similar files) it is often a lot easier to open the file in your favorite spreadsheet editor and just... edit it there. \n",
    "\n",
    "TODO:\n",
    "- Create a string with semi-colons separating the values\n",
    "- Use split to pull it apart into a list of numbers"
   ]
  },
  {
   "cell_type": "markdown",
   "metadata": {},
   "source": [
    "## Tutorial: Split example\n",
    "This first bit of code is just to make the string to play with."
   ]
  },
  {
   "cell_type": "code",
   "execution_count": null,
   "metadata": {},
   "outputs": [],
   "source": [
    "# Make a list of numbers\n",
    "list_of_numbers = [0.3 + 0.1 * n for n in range(0, 10)]\n",
    "# Put a random number in the middle\n",
    "list_of_numbers.insert(3, \"3.3e-3\")\n",
    "\n",
    "# Turn it into a string with a tab at the beginning (the \\t)\n",
    "str_list_of_numbers = \"\\t\" + \", \".join([\"{:.2}\"] * len(list_of_numbers)).format(*list_of_numbers)\n",
    "print(str_list_of_numbers)"
   ]
  },
  {
   "cell_type": "code",
   "execution_count": null,
   "metadata": {},
   "outputs": [],
   "source": [
    "# Take it back apart again using split, looking for commans\n",
    "my_list_back_as_strs = str_list_of_numbers.split(',')\n",
    "\n",
    "# Convert back to a list of numbers - note that float() is smart enough to take out white space\n",
    "recover_list = [float(item) for item in my_list_back_as_strs]\n",
    "print(recover_list)"
   ]
  },
  {
   "cell_type": "code",
   "execution_count": null,
   "metadata": {},
   "outputs": [],
   "source": [
    "# if that is confusing to you, this is the same code\n",
    "recover_list = []\n",
    "for item in my_list_back_as_strs:\n",
    "    recover_list.append(float(item))\n",
    "print(recover_list)    "
   ]
  },
  {
   "cell_type": "markdown",
   "metadata": {},
   "source": [
    "## Tutorial: Find example\n",
    "We have a list of strings, which consist of a descriptive name followed by a colon followed by a number\n",
    " - Find the end of the line (the \\n) then split up each line.\n",
    " - If the line has a : then get out the number, otherwise, ignore it\n",
    " - Note that there is a more complete example of this (for building a dictionary) in the dictionary tutorial\n",
    " \n",
    "TODO\n",
    "- Try printing out which item it is when you find one\n",
    "- To test it, reverse the order in the string and see if it still works"
   ]
  },
  {
   "cell_type": "code",
   "execution_count": null,
   "metadata": {},
   "outputs": [],
   "source": [
    "my_str_to_parse = \"# This is a header\\nItem 1: 0.3\\nBlank line\\nItem 2: 1.3\\n\"\n",
    "print(my_str_to_parse)"
   ]
  },
  {
   "cell_type": "code",
   "execution_count": null,
   "metadata": {},
   "outputs": [],
   "source": [
    "# First, split the line into strings separated by \\n\n",
    "my_lines = my_str_to_parse.split('\\n')\n",
    "print(my_lines)"
   ]
  },
  {
   "cell_type": "code",
   "execution_count": null,
   "metadata": {},
   "outputs": [],
   "source": [
    "# An empty list of numbers\n",
    "my_numbers = []\n",
    "# Now loop through each line and look for a colon\n",
    "for l in my_lines:\n",
    "    # You can use this notation to see if the string \":\" is in the string \"l\"\n",
    "    if \":\" in l:\n",
    "        # split again - you could also use find and the resulting index\n",
    "        two_parts = l.split(\":\")\n",
    "        # Don't forget to convert the string to the number\n",
    "        #.  the [-1] is to get the last (second) element in the list\n",
    "        the_number = float(two_parts[-1])\n",
    "        my_numbers.append(the_number)\n",
    "print(my_numbers)"
   ]
  },
  {
   "cell_type": "markdown",
   "metadata": {},
   "source": [
    "## Tutorial: Editing a file name\n",
    "This is pretty common - take the last 4 characters off and replace them with a different file type. Try changing .txt to .py and edit the second line to do the right thing."
   ]
  },
  {
   "cell_type": "code",
   "execution_count": null,
   "metadata": {},
   "outputs": [],
   "source": [
    "file_name_orig = \"my_file.txt\"\n",
    "file_name_new = file_name_orig[0:-4] + \".csv\"\n",
    "print(file_name_new)"
   ]
  }
 ],
 "metadata": {
  "kernelspec": {
   "display_name": "Python 3 (ipykernel)",
   "language": "python",
   "name": "python3"
  },
  "language_info": {
   "codemirror_mode": {
    "name": "ipython",
    "version": 3
   },
   "file_extension": ".py",
   "mimetype": "text/x-python",
   "name": "python",
   "nbconvert_exporter": "python",
   "pygments_lexer": "ipython3",
   "version": "3.11.5"
  }
 },
 "nbformat": 4,
 "nbformat_minor": 2
}
