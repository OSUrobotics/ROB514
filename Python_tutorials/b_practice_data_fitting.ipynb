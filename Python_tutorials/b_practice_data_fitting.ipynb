{
 "cells": [
  {
   "cell_type": "markdown",
   "metadata": {},
   "source": [
    "# The tutorial, but with a polynomial fit instead of a linear/regression fit\n",
    "\n",
    "Fitting a polynomial to data happens to live in numpy's polynomial package (not scipy). In the homework we'll\n",
    "go back to using the scipy fit routines, but with scipy's curve fit, not linear regression\n",
    "\n",
    "https://numpy.org/doc/stable/reference/generated/numpy.polynomial.polynomial.polyfit.html"
   ]
  },
  {
   "cell_type": "code",
   "execution_count": null,
   "metadata": {},
   "outputs": [],
   "source": [
    "import numpy as np\n",
    "from numpy.polynomial import polynomial\n",
    "import matplotlib.pyplot as plt"
   ]
  },
  {
   "cell_type": "markdown",
   "metadata": {},
   "source": [
    "# Generate fake data\n",
    "Fill in the bit where you use polynomial to generate the data and return the arrays\n",
    "\n",
    "**poly** is a tuple *of any length* - do not assume that it is of a fixed length.\n",
    "\n",
    "Try googling \"evaluate polynomial python numpy\" and look for the numpy page that describes **polyval**. That's the routine that you should use to create the y = polynomial(x) data"
   ]
  },
  {
   "cell_type": "code",
   "execution_count": null,
   "metadata": {},
   "outputs": [],
   "source": [
    "# Generate fake data - this time, use polynomial.polyval to generate the data, then add noise\n",
    "def make_up_polynomial_data(poly=(1, 1, 1), x_range=(0, 1), n_samples=100, noise_sd = 0.1):\n",
    "    \"\"\" Generate y = sum_i a_i x^i, over the given x range, and with the added (Gaussian) noise\n",
    "    @param poly - the list of a_i values \n",
    "    @param x_range - use x values in this range (input is a tuple)\n",
    "    @param n_samples - number of samples to generate\n",
    "    @param noise_sd - standard deviation of Gaussian noise (no mean-shift\n",
    "    @returns two arrays, x and y, each of length n_samples\"\"\"\n",
    "\n",
    "    # Use the code from the tutorial, with one change:\n",
    "    # TODO: Use polynomial.polyval to generate the polynomial values - make sure the input parameters are in\n",
    "    #   the correct order (the x values first, then the polynomial)\n",
    "    # TODO part 2: Don't forget to add noise\n",
    "    # Note: The polynomial coefficents just need to be anything iterable - so a tuple works just fine here\n",
    "\n",
    "    # this will be x values (as a numpy array) folllowed by the y values (also as a numpy array)\n",
    "    return [0, 1], [1, 1]\n"
   ]
  },
  {
   "cell_type": "markdown",
   "metadata": {},
   "source": [
    "# Plot the data, the original quadratic, and the fitted quadratic"
   ]
  },
  {
   "cell_type": "code",
   "execution_count": null,
   "metadata": {},
   "outputs": [],
   "source": [
    "# I'm declaring variables here because we want to use the values later\n",
    "# Once the above function is filled in, this will generate the x,y data\n",
    "my_poly_coeffs = (3.0, 0.0, 1.0)\n",
    "my_x_range = (-0.5, 0.5)\n",
    "x, y = make_up_polynomial_data(poly=my_poly_coeffs, x_range=my_x_range)\n",
    "\n",
    "# TODO Plot the curve the data came from and the data\n",
    "#  Reminder to use a scatter plot for the data\n",
    "#  Curve plot:\n",
    "#  You'll need to use linspace to create an array of x values, then use polyval to create the y values\n",
    "# Don't forget to set the axes to be equal\n",
    "\n",
    "# To check: Does the polynomial look like what you'd expect from the coefficients?\n",
    "# To play around with: Try changing the amount of noise and/or the number of samples and/or the expected degree.\n",
    "\n",
    "# TODO Now do the actual \"fit\" to the noisy data and plot the results\n",
    "#  See numpy polyfit https://numpy.org/doc/stable/reference/generated/numpy.polynomial.polynomial.polyfit.html\n",
    "ret_poly = ... \n",
    "\n",
    "# TODO: Plot the fitted polyline, using polyval with the returned polynomial coefficients\n",
    "\n",
    "plt.legend()\n"
   ]
  },
  {
   "cell_type": "markdown",
   "metadata": {},
   "source": [
    "# Solution"
   ]
  },
  {
   "cell_type": "code",
   "execution_count": null,
   "metadata": {},
   "outputs": [],
   "source": [
    "# What the function should look like\n",
    "# Note that we can re-define a function (with the same name) just like we would redefine a variable, \n",
    "# but in general, this is a really, really bad idea\n",
    "def soln_make_up_polynomial_data(poly=(1, 1, 1), x_range=(0, 1), n_samples=100, noise_sd = 0.1):\n",
    "    \"\"\" Generate y = sum_i a_i x^i, over the given x range, and with the added (Gaussian) noise\n",
    "    @param poly - the list of a_i values\n",
    "    @param x_range - use x values in this range (input is a tuple)\n",
    "    @param n_samples - number of samples to generate\n",
    "    @param noise_sd - standard deviation of Gaussian noise (no mean-shift\n",
    "    @returns two arrays, x and y, each of length n_samples\"\"\"\n",
    "\n",
    "    # Use the code from the tutorial, with one change:\n",
    "    #  Use polynomial.polyval to generate the polynomial values - make sure the input parameters are in\n",
    "    #   the correct order (the x values first, then the polynomial)\n",
    "    #   Don't forget to add noise\n",
    "\n",
    "    # Use uniform here because we want a relatively even distrubution of samples in the x direction\n",
    "    x_vals = np.random.uniform(x_range[0]   , x_range[1], n_samples)\n",
    "    # Generate y values from x using the equation\n",
    "    y_vals = polynomial.polyval(x_vals, poly)\n",
    "\n",
    "    # Add noise\n",
    "    y_vals += np.random.normal(loc=0.0, scale=noise_sd, size=n_samples)\n",
    "\n",
    "    # This returns a tuple with two numpy arrays in it - you can put in the parenthesis, but you don't need to\n",
    "    return x_vals, y_vals\n"
   ]
  },
  {
   "cell_type": "markdown",
   "metadata": {},
   "source": [
    "# Plot data, plot original curve, and plot fitted curve"
   ]
  },
  {
   "cell_type": "code",
   "execution_count": null,
   "metadata": {},
   "outputs": [],
   "source": [
    "# The values used to make the made-up data\n",
    "my_poly_coeffs = (3.0, 0.0, 1.0)\n",
    "my_x_range = (-0.5, 0.5)\n",
    "# Generate the x,y data \n",
    "x, y = soln_make_up_polynomial_data(poly=my_poly_coeffs, x_range=my_x_range)\n",
    "\n",
    "# Plot the curve the data came from\n",
    "#  Note: This time use linspace to generate samples in my_x_range. This should still work properly even if the x range\n",
    "#   is changed (i.e., use my_x_range in linspace)\n",
    "#  Use polyval again to generate points along the polynomial\n",
    "my_x_values = np.linspace(my_x_range[0], my_x_range[1])\n",
    "plt.plot(my_x_values, polynomial.polyval(my_x_values, my_poly_coeffs), '-k', label=\"Expected quadratic\")\n",
    "\n",
    "\n",
    "# Plot the data - use a scatter plot because the data isn't in any order\n",
    "plt.scatter(x, y, label=\"Data\")\n",
    "\n",
    "# Make the axes have the same spacing\n",
    "plt.axis('equal')\n",
    "\n",
    "# Now do the actual \"fit\" to the noisy data and plot the results\n",
    "ret_poly = polynomial.polyfit(x, y, deg=2)\n",
    "\n",
    "# Plot the fitted polyline, using polyval with the returned polynomial coefficients\n",
    "plt.plot(my_x_values, polynomial.polyval(my_x_values, ret_poly), ':g', label=\"Fitted polynomial\")\n",
    "\n",
    "\n",
    "plt.legend()"
   ]
  }
 ],
 "metadata": {
  "kernelspec": {
   "display_name": "Python 3",
   "language": "python",
   "name": "python3"
  },
  "language_info": {
   "codemirror_mode": {
    "name": "ipython",
    "version": 3
   },
   "file_extension": ".py",
   "mimetype": "text/x-python",
   "name": "python",
   "nbconvert_exporter": "python",
   "pygments_lexer": "ipython3",
   "version": "3.11.4"
  }
 },
 "nbformat": 4,
 "nbformat_minor": 2
}
