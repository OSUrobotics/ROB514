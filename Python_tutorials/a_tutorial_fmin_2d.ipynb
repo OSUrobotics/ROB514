{
 "cells": [
  {
   "cell_type": "markdown",
   "metadata": {},
   "source": [
    "# Optimization part 2\n",
    "\n",
    "In this tutorial we show how to do fmin with a 2 dimensional function in 3d. Note: there is no practice JN to go with this one, just play around with moving the elliptic parabaloid around."
   ]
  },
  {
   "cell_type": "code",
   "execution_count": null,
   "metadata": {},
   "outputs": [],
   "source": [
    "# Our usual imports\n",
    "import numpy as np\n",
    "import matplotlib.pyplot as plt\n",
    "\n",
    "# New scipy import that finds the minima of a function\n",
    "from scipy.optimize import fmin\n",
    "# A helper function that \"binds\" variables\n",
    "from functools import partial\n"
   ]
  },
  {
   "cell_type": "markdown",
   "metadata": {},
   "source": [
    "## 2D example\n",
    "\n",
    "A 2 dimensional version of a parabaloid."
   ]
  },
  {
   "cell_type": "code",
   "execution_count": null,
   "metadata": {},
   "outputs": [],
   "source": [
    "# A fancier quadratic-y type function (but in 2D)\n",
    "def elliptic_paraboloid(x, y, x0=0, y0=0, a=1, b=1):\n",
    "    \"\"\" x,y -> f(x) in the shape of a 'bowl'\n",
    "    @param x - x value in the plane\n",
    "    @param y - y value in the plane\n",
    "    @param x0 - amount to shift the bottom of the bowl by in x\n",
    "    @param y0 - amount to shift the bottom of the bowl by in y\n",
    "    @param a - scale the bowl's side in x\n",
    "    @param b - scale the bowl's side in y\n",
    "    @returns - f(x,y) the bowl's height over the point x,y\n",
    "    \"\"\"\n",
    "    return (x-x0)**2 / a**2 + (y-y0)**2 / b**2\n"
   ]
  },
  {
   "cell_type": "markdown",
   "metadata": {},
   "source": [
    "# Partial example\n",
    "Because the function definition has all these extra parameters that control the shape of the function (**x0**, etc), we have do what's called \"binding\" the variables to values, in this case **x0 = 3, y0 = 2, a = 4, b = 16**\n",
    "\n",
    "**partial** is a **functools** method to do this, which has the advantage over a **lambda** function of creating a python function that is more \"efficient\" because it \"freezes\" the constant parameters\n",
    "\n",
    "**partial** takes the function **elliptic_paraboloid** and \"binds\" all of the named parameter arguments"
   ]
  },
  {
   "cell_type": "code",
   "execution_count": null,
   "metadata": {},
   "outputs": [],
   "source": [
    "my_paraboloid = partial(elliptic_paraboloid, x0=3, y0=2, a=8, b=16)\n",
    "print(f\"My parabaloid at 3,4: {my_paraboloid(3, 4)}, check {elliptic_paraboloid(3, 4, x0=3, y0=2, a=8, b=16)}\")"
   ]
  },
  {
   "cell_type": "markdown",
   "metadata": {},
   "source": [
    "## With lambda...\n",
    "Almost done - **fmin** takes a function that takes in one argument (a list of dimension d) and outputs one number. Our my_paraboloid function currently takes in **x,y**, not **[x,y]**.\n",
    "\n",
    "**Lambda** functions fix that: In this case, **lambda** says make a new (temporary, unnamed function) that takes in one parameter (**array**) and calls my_paraboloid with **array[0]** and **array[1]**\n",
    "\n",
    "Notice this time we saved the returned tuple to result, rather than unpacking it"
   ]
  },
  {
   "cell_type": "code",
   "execution_count": null,
   "metadata": {},
   "outputs": [],
   "source": [
    "result = fmin(lambda array: my_paraboloid(array[0], array[1]), [0, 0], maxfun=200, full_output=True)\n",
    "print(result)\n",
    "print(f\"Function minimum is {result[1]}, found at x,y {result[0]}\")"
   ]
  },
  {
   "cell_type": "markdown",
   "metadata": {},
   "source": [
    "# Lambda with fmin args\n",
    "Using **fmin**'s args function in combination with a lambda function"
   ]
  },
  {
   "cell_type": "code",
   "execution_count": null,
   "metadata": {
    "scrolled": true
   },
   "outputs": [],
   "source": [
    "# args must be in the same order as the additional parameters in elliptic paraboloid\n",
    "# The lambda function we create takes 5 arguments - the last four of which will be set to args\n",
    "result = fmin(lambda array, x0, y0, a, b: elliptic_paraboloid(array[0], array[1], x0, y0, a, b), [0, 0], args=(3, 2, 8, 16), full_output=True)\n",
    "print(result)\n",
    "print(f\"Function minimum is {result[1]}, found at x,y {result[0]}\")"
   ]
  },
  {
   "cell_type": "markdown",
   "metadata": {},
   "source": [
    "## An aside on lambda functions"
   ]
  },
  {
   "cell_type": "code",
   "execution_count": null,
   "metadata": {},
   "outputs": [],
   "source": [
    "# You shouldn't really do this, because lambda functions are suppose to be unnamed,\n",
    "#  but this will show you what the lambda did\n",
    "my_lambda_func_2D = lambda array: my_paraboloid(array[0], array[1])\n",
    "# Notice that my_func_2D takes a list of two numbers, my_parabaloid takes 2 numbers\n",
    "print(f\"Call my_parabaloid with 3, 4: {my_lambda_func_2D([3, 4])} {my_paraboloid(3, 4)}\")"
   ]
  },
  {
   "cell_type": "markdown",
   "metadata": {},
   "source": [
    "# Plotting in 2D\n",
    "\n",
    "Note, you can make this interactive in VSCode with\n",
    "\n",
    "%matplotlib widget \n",
    "\n",
    "provided the ipyml package is installed. If you're in a browser, do this instead\n",
    "\n",
    "%matplotlib notebook"
   ]
  },
  {
   "cell_type": "code",
   "execution_count": null,
   "metadata": {},
   "outputs": [],
   "source": [
    "# Make interactive - may pop up a \"do you want to install\" message\n",
    "%matplotlib widget\n",
    "\n",
    "# Notice the subplot_kw argument - this lets matlab know we want to plot in 3D and how to set the camera\n",
    "fig2, axs2 = plt.subplots(subplot_kw={\"projection\": \"3d\"})\n",
    "xs, ys = np.meshgrid(np.linspace(2.5, 4.0), np.linspace(0.0, 3.0))\n",
    "axs2.plot_surface(xs, ys, my_paraboloid(xs, ys))\n",
    "axs2.plot(result[0][0], result[0][1], result[1], 'Xr', markersize=20)\n",
    "axs2.set_xlabel('x')\n",
    "axs2.set_ylabel('y')\n",
    "axs2.set_title(\"Minimum of ellipsoid\")\n"
   ]
  }
 ],
 "metadata": {
  "kernelspec": {
   "display_name": "Python 3",
   "language": "python",
   "name": "python3"
  },
  "language_info": {
   "codemirror_mode": {
    "name": "ipython",
    "version": 3
   },
   "file_extension": ".py",
   "mimetype": "text/x-python",
   "name": "python",
   "nbconvert_exporter": "python",
   "pygments_lexer": "ipython3",
   "version": "3.11.0"
  }
 },
 "nbformat": 4,
 "nbformat_minor": 2
}
