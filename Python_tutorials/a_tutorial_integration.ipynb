{
 "cells": [
  {
   "cell_type": "markdown",
   "metadata": {},
   "source": [
    "# Numeric integration \n",
    "\n",
    "Integration is simply adding up the area under the curve. An integral in two dimensions will add up the area under a surface. If you have an analytic equation that can be integrated to create another analytic equation (think the integral of a sine function is a cosine function) then you can just evaluate that analytic equation; unfortunately, there are very few \"real world\" equations that we can integrate in this way. So we turn to numerical integration.\n",
    "\n",
    "There are (broadly) two ways to integrate numerically. One is to chop up the domain into chunks and approximate with rectangles or trapezoids (or something fancier). The other is to sample the integral at some random points and see if the points are under the curve (or not).\n",
    "\n",
    "We'll do one each of these in this tutorial\n",
    "\n",
    "Slides: https://docs.google.com/presentation/d/1-I407aSQVEo_WJPGlZlG3Dh4AJ5vZa0rl_pXxELR2ic/edit?usp=sharing"
   ]
  },
  {
   "cell_type": "code",
   "execution_count": null,
   "metadata": {},
   "outputs": [],
   "source": [
    "# Our usual numpy and matplotlib\n",
    "import numpy as np\n",
    "import matplotlib.pyplot as plt\n",
    "\n",
    "# We'll use fmin bound (which is a version of fmin that lets you set bounds on the search area)\n",
    "from scipy.optimize import fminbound\n",
    "# All of the numerical integration techniques live in scipy.integrate\n",
    "from scipy.integrate import quad\n"
   ]
  },
  {
   "cell_type": "code",
   "execution_count": null,
   "metadata": {},
   "outputs": [],
   "source": [
    "# A generic function that we want to find the area under the curve for\n",
    "def my_func(x):\n",
    "    \"\"\"A quadratic function\n",
    "    @param x the input x value\n",
    "    @returns f(x)\"\"\"\n",
    "    return (x-2)**2 - 3"
   ]
  },
  {
   "cell_type": "markdown",
   "metadata": {},
   "source": [
    "# Trapz example\n",
    "\n",
    "In this example, we \"manually\" chop of the function ourselves, and pass the samples to trapz to do the calculation.\n",
    "\n",
    "Find the area under the curve from x = a to x = b\n",
    "\n",
    "**trapz** wants either a **dx** value (spacing between the samples) OR actual **x** values (useful if the x values are not evenly spaced)\n",
    "\n",
    "So pick some **x** values, evaluate the function at those **x** values **y = f(x)**, then send both the **y** and **x** values to **trapz** (note that **trapz** takes the **y** values then the **x** OR **d** values)\n",
    "\n",
    "TODO Change the integration limits - what do you get when the curve crosses the y=0 line?\n",
    "\n",
    "TODO What happens when you change the number of samples?"
   ]
  },
  {
   "cell_type": "code",
   "execution_count": null,
   "metadata": {},
   "outputs": [],
   "source": [
    "# Integration limits\n",
    "a = -1\n",
    "b = 0\n",
    "\n",
    "# Get x values evenly spaced between a and b\n",
    "xs = np.linspace(a, b, num=10)\n",
    "# Evaluate function\n",
    "ys = my_func(xs)\n",
    "\n",
    "# Use trapz to get area - notice that y and x are swapped\n",
    "area_under_curve = np.trapz(ys, xs)\n"
   ]
  },
  {
   "cell_type": "markdown",
   "metadata": {},
   "source": [
    "## Let's plot and see if the area calculation is about right"
   ]
  },
  {
   "cell_type": "code",
   "execution_count": null,
   "metadata": {},
   "outputs": [],
   "source": [
    "#  If you look at the wedge, it's about 1/2 of the square, so 1/2 6 is about right\n",
    "#.   The \n",
    "fig, axs = plt.subplots(1, 1, figsize=(4, 4))\n",
    "axs.plot(xs, ys, '-xk', label='Quadratic')\n",
    "\n",
    "# Integration limits\n",
    "axs.plot([a, a], [0, ys[0]], '-g', label='left bound')\n",
    "axs.plot([b, b], [0, ys[-1]], '-g', label='right bound')\n",
    "axs.plot([a, b], [0, 0], '--k')\n",
    "axs.set_xlabel('x')\n",
    "axs.set_ylabel('y')\n",
    "axs.legend()\n",
    "axs.axis('equal')\n",
    "\n",
    "axs.set_title(f\"Area under curve: box is {(b-a) * np.max(ys)}, trapz {area_under_curve:0.4f}\")"
   ]
  },
  {
   "cell_type": "markdown",
   "metadata": {},
   "source": [
    "# Quad example\n",
    "\n",
    "In this example, we pass the function itself in and let the **quad** function decide how many samples to use. This is, in general, better than **trapz**, because **quad** tries to find a balance between number of samples and accuracy.\n",
    "\n",
    "Find the area under the curve from **x = a** to **x = b**\n",
    "\n",
    "**quad** takes in a function and bounds **(a, b)**\n",
    "\n",
    "TODO Change the integration limits - what do you get when the curve crosses the y=0 line?\n",
    "\n",
    "TODO How many samples do you need in the **trapz** example above to get the same answer as **quad**?"
   ]
  },
  {
   "cell_type": "code",
   "execution_count": null,
   "metadata": {},
   "outputs": [],
   "source": [
    "# Integration limits\n",
    "a = -1\n",
    "b = 0\n",
    "# quad will do the sampling for you\n",
    "area_under_curve = quad(my_func, a, b)"
   ]
  },
  {
   "cell_type": "markdown",
   "metadata": {},
   "source": [
    "## Plot"
   ]
  },
  {
   "cell_type": "code",
   "execution_count": null,
   "metadata": {},
   "outputs": [],
   "source": [
    "# We'll need to create samples to plot...\n",
    "fig, axs = plt.subplots(1, 1, figsize=(4, 4))\n",
    "axs.plot(np.linspace(a, b), my_func(np.linspace(a, b)), '-k', label='Quadratic')\n",
    "\n",
    "# Plot the left/right boundaries with the max, min function values\n",
    "axs.plot([a, a], [0, my_func(a)], '-g', label='left bound')\n",
    "axs.plot([b, b], [0, my_func(b)], '-g', label='right bound')\n",
    "axs.plot([a, b], [0, 0], '--k')\n",
    "\n",
    "axs.set_xlabel('x')\n",
    "axs.set_ylabel('y')\n",
    "axs.axis('equal')\n",
    "axs.legend()\n",
    "\n",
    "# Quad returns two parameters; the one we want (the area) is the first one\n",
    "axs.set_title(f\"Area under curve using quad {area_under_curve[0]:0.4f}\")"
   ]
  },
  {
   "cell_type": "markdown",
   "metadata": {},
   "source": [
    "# Monte-carlo example\n",
    "\n",
    "Find the area under the curve by estimating the number of points inside vs outside the box\n",
    "- Build a box that encloses the curve (need to find the min and max values of the function over the interval [a,b])\n",
    "- Generate samples in that box\n",
    "- See if the samples are under the curve (or not). Somewhat complicated because it depends on if the curve is above or below the **y = 0** line\n",
    "\n",
    "TODO Change the integration limits - what do you get when the curve crosses the y=0 line?\n",
    "\n",
    "TODO Change the number of samples and/or run the code multiple times - how much does the answer vary?"
   ]
  },
  {
   "cell_type": "code",
   "execution_count": null,
   "metadata": {},
   "outputs": [],
   "source": [
    "# Integration limits - change this so the curve passes under the y = 0 line\n",
    "a = -1\n",
    "b = 0\n",
    "\n",
    "# fminbound is like fmin, but it takes in boundaries to search over\n",
    "# Notice the minus sign (-) in order to find the maximum\n",
    "# Remember that fmin and fminbound returns the x value where the function is at a minimum\n",
    "#   ... so to get the actual f(x) max/min you need to pass it back to my_func\n",
    "largest_value_of_f = my_func(fminbound(lambda x : -my_func(x), a, b))\n",
    "smallest_value_of_f = my_func(fminbound(lambda x : my_func(x), a, b))\n",
    "\n",
    "# How to calculate the area of a rectangle\n",
    "box_area = (b-a) * (largest_value_of_f - smallest_value_of_f)"
   ]
  },
  {
   "cell_type": "code",
   "execution_count": null,
   "metadata": {},
   "outputs": [],
   "source": [
    "# Generate 100 random samples in the box\n",
    "n_samples = 100\n",
    "# x samples go between a and b\n",
    "xs_samples = np.random.uniform(a, b, n_samples)\n",
    "# y samples go between the two bounds on my_func\n",
    "ys_samples = np.random.uniform(smallest_value_of_f, largest_value_of_f, n_samples)\n",
    "\n",
    "# Now figure out which ones are less than my_func(x)\n",
    "# I don't know why and and or don't work, so we'll use logical and & and logical or | and logical not ~\n",
    "b_func_is_above_line = my_func(xs_samples) > 0\n",
    "b_sample_is_above_line = ys_samples > 0\n",
    "b_is_inside_above = b_func_is_above_line & b_sample_is_above_line & (ys_samples < my_func(xs_samples))\n",
    "b_is_inside_below = ~b_func_is_above_line & ~b_sample_is_above_line & (ys_samples > my_func(xs_samples))\n",
    "b_is_under = b_is_inside_above | b_is_inside_below\n",
    "\n",
    "# Count how many are under versus over - that's an approximation of the percentage of the box\n",
    "#  area that is inside the curve\n",
    "area_under_curve = box_area * np.count_nonzero(b_is_under) / n_samples"
   ]
  },
  {
   "cell_type": "markdown",
   "metadata": {},
   "source": [
    "## Let's plot and see if we got the box right and labeled the samples correctly\n",
    "\n",
    "We'll draw the samples and color them as red dots or green +'s depending on if they are inside or outside"
   ]
  },
  {
   "cell_type": "code",
   "execution_count": null,
   "metadata": {},
   "outputs": [],
   "source": [
    "fig, axs = plt.subplots(1, 1, figsize=(4, 4))\n",
    "\n",
    "# Draw the box\n",
    "axs.plot([a, b, b, a, a],\n",
    "         [smallest_value_of_f, smallest_value_of_f, largest_value_of_f, largest_value_of_f, smallest_value_of_f],\n",
    "         ':k', label=f\"box {box_area:0.2f}\")\n",
    "\n",
    "# Draw the function\n",
    "axs.plot(np.linspace(a, b), my_func(np.linspace(a, b)), '-k', label='Quadratic')\n",
    "\n",
    "# Plot samples inside versus outside\n",
    "axs.plot(xs_samples[b_is_under], ys_samples[b_is_under], '+g', label=\"inside\")\n",
    "# I don't know why not b_is_under doesn't work, but logical_not with ~ does work\n",
    "axs.plot(xs_samples[~b_is_under], ys_samples[~b_is_under], '.r', label=\"outside\")\n",
    "\n",
    "axs.plot([a, b], [0, 0], '--k')\n",
    "axs.set_xlabel('x')\n",
    "axs.set_ylabel('y')\n",
    "axs.axis('equal')\n",
    "axs.legend()\n",
    "# Quad returns several parameters; the one we want (the area) is the first one\n",
    "axs.set_title(f\"Area under curve using Monte-Carlo {area_under_curve:0.4f}, n {n_samples}\")\n"
   ]
  },
  {
   "cell_type": "code",
   "execution_count": null,
   "metadata": {},
   "outputs": [],
   "source": []
  }
 ],
 "metadata": {
  "kernelspec": {
   "display_name": "Python 3",
   "language": "python",
   "name": "python3"
  },
  "language_info": {
   "codemirror_mode": {
    "name": "ipython",
    "version": 3
   },
   "file_extension": ".py",
   "mimetype": "text/x-python",
   "name": "python",
   "nbconvert_exporter": "python",
   "pygments_lexer": "ipython3",
   "version": "3.7.4"
  }
 },
 "nbformat": 4,
 "nbformat_minor": 2
}
