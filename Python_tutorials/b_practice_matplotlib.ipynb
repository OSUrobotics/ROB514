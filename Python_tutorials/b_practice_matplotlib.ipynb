{
 "cells": [
  {
   "cell_type": "markdown",
   "metadata": {},
   "source": [
    "# Making a figure using plot, use case 1\n",
    "\n",
    "Don't forget the imports..."
   ]
  },
  {
   "cell_type": "code",
   "execution_count": null,
   "metadata": {},
   "outputs": [],
   "source": [
    "import numpy as np\n",
    "import matplotlib.pyplot as plt\n",
    "\n",
    "# This \"magic\" command tells matplotlib to make in-line images of plots.\n",
    "%matplotlib inline"
   ]
  },
  {
   "cell_type": "markdown",
   "metadata": {},
   "source": [
    "## Here's the data and plot from the tutorial\n",
    "\n",
    "TODO: Get out the cheat sheet and try a few things https://matplotlib.org/cheatsheets/_images/cheatsheets-2.png\n",
    "- Plot tan as well as sin and cos\n",
    "- Change the colors of the lines\n",
    "- Move the legend somewhere else\n",
    "- Reduce the number of data points to 10 and draw just markers (no lines)\n"
   ]
  },
  {
   "cell_type": "code",
   "execution_count": null,
   "metadata": {},
   "outputs": [],
   "source": [
    "t_values = np.linspace(-np.pi, np.pi, num=200)\n",
    "y1_values = np.sin(t_values)\n",
    "y2_values = np.cos(t_values)\n",
    "\n",
    "# Here's the two original plot commands\n",
    "plt.plot(t_values, y1_values, '-b', label='sin', marker='x')\n",
    "plt.plot(t_values, y2_values, '--r', label='cos', linewidth=2)\n",
    "\n",
    "# Here's the add labeling stuff\n",
    "plt.xlabel(\"t value\")\n",
    "plt.ylabel(\"y value\")\n",
    "plt.title('Sin and Cos example')\n",
    "plt.legend(loc='upper right')\n",
    "plt.show()"
   ]
  },
  {
   "cell_type": "markdown",
   "metadata": {},
   "source": [
    "# Use-case 2: More than one plot in a window\n",
    "\n",
    "Again, here's the data/plot from the tutorial. \n",
    "TODO: Edit this code to\n",
    " - Make 3 subplots, cos+sin, tan, and a circle\n",
    " - Be wider instead of tall when created"
   ]
  },
  {
   "cell_type": "code",
   "execution_count": null,
   "metadata": {},
   "outputs": [],
   "source": [
    "# I like to do this so I don't have to change all of the subplots later if I decide to add another row...\n",
    "nrows = 1\n",
    "ncols = 2\n",
    "\n",
    "fig, axs = plt.subplots(nrows, ncols, figsize=(3, 6))\n",
    "\n",
    "# Add a title to the window\n",
    "fig.suptitle(\"Trigonometry\")\n",
    "\n",
    "axs[0].plot(t_values, y1_values, '-b', label=\"Sin\")\n",
    "axs[0].plot(t_values, y2_values, '-g', label=\"Cos\")\n",
    "axs[0].set_title('Sin and cos')\n",
    "axs[0].set_xlabel('t values')\n",
    "axs[0].set_ylabel('y values')\n",
    "# Notice that legend one doesn't have a set.\n",
    "axs[0].legend()   # Without explicit instructions it will put it wherever it deems best\n",
    "\n",
    "# Now do a SECOND plot that is a circle. Notice axs[1] instead of axs[0]\n",
    "axs[1].plot(y1_values, y2_values, '--b', label='circle')\n",
    "axs[1].set_title('Circle')\n",
    "\n",
    "# Notice that the circle does not look like a circle - this fixes it, by making the axes equal size.\n",
    "axs[1].axis('equal')\n",
    "plt.show()"
   ]
  },
  {
   "cell_type": "markdown",
   "metadata": {},
   "source": [
    "# Use case 1, answers\n",
    "\n",
    "Notice the use of plt.plot, instead of axs. Doesn't really matter if you're only making one plot."
   ]
  },
  {
   "cell_type": "code",
   "execution_count": null,
   "metadata": {},
   "outputs": [],
   "source": [
    "# To simplify things, I made a second t values for the markers\n",
    "t_values = np.linspace(-np.pi, np.pi, num=200)\n",
    "t_values_markers = np.linspace(-np.pi, np.pi, num=10)\n",
    "y1_values = np.sin(t_values)\n",
    "y2_values = np.cos(t_values)\n",
    "y3_values = np.tan(t_values)\n",
    "y_marker_values = np.sin(t_values_markers)\n",
    "\n",
    "# Here's the three plot commands with the different color/linestyle options\n",
    "#   Note that order doesn't matter, except for t, y, and the format string, as long as you use the\n",
    "#   foo= syntax\n",
    "plt.plot(t_values, y1_values, color='aqua', label='sin', linestyle='-')\n",
    "plt.plot(t_values, y2_values, label='cos', linewidth=2)\n",
    "plt.plot(t_values, y3_values, linestyle='--', color='green', label='tan', linewidth=1)\n",
    "#  red and no line - these two commands are identical, btw\n",
    "plt.plot(t_values_markers, y_marker_values, 'rD')\n",
    "plt.plot(t_values_markers, y_marker_values, linestyle='none', color='red', marker='D')\n",
    "\n",
    "# Here's the add labeling stuff\n",
    "plt.xlabel(\"t value\")\n",
    "plt.ylabel(\"y value\")\n",
    "plt.title('Sin and Cos example')\n",
    "\n",
    "#  Notice that, because we didn't label the markers, they don't show up in the legend.\n",
    "plt.legend(loc='upper left')\n",
    "\n",
    "plt.show()"
   ]
  },
  {
   "cell_type": "markdown",
   "metadata": {},
   "source": [
    "# Use case 2, answers"
   ]
  },
  {
   "cell_type": "code",
   "execution_count": null,
   "metadata": {},
   "outputs": [],
   "source": [
    "# Re-doing these here\n",
    "t_values = np.linspace(-np.pi, np.pi, num=200)\n",
    "y1_values = np.sin(t_values)\n",
    "y2_values = np.cos(t_values)\n",
    "y3_values = np.tan(t_values)\n",
    "\n",
    "# I like to do this so I don't have to change all of the subplots later if I decide to add another row...\n",
    "nrows = 1\n",
    "ncols = 3\n",
    "\n",
    "# Change both ncols and figsize to be 3 and the wider shape\n",
    "fig, axs = plt.subplots(nrows, ncols, figsize=(12, 4))\n",
    "\n",
    "# Add a title to the window\n",
    "fig.suptitle(\"Trigonometry\")\n",
    "\n",
    "axs[0].plot(t_values, y1_values, '-b', label=\"Sin\")\n",
    "axs[0].plot(t_values, y2_values, '-g', label=\"Cos\")\n",
    "axs[0].set_title('Sin and cos')\n",
    "axs[0].set_xlabel('t values')\n",
    "axs[0].set_ylabel('y values')\n",
    "# Notice that THIS one doesn't have a set.\n",
    "axs[0].legend(loc='upper left')   # Without explicit instructions it will put it wherever it deems best\n",
    "\n",
    "axs[1].plot(t_values, y3_values, '-b', label=\"tan\")\n",
    "axs[1].set_title('Tangent')\n",
    "axs[1].set_xlabel('t values')\n",
    "axs[1].set_ylabel('y values')\n",
    "\n",
    "# Change this to be axs[2] so it'll be the 3rd window\n",
    "axs[2].plot(y1_values, y2_values, '--b', label='circle')\n",
    "axs[2].set_title('Circle')\n",
    "\n",
    "# Notice that the circle does not look like a circle - this fixes it, by making the axes equal size.\n",
    "axs[2].axis('equal')\n",
    "\n",
    "plt.show()"
   ]
  }
 ],
 "metadata": {
  "kernelspec": {
   "display_name": "Python 3",
   "language": "python",
   "name": "python3"
  },
  "language_info": {
   "codemirror_mode": {
    "name": "ipython",
    "version": 3
   },
   "file_extension": ".py",
   "mimetype": "text/x-python",
   "name": "python",
   "nbconvert_exporter": "python",
   "pygments_lexer": "ipython3",
   "version": "3.7.3"
  }
 },
 "nbformat": 4,
 "nbformat_minor": 2
}
