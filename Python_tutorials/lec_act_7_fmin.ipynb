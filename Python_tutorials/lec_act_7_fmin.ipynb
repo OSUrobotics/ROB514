{
 "cells": [
  {
   "cell_type": "code",
   "execution_count": null,
   "metadata": {
    "deletable": false,
    "editable": false
   },
   "outputs": [],
   "source": [
    "# Initialize Otter\n",
    "import otter\n",
    "grader = otter.Notebook(\"lec_act_7_fmin.ipynb\")"
   ]
  },
  {
   "cell_type": "code",
   "execution_count": null,
   "metadata": {},
   "outputs": [],
   "source": [
    "# Usual imports\n",
    "from scipy.optimize import fmin\n",
    "import matplotlib.pyplot as plt\n",
    "import numpy as np"
   ]
  },
  {
   "cell_type": "markdown",
   "metadata": {
    "deletable": false,
    "editable": false
   },
   "source": [
    "# Change the starting location to get the other local minima\n",
    "\n",
    "Slides: https://docs.google.com/presentation/d/1xKhWyquiP-_wM9AnJJ57BBtF0eitEqSdODq34ttMZgk/edit?usp=sharing\n",
    "\n",
    "TODO: Set up fmin so that you get the minima at x = 0"
   ]
  },
  {
   "cell_type": "code",
   "execution_count": null,
   "metadata": {
    "tags": [
     "otter_answer_cell"
    ]
   },
   "outputs": [],
   "source": [
    "# This function has several local minima - how to find the best one?\n",
    "def my_multiple_minima_func(x):\n",
    "    \"\"\"A function with multiple minima\n",
    "    @param x the input x value\n",
    "    @returns ax^2 + bx + c\"\"\"\n",
    "    return (3.0 * x - 4.0) * (0.5 * x + 0.2) * (x - 3.0) * (x - 3.0) + 2.0 * x + 0.5"
   ]
  },
  {
   "cell_type": "code",
   "execution_count": null,
   "metadata": {
    "tags": [
     "otter_answer_cell"
    ]
   },
   "outputs": [],
   "source": [
    "# Change this so you get the global minima near x = 0.15\n",
    "x_at_min1, f_at_x_min1, _, _, _ = fmin(my_multiple_minima_func, 4.0, full_output=True)\n",
    "print(f\"Minimum of f is {f_at_x_min1}, happens at x={x_at_min1[0]}\")"
   ]
  },
  {
   "cell_type": "code",
   "execution_count": null,
   "metadata": {
    "tags": [
     "otter_answer_cell"
    ]
   },
   "outputs": [],
   "source": [
    "# Plot the function and the minima\n",
    "fig, axs = plt.subplots(1, 1, figsize=(4, 4))\n",
    "ts = np.linspace(-2.0, 5.0)\n",
    "axs.plot(ts, my_multiple_minima_func(ts), linestyle='-', label=\"Local minima\")\n",
    "axs.plot(x_at_min1, f_at_x_min1, 'Xr')\n",
    "\n",
    "axs.set_xlabel('x')\n",
    "axs.set_ylabel('y')\n",
    "\n",
    "axs.set_title(\"Minimum of quartic: Local minima\")"
   ]
  },
  {
   "cell_type": "code",
   "execution_count": null,
   "metadata": {
    "deletable": false,
    "editable": false
   },
   "outputs": [],
   "source": [
    "grader.check(\"fmin_start_location\")"
   ]
  },
  {
   "cell_type": "markdown",
   "metadata": {
    "deletable": false,
    "editable": false
   },
   "source": [
    "# Be less accurate (but faster)\n",
    "\n",
    "TODO: Change xtol and/or ftol until the total number of iterations is under 10"
   ]
  },
  {
   "cell_type": "code",
   "execution_count": null,
   "metadata": {
    "tags": [
     "otter_answer_cell"
    ]
   },
   "outputs": [],
   "source": [
    "# TODO: Change xtol and ftol until the number of iterations is under 10\n",
    "# (Also play around with the values to see how LONG you can make it run...\n",
    "x_not_as_accurate_min, f_not_as_accurate_min, iters, _, _ = fmin(my_multiple_minima_func, 4.0, xtol=0.0001, ftol=0.0001, full_output=True)\n",
    "...\n"
   ]
  },
  {
   "cell_type": "code",
   "execution_count": null,
   "metadata": {
    "tags": [
     "otter_answer_cell"
    ]
   },
   "outputs": [],
   "source": [
    "fig2, axs2 = plt.subplots(1, 1, figsize=(4, 4))\n",
    "ts = np.linspace(2.6, 2.9)\n",
    "axs2.plot(ts, my_multiple_minima_func(ts), linestyle='-', label=\"Zoom in on curve\")\n",
    "\n",
    "x_at_min2, f_at_x_min2, _, _, _ = fmin(my_multiple_minima_func, 4.0, full_output=True)\n",
    "axs2.plot(x_at_min2, f_at_x_min2, 'Xr', label=\"Accurate minima\")\n",
    "print(f\"Minimum of f is {f_at_x_min2}, happens at x={x_at_min2[0]}\")\n",
    "\n",
    "axs2.plot(x_not_as_accurate_min, f_not_as_accurate_min, 'Xg', label=\"Not Accurate minima\")\n",
    "\n",
    "axs2.set_xlabel('x')\n",
    "axs2.set_ylabel('y')\n",
    "axs2.legend()\n",
    "\n",
    "axs2.set_title(\"Minimum of quartic: Zoom in on Local minima\")"
   ]
  },
  {
   "cell_type": "code",
   "execution_count": null,
   "metadata": {
    "deletable": false,
    "editable": false
   },
   "outputs": [],
   "source": [
    "grader.check(\"fmin_iter\")"
   ]
  },
  {
   "cell_type": "markdown",
   "metadata": {
    "deletable": false,
    "editable": false
   },
   "source": [
    "## Hours and collaborators\n",
    "Required for every assignment - fill out before you hand-in.\n",
    "\n",
    "Listing names and websites helps you to document who you worked with and what internet help you received in the case of any plagiarism issues. You should list names of anyone (in class or not) who has substantially helped you with an assignment - or anyone you have *helped*. You do not need to list TAs.\n",
    "\n",
    "Listing hours helps us track if the assignments are too long."
   ]
  },
  {
   "cell_type": "code",
   "execution_count": null,
   "metadata": {
    "tags": [
     "otter_answer_cell"
    ]
   },
   "outputs": [],
   "source": [
    "\n",
    "# List of names (creates a set)\n",
    "worked_with_names = {\"not filled out\"}\n",
    "# List of URLS 2U5 (creates a set)\n",
    "websites = {\"not filled out\"}\n",
    "# Approximate number of hours, including lab/in-class time\n",
    "hours = -1.5"
   ]
  },
  {
   "cell_type": "code",
   "execution_count": null,
   "metadata": {
    "deletable": false,
    "editable": false
   },
   "outputs": [],
   "source": [
    "grader.check(\"hours_collaborators\")"
   ]
  },
  {
   "cell_type": "markdown",
   "metadata": {},
   "source": [
    "### To submit\n",
    "\n",
    "All the usual - rerun, remove print statements, save. Make sure plots are visible.\n",
    "\n",
    "- Submit this .ipynb file to lecture activity 7 (fmin)\n",
    "\n",
    "If the Gradescope autograder fails, please check here first for common reasons for it to fail\n",
    "    https://docs.google.com/presentation/d/1tYa5oycUiG4YhXUq5vHvPOpWJ4k_xUPp2rUNIL7Q9RI/edit?usp=sharing\n",
    "\n",
    "Hope your term is going well!"
   ]
  }
 ],
 "metadata": {
  "kernelspec": {
   "display_name": "Python 3",
   "language": "python",
   "name": "python3"
  },
  "language_info": {
   "codemirror_mode": {
    "name": "ipython",
    "version": 3
   },
   "file_extension": ".py",
   "mimetype": "text/x-python",
   "name": "python",
   "nbconvert_exporter": "python",
   "pygments_lexer": "ipython3",
   "version": "3.12.4"
  },
  "otter": {
   "OK_FORMAT": true,
   "tests": {
    "fmin_iter": {
     "name": "fmin_iter",
     "points": 2,
     "suites": [
      {
       "cases": [
        {
         "code": ">>> assert iters < 10\n",
         "hidden": false,
         "locked": false
        },
        {
         "code": ">>> assert np.isclose(f_at_x_min2, f_not_as_accurate_min, atol=0.1)\n",
         "hidden": false,
         "locked": false
        }
       ],
       "scored": true,
       "setup": "",
       "teardown": "",
       "type": "doctest"
      }
     ]
    },
    "fmin_start_location": {
     "name": "fmin_start_location",
     "points": 1,
     "suites": [
      {
       "cases": [
        {
         "code": ">>> assert np.isclose(x_at_min1, 0.1545625, atol=0.0001)\n",
         "hidden": false,
         "locked": false
        },
        {
         "code": ">>> assert np.isclose(f_at_x_min1, -7.1299378, atol=0.01)\n",
         "hidden": false,
         "locked": false
        }
       ],
       "scored": true,
       "setup": "",
       "teardown": "",
       "type": "doctest"
      }
     ]
    },
    "hours_collaborators": {
     "name": "hours_collaborators",
     "points": 1,
     "suites": [
      {
       "cases": [
        {
         "code": ">>> assert not 'not filled out' in worked_with_names\n",
         "hidden": false,
         "locked": false
        },
        {
         "code": ">>> assert not 'not filled out' in websites\n",
         "hidden": false,
         "locked": false
        },
        {
         "code": ">>> assert hours > 0\n",
         "hidden": false,
         "locked": false
        }
       ],
       "scored": true,
       "setup": "",
       "teardown": "",
       "type": "doctest"
      }
     ]
    }
   }
  }
 },
 "nbformat": 4,
 "nbformat_minor": 2
}
