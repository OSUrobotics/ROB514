{
 "cells": [
  {
   "cell_type": "markdown",
   "metadata": {},
   "source": [
    "### Where is that item in the list?\n",
    "One common task is to find things in numpy arrays - the first time a number in an array goes negative, all the places that are greater than some value, etc. You can always use a **for** loop, of course, to find things in a numpy array, but that can be... slow. Numpy has a general purpose set of functions for checking if there are negative numbers, counting the number, etc. You've already seen one such example - **count_nonzero**. \n",
    "\n",
    "In this tutorial we will practice using **np.where**, a general-purpose function that not only tells you if something is in an array, but also *where* it is. However, the syntax/format of the return value of this function is not exactly simple, so hence this tutorial."
   ]
  },
  {
   "cell_type": "code",
   "execution_count": null,
   "metadata": {},
   "outputs": [],
   "source": [
    "# The usual import\n",
    "import numpy as np"
   ]
  },
  {
   "cell_type": "code",
   "execution_count": null,
   "metadata": {},
   "outputs": [],
   "source": [
    "# Make an array to test with - this starts at -1 and goes to 2 and has 5 elements\n",
    "test_np_array = np.linspace(-1.0, 2.0, 5)"
   ]
  },
  {
   "cell_type": "code",
   "execution_count": null,
   "metadata": {},
   "outputs": [],
   "source": [
    "# Question: Where is the first time this array goes positive?\n",
    "# Step 1: Create a boolean array that is True where it is positive\n",
    "b_is_positive = test_np_array > 0.0\n",
    "\n",
    "# Step 2: Use where to get all of the indices where b_is_positive is true\n",
    "indices = np.where(b_is_positive)"
   ]
  },
  {
   "cell_type": "markdown",
   "metadata": {},
   "source": [
    "### See what happened\n",
    "\n",
    "At this point you should open up the variable window and see what each of these variables is. The first two elements of **test_np_array** are negative, so **b_is_positive** is False. The last three elements are positive, so **b_is_positive**. So far so good.\n",
    "\n",
    "But what is indices? A tuple? What is that? A tuple is just a list that can't be changed. It can have 1, 2, 3 etc number of elements in it, just like a list. In this case, indices has exactly one element in it - a list with 3 elements in it."
   ]
  },
  {
   "cell_type": "code",
   "execution_count": null,
   "metadata": {},
   "outputs": [],
   "source": [
    "# Get the list out of the tuple. You'll see why I called this dimension one when we do two dimensions...\n",
    "indices_dim_one = indices[0]\n",
    "\n",
    "# Check that the indices are the ones for the positive numbers\n",
    "#  Look in the variable window - does this match up?\n",
    "for index in indices_dim_one:\n",
    "    print(f\"Index {index} is value {test_np_array[index]} in the test array\")"
   ]
  },
  {
   "cell_type": "markdown",
   "metadata": {},
   "source": [
    "#### Last step - get the first element that was positive out\n",
    "\n",
    "What we really wanted was to find the first positive element in the list - this is, of course, the first element in the list that **np.where** returned"
   ]
  },
  {
   "cell_type": "code",
   "execution_count": null,
   "metadata": {},
   "outputs": [],
   "source": [
    "# Get first positive element out - the index is the FIRST in the list that np.where returned\n",
    "index_of_first_positive = indices_dim_one[0]\n",
    "\n",
    "print(f\"First positive element: {test_np_array[index_of_first_positive]}\")"
   ]
  },
  {
   "cell_type": "markdown",
   "metadata": {},
   "source": [
    "### Doing it again, but this time in two dimensions\n",
    "\n",
    "This time, let's find the location of the maximum value in a two dimensional array. "
   ]
  },
  {
   "cell_type": "code",
   "execution_count": null,
   "metadata": {},
   "outputs": [],
   "source": [
    "# Fill up a 2 dimensional array with random numbers. The array has 3 rows and 5 columns\n",
    "test_array_two = np.random.uniform(0.0, 1.0, (3, 5))"
   ]
  },
  {
   "cell_type": "code",
   "execution_count": null,
   "metadata": {},
   "outputs": [],
   "source": [
    "# Now find the maximum value\n",
    "max_of_array = np.max(test_array_two)\n",
    "\n",
    "# Now use where to find the location of that value\n",
    "# Pulling this out so you can look at it in the variable window\n",
    "b_is_max = test_array_two == max_of_array\n",
    "indices_max = np.where(test_array_two == max_of_array)\n"
   ]
  },
  {
   "cell_type": "markdown",
   "metadata": {},
   "source": [
    "### Look at what happened\n",
    "\n",
    "Use the data viewer to look at **b_is_max** and **test_array_two**. Again, the boolean array is True only where numpy array has the max value.\n",
    "\n",
    "This time, **np.where** returned a tuple with *two* elements in it, each an array. These two arrays will *always* be the same size - they are the rows and columns of the max value. **np.where** returns the data in this form so that it will work with arrays of any dimension."
   ]
  },
  {
   "cell_type": "code",
   "execution_count": null,
   "metadata": {},
   "outputs": [],
   "source": [
    "# Get out the i,j index of the maximum value\n",
    "row_indices = indices_max[0]\n",
    "col_indices = indices_max[1]\n",
    "\n",
    "row_index_of_max = row_indices[0]\n",
    "col_index_of_max = col_indices[0]\n",
    "\n",
    "print(f\"Maximum value is at {row_index_of_max, col_index_of_max}, and is {test_array_two[row_index_of_max, col_index_of_max]}\")\n",
    "print(f\"Check: {np.max(test_array_two)}\")\n"
   ]
  }
 ],
 "metadata": {
  "kernelspec": {
   "display_name": "base",
   "language": "python",
   "name": "python3"
  },
  "language_info": {
   "codemirror_mode": {
    "name": "ipython",
    "version": 3
   },
   "file_extension": ".py",
   "mimetype": "text/x-python",
   "name": "python",
   "nbconvert_exporter": "python",
   "pygments_lexer": "ipython3",
   "version": "3.11.4"
  }
 },
 "nbformat": 4,
 "nbformat_minor": 2
}
