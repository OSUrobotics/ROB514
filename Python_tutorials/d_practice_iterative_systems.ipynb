{
 "cells": [
  {
   "cell_type": "markdown",
   "metadata": {},
   "source": [
    "# Iterative systems (using functions)\n",
    "\n",
    "Do the parabolic flight again, but write the code yourself, this time\n",
    "\n",
    "- keep both the position and the velocity at all time steps\n",
    "\n",
    "You're free, obviously, to copy code from the practice script, but try to write it yourself, first"
   ]
  },
  {
   "cell_type": "code",
   "execution_count": null,
   "metadata": {},
   "outputs": [],
   "source": [
    "import numpy as np\n",
    "import matplotlib.pyplot as plt"
   ]
  },
  {
   "cell_type": "code",
   "execution_count": null,
   "metadata": {},
   "outputs": [],
   "source": [
    "# Just to have\n",
    "def acceleration_due_to_gravity():\n",
    "    \"\"\"Somewhat silly - but if we need to change it, then we can  change it just here\"\"\"\n",
    "    gravity = -9.8     # m/s\n",
    "    return gravity  # kg m/s\n"
   ]
  },
  {
   "cell_type": "markdown",
   "metadata": {},
   "source": [
    "# TODO - one step\n",
    "\n",
    "Write your compute_next_position_and_velocity function. Feel free to check your answer against the tutorial - it should do exactly the same thing.\n",
    "\n",
    "Input\n",
    "- current pose\n",
    "- current velocity\n",
    "- delta t\n",
    "\n",
    "Output\n",
    "- next pose\n",
    "- next velocity"
   ]
  },
  {
   "cell_type": "code",
   "execution_count": null,
   "metadata": {},
   "outputs": [],
   "source": [
    "# define function here"
   ]
  },
  {
   "cell_type": "code",
   "execution_count": null,
   "metadata": {},
   "outputs": [],
   "source": [
    "# put code check here"
   ]
  },
  {
   "cell_type": "markdown",
   "metadata": {},
   "source": [
    "# TODO - compute n steps\n",
    "\n",
    "Write your compute n steps code here. Use the function you wrote above.\n",
    "\n",
    "Input\n",
    "- initial pose\n",
    "- initial velocity\n",
    "- delta t\n",
    "- n time steps\n",
    "\n",
    "Output\n",
    "- a 4xn numpy array with the poses in the top two rows, the velocities in the next two rows.\n",
    "\n",
    "Modifications from the tutorial calculate_n_time_steps\n",
    "- Change the size of the array\n",
    "- (Before the for loop) copy the velocity into the array along with the pose\n",
    "-In the for loop, copy the new velocity into the array along with the new pose"
   ]
  },
  {
   "cell_type": "code",
   "execution_count": null,
   "metadata": {},
   "outputs": [],
   "source": [
    "# define function here"
   ]
  },
  {
   "cell_type": "code",
   "execution_count": null,
   "metadata": {},
   "outputs": [],
   "source": [
    "# This time we'll draw the poses and the velocities at each time step (but no closed form)\n",
    "def plot_results(axs, ret_poses, ret_velocities):\n",
    "    \"\"\" plot the results of running the system\n",
    "    @param ret_poses - x y position values in a 2xn numpy array\n",
    "    @param ret_velocities - vx, vy values in a 2xn numpy array\n",
    "    @return Nothing\n",
    "    \"\"\"\n",
    "\n",
    "    # The values we calculated in calculate_n_time_steps\n",
    "    axs.plot(ret_poses[0, :], ret_poses[1, :], '-k', label=\"Poses\")\n",
    "\n",
    "    # This one's a bit trickier because we need to plot the arrows at each time step. Turns out there's a function\n",
    "    # (quiver) that will do that for us...\n",
    "    axs.quiver(ret_poses[0, :], ret_poses[1, :], ret_velocities[0, :], ret_velocities[1, :], color='magenta', label=\"Velocities\")\n",
    "\n",
    "    axs.set_title(f\"Parabolic motion\")\n",
    "    axs.legend()\n"
   ]
  },
  {
   "cell_type": "code",
   "execution_count": null,
   "metadata": {},
   "outputs": [],
   "source": [
    "# I'll write the check code for you\n",
    "# Time step\n",
    "delta_t = 0.1\n",
    "n_time_steps = 10\n",
    "\n",
    "pose_initial = np.array([0.0, 10.0])  # meters\n",
    "vel_initial = np.array([0.5, 4.0])  # meters/second\n",
    "\n",
    "# Using default value of number of time steps - calls your function\n",
    "ret_poses = calculate_n_time_steps(pos_initial=pose_initial, vel_initial=vel_initial, delta_t=delta_t, n_time_steps=n_time_steps)\n",
    "\n",
    "nrows = 1\n",
    "ncols = 1\n",
    "_, axs = plt.subplots(nrows, ncols, figsize=(4, 4))\n",
    "plot_results(axs, ret_poses[0:2, :], ret_poses[2:4, :])\n"
   ]
  },
  {
   "cell_type": "markdown",
   "metadata": {},
   "source": [
    "# Optional: Stop when hit the ground\n",
    "\n",
    "This is optional. Write a function that does the same thing as compute_n_time_steps, except instead of taking in n timesteps, it goes until the object hits the ground (y value of pose < 0)\n",
    "\n",
    "Since you don't know the size of the arrays in advance, better to use two lists, one for the pose, and one for the velocity.\n",
    "- Create the lists and set the first elements to be initial pose and velocity, respectively\n",
    "- Modify the for loop to be a while loop that stops when the new pose has a y value < 0. I like to do this with\n",
    "\n",
    "b_done = False\n",
    "\n",
    "while not b_done:\n",
    "  ... set b_done to be true when y < 0\n",
    "  \n",
    "After the while loop you will know how big the return array should be. Create the array then copy the list values in. Note: np.array(list) creates a numpy array from the list."
   ]
  },
  {
   "cell_type": "code",
   "execution_count": null,
   "metadata": {},
   "outputs": [],
   "source": [
    "# Define your function here"
   ]
  },
  {
   "cell_type": "code",
   "execution_count": null,
   "metadata": {},
   "outputs": [],
   "source": [
    "delta_t = 0.1\n",
    "\n",
    "pose_initial = np.array([0.0, 10.0])  # meters\n",
    "vel_initial = np.array([0.5, 4.0])  # meters/second\n",
    "\n",
    "# No time steps \n",
    "ret_poses = calculate_until_hit_ground(pos_initial=pose_initial, vel_initial=vel_initial, delta_t=delta_t)\n",
    "\n",
    "nrows = 1\n",
    "ncols = 1\n",
    "_, axs = plt.subplots(nrows, ncols, figsize=(4, 4))\n",
    "plot_results(ret_poses[0:2, :], ret_poses[2:4, :])"
   ]
  },
  {
   "cell_type": "markdown",
   "metadata": {},
   "source": [
    "# Answers"
   ]
  },
  {
   "cell_type": "code",
   "execution_count": null,
   "metadata": {},
   "outputs": [],
   "source": [
    "# This function should be the same as the tutorial\n",
    "def compute_next_position_and_velocity(pos, vel, delta_t=0.1):\n",
    "    \"\"\" How to compute the next pose from current values of position and velocity (the partial differential equation)\n",
    "    @param pos - the pose (x, y) as a numpy array\n",
    "    @param vel - the current velocity (vx, vy) as a numpy array\n",
    "    @param delta_t - the time step to use. Define a default t value that you've determined works well\n",
    "    @return the new position, velocity as a tuple\"\"\"\n",
    "\n",
    "    # The new position (for both x and y) is just p + dt * v - current position + delta t * velocity\n",
    "    pos_new = pos + delta_t * vel   # Numpy arrays will handle doing both x and y\n",
    "\n",
    "    # The new velocity for x is just the old velocity\n",
    "    # Make a new array - note, if you don't, and do this instead\n",
    "    #   vel_new = vel\n",
    "    # Then you will CHANGE vel_inital in the calling function\n",
    "    # TODO - replace this line with vel_new = vel and see what happens to vel_initial\n",
    "    vel_new = np.zeros(vel.shape)\n",
    "\n",
    "    # Set the vx value to be the same as the old one\n",
    "    vel_new[0] = vel[0]\n",
    "\n",
    "    # The new velocity for y is the old velocity plus acceleration * dt - which in this case is gravity\n",
    "    # You could make these parameters, but to keep things simple, we'll just declare them here\n",
    "    vel_new[1] = vel[1] + delta_t * acceleration_due_to_gravity()\n",
    "\n",
    "    return pos_new, vel_new\n"
   ]
  },
  {
   "cell_type": "code",
   "execution_count": null,
   "metadata": {},
   "outputs": [],
   "source": [
    "# I chose to return the results in a 4xn array, instead of two 2xn arrays. Either works; somewhat clearer to return\n",
    "#  two arrays (since you can name them) but somewhat easier to use downstream if it's one array\n",
    "def calculate_n_time_steps(pos_initial, vel_initial, delta_t=0.1, n_time_steps=100):\n",
    "    \"\"\" Call compute one time step multiple times and store it in a numpy array\n",
    "    @param pos_initial - the starting x,y position (numpy array)\n",
    "    @param vel_initial - the starting vx, vy velocity (numpy array)\n",
    "    @param delta_t - the time step to use. Define a default t value that you've determined works well\n",
    "    @param n_time_steps - how many time steps to take. Again, default to a reasonable number\n",
    "    @return x, y, vx, vy values as a 4xtimesteps numpy array\n",
    "    \"\"\"\n",
    "\n",
    "    # The returned array. We know the size, so we can pre-allocate it\n",
    "    ret_pose_all = np.zeros((4, n_time_steps))\n",
    "    # We know the first pose is the initial one - note 0:2 and 2:4 to do the 1st/2nd rows and 3rd/4th ones\n",
    "    ret_pose_all[0:2, 0] = pos_initial\n",
    "    # Put the initial velocity in as well\n",
    "    ret_pose_all[2:4, 0] = vel_initial\n",
    "\n",
    "    # Note the start from 1 - you already know what the values for 0 should be\n",
    "    for i in range(1, n_time_steps):\n",
    "        # Make sure to use the last x,y values you just computed\n",
    "        pos_next, vel_next = compute_next_position_and_velocity(ret_pose_all[0:2, i-1], ret_pose_all[2:4, i-1], delta_t=delta_t)\n",
    "\n",
    "        # Put the new values into the numpy array\n",
    "        ret_pose_all[0:2, i] = pos_next\n",
    "        ret_pose_all[2:4, i] = vel_next\n",
    "\n",
    "    # All done - return the numpy array\n",
    "    return ret_pose_all\n"
   ]
  },
  {
   "cell_type": "code",
   "execution_count": null,
   "metadata": {},
   "outputs": [],
   "source": [
    "# Optional - go until you hit the ground\n",
    "# In this version, instead of using a for loop, it's a while loop, and you will NOT know ahead of time how\n",
    "#  big the array is. Simplest option is to use a list and then convert to a numpy array at the end\n",
    "def calculate_until_hit_ground(pos_initial, vel_initial, delta_t=0.1):\n",
    "    \"\"\" Call compute one time step multiple times and store it in a numpy array\n",
    "    @param pos_initial - the starting x,y position (numpy array)\n",
    "    @param vel_initial - the starting vx, vy velocity (numpy array)\n",
    "    @param delta_t - the time step to use. Define a default t value that you've determined works well\n",
    "    @return x, y, vx, vy values as a 4xtimesteps numpy array\n",
    "    \"\"\"\n",
    "\n",
    "    # The returned array(s). We do NOT know the array size, so use a list and set the first element to be the\n",
    "    #   pose and velocity. Easier to use two lists.\n",
    "    ret_pose_list = [pos_initial]\n",
    "    ret_velocity_list = [vel_initial]\n",
    "\n",
    "    # I just like this format - then in the code you just set b_done to be True when you reach the stopping condition\n",
    "    b_done = False\n",
    "    i_count_explode = 0 # Safety check\n",
    "    while not b_done and i_count_explode < 10000:\n",
    "        # Make sure to use the last x,y values you just computed\n",
    "        pos_next, vel_next = compute_next_position_and_velocity(ret_pose_list[-1], ret_velocity_list[-1], delta_t=delta_t)\n",
    "\n",
    "        # Put the new values into the lists\n",
    "        ret_pose_list.append(pos_next)  # this will be the ret_pose_list[-1] in the next interation\n",
    "        ret_velocity_list.append(vel_next)\n",
    "\n",
    "        if pos_next[1] < 0:\n",
    "            b_done = True\n",
    "\n",
    "        i_count_explode += 1 # belt and suspenders...\n",
    "\n",
    "    # Ooops - let the caller know something went wrong, probably\n",
    "    if not b_done:\n",
    "        raise(ValueError, f\"Did not hit the ground in 10,000 steps: p={pos_initial}, v={vel_initial}, dt {delta_t}\")\n",
    "\n",
    "    # All done - create a numpy array and set the first two rows and second two rows\n",
    "    #   Transpose to go from nx2 to 2xn\n",
    "    ret_pos_all = np.zeros((4, len(ret_pose_list)))\n",
    "    ret_pos_all[0:2, :] = np.array(ret_pose_list).transpose()\n",
    "    ret_pos_all[2:4, :] = np.array(ret_velocity_list).transpose()\n",
    "    return ret_pos_all\n"
   ]
  },
  {
   "cell_type": "code",
   "execution_count": null,
   "metadata": {},
   "outputs": [],
   "source": [
    "# Calling code for answers\n",
    "def check_version_one():\n",
    "    # Time step\n",
    "    delta_t = 0.1\n",
    "    n_time_steps = 10\n",
    "\n",
    "    pose_initial = np.array([0.0, 10.0])  # meters\n",
    "    vel_initial = np.array([0.5, 4.0])  # meters/second\n",
    "\n",
    "    # Using default value of number of time steps\n",
    "    ret_poses = calculate_n_time_steps(pos_initial=pose_initial, vel_initial=vel_initial, delta_t=delta_t, n_time_steps=n_time_steps)\n",
    "\n",
    "    plot_results(ret_poses[0:2, :], ret_poses[2:4, :])\n",
    "    print(\"Done\")\n"
   ]
  },
  {
   "cell_type": "code",
   "execution_count": null,
   "metadata": {},
   "outputs": [],
   "source": [
    "# Calling code for answers\n",
    "def check_version_two():\n",
    "    # Time step\n",
    "    delta_t = 0.1\n",
    "\n",
    "    pose_initial = np.array([0.0, 10.0])  # meters\n",
    "    vel_initial = np.array([0.5, 4.0])  # meters/second\n",
    "\n",
    "    # Using default value of number of time steps\n",
    "    ret_poses = calculate_until_hit_ground(pos_initial=pose_initial, vel_initial=vel_initial, delta_t=delta_t)\n",
    "\n",
    "    plot_results(ret_poses[0:2, :], ret_poses[2:4, :])\n",
    "    print(\"Done\")\n"
   ]
  },
  {
   "cell_type": "code",
   "execution_count": null,
   "metadata": {},
   "outputs": [],
   "source": [
    "check_version_one()"
   ]
  },
  {
   "cell_type": "code",
   "execution_count": null,
   "metadata": {},
   "outputs": [],
   "source": [
    "check_version_two()"
   ]
  },
  {
   "cell_type": "code",
   "execution_count": null,
   "metadata": {},
   "outputs": [],
   "source": []
  }
 ],
 "metadata": {
  "kernelspec": {
   "display_name": "Python 3",
   "language": "python",
   "name": "python3"
  },
  "language_info": {
   "codemirror_mode": {
    "name": "ipython",
    "version": 3
   },
   "file_extension": ".py",
   "mimetype": "text/x-python",
   "name": "python",
   "nbconvert_exporter": "python",
   "pygments_lexer": "ipython3",
   "version": "3.7.3"
  }
 },
 "nbformat": 4,
 "nbformat_minor": 2
}
