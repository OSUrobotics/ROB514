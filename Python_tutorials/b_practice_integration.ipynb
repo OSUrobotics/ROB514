{
 "cells": [
  {
   "cell_type": "markdown",
   "metadata": {},
   "source": [
    "# Numeric integration (practice)\n",
    "\n",
    "Compute the integral of cosine from a to b in 3 ways\n",
    "- **trapz** (generate samples, sum samples)\n",
    "- **quad** (use a function)\n",
    "- analytical - use the fact that the integral of cosine is sine\n",
    "\n",
    "Slides: https://docs.google.com/presentation/d/1-I407aSQVEo_WJPGlZlG3Dh4AJ5vZa0rl_pXxELR2ic/edit?usp=sharing"
   ]
  },
  {
   "cell_type": "code",
   "execution_count": null,
   "metadata": {},
   "outputs": [],
   "source": [
    "# You can use the trapz in numpy or scipy\n",
    "import numpy as np\n",
    "from scipy.integrate import quad"
   ]
  },
  {
   "cell_type": "code",
   "execution_count": null,
   "metadata": {},
   "outputs": [],
   "source": [
    "# Integration limits - make sure the code works with any values of a and b\n",
    "#  TODO: if you make the interval really big (or the number of samples in trapz much smaller) how does the\n",
    "#   accuracy degrade for each method?\n",
    "\n",
    "a = -np.pi / 2.0\n",
    "b = 2.0 * np.pi"
   ]
  },
  {
   "cell_type": "markdown",
   "metadata": {},
   "source": [
    "## Trapz method\n",
    "\n",
    "TODO\n",
    "- Use **linspace** to generate samples from **a** to **b**\n",
    "- Calculate cosine of those samples\n",
    "- Use numpy's **trapz** to calculate the integral\n",
    "\n",
    "...Don't forget that **trapz** takes the y's then the x's"
   ]
  },
  {
   "cell_type": "code",
   "execution_count": null,
   "metadata": {},
   "outputs": [],
   "source": [
    "n_samples = 100\n",
    "area_trapz = ...\n",
    "\n",
    "print(f\"Area with {n_samples} samples, trapz {area_trapz:0.4f}\")"
   ]
  },
  {
   "cell_type": "markdown",
   "metadata": {},
   "source": [
    "# quad method\n",
    "\n",
    "TODO: Calculate area with **quad**\n",
    "\n",
    "You can use **np.cos** as the function... Remember to NOT put the () on the function\n",
    "\n",
    "Remember that **quad** returns several parameters - you want the first"
   ]
  },
  {
   "cell_type": "code",
   "execution_count": null,
   "metadata": {},
   "outputs": [],
   "source": [
    "area_quad = ...\n",
    "\n",
    "print(f\"Area with quad {area_quad[0]:0.4f}\")"
   ]
  },
  {
   "cell_type": "markdown",
   "metadata": {},
   "source": [
    "# Analytic method\n",
    "\n",
    "Using analytical integration\n",
    "\n",
    "TODO: Remember, integral of cosine is sine\n",
    "- Evaluate sine at the two end points... b - a\n"
   ]
  },
  {
   "cell_type": "code",
   "execution_count": null,
   "metadata": {},
   "outputs": [],
   "source": [
    "area_analytic = ...\n",
    "print(f\"Area analytic {area_analytic:0.4f}\")"
   ]
  },
  {
   "cell_type": "markdown",
   "metadata": {},
   "source": [
    "# ------------------------- Answers -------------"
   ]
  },
  {
   "cell_type": "code",
   "execution_count": null,
   "metadata": {},
   "outputs": [],
   "source": [
    "# Using trapz\n",
    "ts = np.linspace(a, b, n_samples)\n",
    "ys = np.cos(ts)\n",
    "area_trapz = np.trapz(ys, ts)\n",
    "\n",
    "# Using quad\n",
    "area_quad = quad(np.cos, a, b)\n",
    "\n",
    "# Analytic\n",
    "area_analytic = np.sin(b) - np.sin(a)"
   ]
  }
 ],
 "metadata": {
  "kernelspec": {
   "display_name": "Python 3",
   "language": "python",
   "name": "python3"
  },
  "language_info": {
   "codemirror_mode": {
    "name": "ipython",
    "version": 3
   },
   "file_extension": ".py",
   "mimetype": "text/x-python",
   "name": "python",
   "nbconvert_exporter": "python",
   "pygments_lexer": "ipython3",
   "version": "3.7.3"
  }
 },
 "nbformat": 4,
 "nbformat_minor": 2
}
