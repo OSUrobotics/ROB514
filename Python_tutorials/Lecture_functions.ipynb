{
 "cells": [
  {
   "cell_type": "markdown",
   "metadata": {},
   "source": [
    "# Functions\n",
    "\n",
    "Defining a function, example one, takes two parameters and returns one value"
   ]
  },
  {
   "cell_type": "code",
   "execution_count": null,
   "metadata": {},
   "outputs": [],
   "source": [
    "def my_func1(a, b):\n",
    "    \"\"\" A function that calculates a-b\n",
    "    @param a is a number\n",
    "    @param b is a number\n",
    "    @return a-b (a number)\"\"\"\n",
    "    ret_val = a - b\n",
    "    return ret_val"
   ]
  },
  {
   "cell_type": "code",
   "execution_count": null,
   "metadata": {},
   "outputs": [],
   "source": [
    "# Calling the function with numbers\n",
    "ret = my_func1(3, 7)\n",
    "print(f\"return value for 3 - 7 is {ret}\")"
   ]
  },
  {
   "cell_type": "code",
   "execution_count": null,
   "metadata": {},
   "outputs": [],
   "source": [
    "# Calling the function with variables\n",
    "a_here = 10.2\n",
    "b_here = 12.2\n",
    "ret_here = my_func1(a_here, b_here)\n",
    "print(f\"return value for a_here - b_here is {ret_here}\")"
   ]
  },
  {
   "cell_type": "code",
   "execution_count": null,
   "metadata": {},
   "outputs": [],
   "source": [
    "# You can put equations/code in the parameters, although best not to put anything *too* complicated\n",
    "a_here = 10.2\n",
    "b_here = 12.2\n",
    "ret_here = my_func1(2*a_here, b_here)\n",
    "print(f\"return value for 2 * a_here - b_here is {ret_here}\")"
   ]
  },
  {
   "cell_type": "code",
   "execution_count": null,
   "metadata": {},
   "outputs": [],
   "source": [
    "# Ooops - nope, Python does not \"know\" if you have the parameters in the correct order..\n",
    "ret_here_wrong = my_func1(b_here, a_here)\n",
    "print(f\"Incorrect for a_here - b_here {ret_here_wrong}\")"
   ]
  },
  {
   "cell_type": "code",
   "execution_count": null,
   "metadata": {},
   "outputs": [],
   "source": [
    "# Fix for that - label the input variables \n",
    "ret_here_correct = my_func1(b=b_here, a=a_here)"
   ]
  },
  {
   "cell_type": "markdown",
   "metadata": {},
   "source": [
    "# Functions, advanced\n",
    "\n",
    "- Call using paramter name\n",
    "- Default parameters"
   ]
  },
  {
   "cell_type": "code",
   "execution_count": null,
   "metadata": {},
   "outputs": [],
   "source": [
    "def my_func_with_default(a, b=0.2):\n",
    "    \"\"\" A function that calculates a-b\n",
    "    @param a - a number\n",
    "    @param b - a number (default value, 0.2)\n",
    "    @return a-b (also a number)\"\"\"\n",
    "    ret_val = a - b\n",
    "    \n",
    "    return ret_val   "
   ]
  },
  {
   "cell_type": "code",
   "execution_count": null,
   "metadata": {},
   "outputs": [],
   "source": [
    "# Calling the function, using default value\n",
    "ret_using_default_b_value = my_func_with_default(2)   # Uses default (0.2) value for b\n",
    "print(f\"ret_using_default_b_value is {ret_using_default_b_value}\")"
   ]
  },
  {
   "cell_type": "code",
   "execution_count": null,
   "metadata": {},
   "outputs": [],
   "source": [
    "# Calling the function, using pass by parameter\n",
    "ret1 = my_func_with_default(a=2, b=3)\n",
    "print(f\"ret1 is {ret1}\")\n",
    "\n",
    "a_here = 10.2\n",
    "b_here = 12.2\n",
    "# Probably still a good idea to put them in the \"correct\" order, but at least you got b_here assigned to b...\n",
    "ret2 = my_func_with_default(b=b_here, a=a_here)\n",
    "print(f\"ret2 is {ret2}\")"
   ]
  },
  {
   "cell_type": "markdown",
   "metadata": {},
   "source": [
    "# Example 1: numpy functions"
   ]
  },
  {
   "cell_type": "code",
   "execution_count": null,
   "metadata": {},
   "outputs": [],
   "source": [
    "# Import all the numpy functions\n",
    "import numpy as np\n",
    "\n",
    "# the np. says look in numpy for these functions\n",
    "t_values_default = np.linspace(-np.pi, np.pi)\n",
    "t_values = np.linspace(-np.pi, np.pi, num=20)\n",
    "\n",
    "print(f\"Number of elems by default {len(t_values_default)}\")\n",
    "print(f\"Number of elems when set {len(t_values)}\")"
   ]
  },
  {
   "cell_type": "code",
   "execution_count": null,
   "metadata": {},
   "outputs": [],
   "source": [
    "# An example of how the same function works with a different parameter types\n",
    "print(f\"One number {np.sin(np.pi)}\")\n",
    "print(f\"All numbers with min {np.min(np.sin(t_values))}\")"
   ]
  },
  {
   "cell_type": "markdown",
   "metadata": {},
   "source": [
    "## Moving code into a function/for loop\n",
    "\n",
    "Simple task: print the minimum of each row of data.\n",
    "\n",
    "Basic steps:\n",
    "- Get the basic code working with one example\n",
    "- Take any constants out and make sure it still works\n",
    "- Create a function with the input values the variables\n",
    "- Test with example data"
   ]
  },
  {
   "cell_type": "code",
   "execution_count": 2,
   "metadata": {},
   "outputs": [],
   "source": [
    "import numpy as np"
   ]
  },
  {
   "cell_type": "code",
   "execution_count": 4,
   "metadata": {},
   "outputs": [],
   "source": [
    "\n",
    "# First version - do each line by hand \n",
    "test_data = np.random.uniform(0, 1, size=(3, 5))\n",
    "\n",
    "# Find the minimum for each row by copying and changing the row index\n",
    "min_row1 = np.min(test_data[0, :])\n",
    "min_row2 = np.min(test_data[1, :])\n",
    "min_row3 = np.min(test_data[2, :])\n",
    "\n",
    "# Use the variable window to make sure the answer is correct, or print out the values\n"
   ]
  },
  {
   "cell_type": "markdown",
   "metadata": {},
   "source": [
    "### Doing this in another cell - but normally you'd do it \"in place\"\n",
    "\n",
    "Step 1: replace index numbers with variables"
   ]
  },
  {
   "cell_type": "code",
   "execution_count": 5,
   "metadata": {},
   "outputs": [],
   "source": [
    "# Find the minimum for each row by copying and changing the row index\n",
    "row = 0\n",
    "min_row1 = np.min(test_data[row+0, :])\n",
    "min_row2 = np.min(test_data[row+1, :])\n",
    "min_row3 = np.min(test_data[row+2, :])\n"
   ]
  },
  {
   "cell_type": "code",
   "execution_count": 7,
   "metadata": {},
   "outputs": [],
   "source": [
    "# Step 2 Move into a for loop - note how row is now the for loop variable \n",
    "#          Also need to make some place to put each min_rowi\n",
    "min_row = []\n",
    "for row in range(0, 3):\n",
    "    # Notice that row does not have a +1 or anything because it will be 0, then 1, then 2\n",
    "    # Notice the append - this adds the value to the list\n",
    "    min_row.append(np.min(test_data[row, :]))\n",
    "\n",
    "# Notice that min_row is a list with 3 values in it - the same as min_row1, min_row2, min_row3"
   ]
  },
  {
   "cell_type": "code",
   "execution_count": 11,
   "metadata": {},
   "outputs": [],
   "source": [
    "# Step 3: create a function with one input - the data\n",
    "#  Write the def func_name(input)\n",
    "#  Copy the code into the function, shift it over, and change the data name to the new one\n",
    "#    You don't *have* to change the parameter name - you could keep it test_data, but that would be... weird\n",
    "#  Return the row\n",
    "# Remember: Executing this cell will not do anything (if your syntax is correct)\n",
    "def func_min_all_rows(data):\n",
    "    \"\"\" Find the minimum of all rows\n",
    "    @param data is a numpy array of dimension 2\n",
    "    @return a list with the minimum of each row\"\"\"\n",
    "    # You don't *have* to change this name, either, but it can help you to remember that this is NOT the\n",
    "    #   same variable as min_row above\n",
    "    res_min_row = []\n",
    "    for row in range(0, 3):\n",
    "        # Notice that test_data is now data\n",
    "        res_min_row.append(np.min(data[row, :]))\n",
    "    \n",
    "    # Don't forget this! It will still \"work\", but you won't get an answer back...\n",
    "    return res_min_row\n",
    "\n"
   ]
  },
  {
   "cell_type": "code",
   "execution_count": null,
   "metadata": {},
   "outputs": [],
   "source": [
    "# Now write the test - with test_data, since we know the right answer for that\n",
    "#   This sets data to be test_data, and test_result will be \n",
    "test_result = func_min_all_rows(test_data)\n",
    "\n",
    "print(f\"{test_result} and \\n{min_row} should be the same thing\")"
   ]
  }
 ],
 "metadata": {
  "kernelspec": {
   "display_name": "Python 3",
   "language": "python",
   "name": "python3"
  },
  "language_info": {
   "codemirror_mode": {
    "name": "ipython",
    "version": 3
   },
   "file_extension": ".py",
   "mimetype": "text/x-python",
   "name": "python",
   "nbconvert_exporter": "python",
   "pygments_lexer": "ipython3",
   "version": "3.11.4"
  }
 },
 "nbformat": 4,
 "nbformat_minor": 2
}
