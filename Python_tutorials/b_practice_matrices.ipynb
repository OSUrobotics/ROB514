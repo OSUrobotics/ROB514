{
 "cells": [
  {
   "cell_type": "markdown",
   "metadata": {},
   "source": [
    "# Practice with matrices\n",
    "\n",
    "The two examples here are common things that can go wrong when you create a matrix \"incorrectly\". Not that the matrix is actually incorrect (math or syntax), just that it isn't what you (usually) want for moving objects around.\n",
    "\n",
    "See also Lecture slides https://docs.google.com/presentation/d/12p3VOVT5yL14-1z5T20hTscpVC0hsxjtvMLHmQLFITk/edit?usp=sharing"
   ]
  },
  {
   "cell_type": "code",
   "execution_count": null,
   "metadata": {},
   "outputs": [],
   "source": [
    "import numpy as np\n",
    "from matplotlib import pyplot as plt\n",
    "\n",
    "# All of the matrix routines are in here - we can import the Python (.py) file just like the imports above\n",
    "#  All of the functions in there will be accessed as mr.\n",
    "import matrix_routines as mr\n",
    "\n",
    "# The same plot functions as were used in the tutorial\n",
    "from matrix_routines import plot_pts, plot_axes_and_big_box, plot_transformed_axes"
   ]
  },
  {
   "cell_type": "code",
   "execution_count": null,
   "metadata": {},
   "outputs": [],
   "source": [
    "## The points from the tutorial - plus some other ones you can practice with\n",
    "# It's easier to start with a numpy array that has ones in it to make the points because you'll need ones in the 3rd row\n",
    "n_points = 3\n",
    "pts_triangle = np.ones((3, n_points))\n",
    "# Make a right-sided triangle with the center of the origin in the middle\n",
    "pts_triangle[0:2, 0] = [-2.0, 1.25]  # Upper left corner\n",
    "pts_triangle[0:2, 1] = [2.0, -0.5]   # Pointy bit at the right\n",
    "pts_triangle[0:2, 2] = [-2.0, -0.5]   # 90 degree angle part\n",
    "\n",
    "# Points on a circle\n",
    "n_pts_circle = 32\n",
    "# The angles\n",
    "thetas = np.linspace(0, np.pi * 2, n_pts_circle)\n",
    "pts_circle = np.ones(shape=(3, n_pts_circle))\n",
    "pts_circle[0, :] = np.cos(thetas)\n",
    "pts_circle[1, :] = np.sin(thetas)"
   ]
  },
  {
   "cell_type": "markdown",
   "metadata": {},
   "source": [
    "### Example: Uncentered geometry\n",
    "\n",
    "A common (and subtle) problem is that (most of the time) the assumption is that the geometry is centered around the origin - otherwise, when you rotate the object it moves, too.\n",
    "\n",
    "For the first example, the matrix transform stays the same but the object is in a different place"
   ]
  },
  {
   "cell_type": "code",
   "execution_count": null,
   "metadata": {},
   "outputs": [],
   "source": [
    "fig, axs = plt.subplots(2, 2, figsize=(8, 8))\n",
    "\n",
    "# First plot is the \"normal\" one\n",
    "\n",
    "# TODO: Change the two mat_trans to move the lower left point of the shape to the origin\n",
    "mat_trans_triangle = mr.make_translation_matrix(0, 0)\n",
    "mat_trans_circle = mr.make_translation_matrix(1, 1)  # Move -1, -1 to 0,0\n",
    "pts_triangle_lower_left_origin = pts_triangle   # Put the matrix before pts_triangle\n",
    "pts_circle_lower_left_origin = pts_circle  # Put a matrix before pts_circle\n",
    "\n",
    "\n",
    "# Make a scale, rotation, translation matrix\n",
    "mat_scl_rot_trans = mr.make_translation_matrix(-1, 2) @ \\\n",
    "                    mr.make_rotation_matrix(np.pi / 3.0) @ \\\n",
    "                    mr.make_scale_matrix(0.5, 0.75)   # pts go here\n",
    "\n",
    "\n",
    "# Plot the big box and axes for all plots\n",
    "for i in range(0, 4):\n",
    "    plot_axes_and_big_box(axs[i // 2, i % 2])\n",
    "\n",
    "\n",
    "first_row = (pts_triangle, pts_circle)\n",
    "second_row = (pts_triangle_lower_left_origin, pts_circle_lower_left_origin)\n",
    "for ir, row in enumerate((first_row, second_row)):\n",
    "    for ic, pts in enumerate(row):\n",
    "        # Draw the original points\n",
    "        plot_pts(axs[ir, ic], pts)\n",
    "\n",
    "        # This is the transformation for all four cases\n",
    "        plot_transformed_axes(axs[ir, ic], mat_scl_rot_trans)\n",
    "\n",
    "        # Plot the transformed points\n",
    "        pts_transformed = mat_scl_rot_trans @ pts\n",
    "        plot_pts(axs[ir, ic], pts_transformed, fmt=\":k\")\n"
   ]
  },
  {
   "cell_type": "markdown",
   "metadata": {},
   "source": [
    "# Answers\n",
    "\n",
    "Note: Just putting the lines that need to change here\n"
   ]
  },
  {
   "cell_type": "code",
   "execution_count": null,
   "metadata": {},
   "outputs": [],
   "source": [
    "mat_trans_triangle = mr.make_translation_matrix(-pts_triangle[0, -1], -pts_triangle[1, -1]) # Move the lower left corner (the last point) to (0,0)\n",
    "mat_trans_circle = mr.make_translation_matrix(0, 0)\n",
    "\n",
    "pts_triangle_lower_left_origin = mat_trans_triangle @ pts_triangle   # Put the matrix before pts_triangle\n",
    "pts_circle_lower_left_origin = mat_trans_circle @ pts_circle  # Put a matrix before pts_circle\n"
   ]
  }
 ],
 "metadata": {
  "kernelspec": {
   "display_name": "Python 3",
   "language": "python",
   "name": "python3"
  },
  "language_info": {
   "codemirror_mode": {
    "name": "ipython",
    "version": 3
   },
   "file_extension": ".py",
   "mimetype": "text/x-python",
   "name": "python",
   "nbconvert_exporter": "python",
   "pygments_lexer": "ipython3",
   "version": "3.11.4"
  }
 },
 "nbformat": 4,
 "nbformat_minor": 2
}
