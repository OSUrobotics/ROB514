{
 "cells": [
  {
   "cell_type": "markdown",
   "metadata": {},
   "source": [
    "# Tutorial: What are lists?\n",
    "\n",
    "Lists are just ordered collections of anything. They are mutable - they can be edited \"in place\".\n",
    "\n",
    "Although lists can be treated as arrays (see numpy array) in fact they are a lot more flexible. Arrays\n",
    "require that all the element types be the same, and if the array is n-dimensional (think matrix) then all the\n",
    "rows have to have the same number of elements. This is NOT true for lists.\n",
    "\n",
    "Lists are primarily used to keep data that may be changing over time or of different types. Some common examples:\n",
    " - Keep the header/row names of the columns/rows of a spreadsheet\n",
    " - Keep the n parameter values you want to try in a function (think spring constant, joint angles, etc)\n",
    " - In general, if you want to do something n times with n different values, put those values in a list and then iterate over the list with a **for** loop\n",
    "\n",
    "The primary \"gotcha\" of lists is that variable names are pointers - assigning **a = b** does NOT copy the values of **b** into **a**, **a** points to the exact same data as **b** did. So editing **b** will edit **a** and vice versa.\n",
    "\n",
    "There are many utilities/functions for iterating over, sorting and building lists. If you think it should exist, it probably does (or can easily be built from existing functions).\n",
    "\n",
    "Related data structures:\n",
    " - strings - a list of characters, immutable\n",
    " - tuples - a list of anything (like a list), but immutable (you can't change it once it's built)\n",
    " - numpy arrays - n-dimensional arrays of numbers or booleans. Provides very, very fast interation/operations over those arrays\n",
    "\n",
    "- Use strings or tuples if you just build the list and don't need to edit it/change it\n",
    "\n",
    "- Use numpy arrays if all your data is of the same type (number, boolean) and you want your mathematical operations to be blazingly fast (or at least faster than lists)\n",
    "\n",
    "Syntax of lists: https://docs.python.org/3/tutorial/datastructures.html#\n",
    "\n",
    "Alternative tutorial for lists: https://www.programiz.com/python-programming/list"
   ]
  },
  {
   "cell_type": "markdown",
   "metadata": {},
   "source": [
    "## Tutorial: Creating lists\n",
    "In general, [] is used to create a list AND access elements of it.\n",
    "\n",
    "The following are several use cases and the specific syntax you need to build a list for that use case. \n",
    "TODO:\n",
    "- Try making a list with 3, 6, 9, ... 18 in it\n",
    "- Try making a list with a list in it"
   ]
  },
  {
   "cell_type": "code",
   "execution_count": null,
   "metadata": {},
   "outputs": [],
   "source": [
    "# Use case: You know in advance what you want in the list (eg, parameters you want to try)\n",
    "my_list_advance = [\"A string\", [\"Another\", \"list\", 3], 10.3, True]\n",
    "print(my_list_advance)"
   ]
  },
  {
   "cell_type": "code",
   "execution_count": null,
   "metadata": {},
   "outputs": [],
   "source": [
    "# Use case: You are iterating over something and want to add the items in one at a time\n",
    "#   Note that the for loop could be a lot more complicated, and include if statements\n",
    "my_list_add = []  # Empty list\n",
    "for i in range(0, 5):\n",
    "    # Add in the string \"item n\"\n",
    "    my_list_add.append(\"item \" + str(i))\n",
    "# Add in a \"done\", just for fun\n",
    "my_list_add.append(\"done\")\n",
    "print(my_list_add)\n"
   ]
  },
  {
   "cell_type": "code",
   "execution_count": null,
   "metadata": {},
   "outputs": [],
   "source": [
    "# Fancy version, if you want to build the list in one line - requires being able to iterate over something\n",
    "#   See list comprehension (that's the fancy name for this)\n",
    "#  Iterates over the for loop, and puts the stuff on the left in the list\n",
    "#    Identical to the above for loop, just in one line\n",
    "my_list_fancy_add = [\"item \" + str(i) for i in range(0, 5)]\n",
    "print(my_list_fancy_add)\n"
   ]
  },
  {
   "cell_type": "code",
   "execution_count": null,
   "metadata": {},
   "outputs": [],
   "source": [
    "# OPTIONAL - you can even do if statements\n",
    "#  - in this case, if i is even, add the item\n",
    "my_list_fancy_add_with_if = [\"item \" + str(i) for i in range(0, 5) if i % 2 == 0]\n",
    "print(my_list_fancy_add_with_if)\n",
    "# END OPTIONAL"
   ]
  },
  {
   "cell_type": "markdown",
   "metadata": {},
   "source": [
    "## Tutorial: Accessing elements of a list\n",
    "\n",
    "In Python, fancy indexing is called \"slicing\". We cover some common use cases here. \n",
    "\n",
    "Python has some VERY useful tools for interacting with lists in **for** loops; my two favorite are **zip** (zip multiple lists together) and **enumerate** (get the index at the same time). We cover some of these in the optional sections below. \n",
    "\n",
    "TODO\n",
    "- Try looping over all but the last two elements of a list\n",
    "- Try getting out the 2nd and 3rd elements of the list"
   ]
  },
  {
   "cell_type": "code",
   "execution_count": null,
   "metadata": {},
   "outputs": [],
   "source": [
    "# Range is a generator function. To make it a list, we explicitly cast to a list\n",
    "#    Could also use the [i for i in range(0,10)] syntax above\n",
    "my_list_numbers = list(range(0, 10))\n",
    "print(my_list_numbers)\n",
    "print(f\"First index: {my_list_numbers[0]}\")   # Get one element out - note, index from 0\n",
    "print(f\"Last index: {my_list_numbers[-1]}\")    # Get last element out - note -1\n",
    "print(f\"Slice index: {my_list_numbers[1:3]}\")  # Get second, third - note does NOT include list[3]"
   ]
  },
  {
   "cell_type": "code",
   "execution_count": null,
   "metadata": {},
   "outputs": [],
   "source": [
    "# Looping over elements in the list\n",
    "print(\"Starting loop\")\n",
    "for item in my_list_numbers:   # item will be each element in my_list_numbers in turn\n",
    "    print(f\"Item {item}\")\n",
    "print(\"Ending loop\")"
   ]
  },
  {
   "cell_type": "code",
   "execution_count": null,
   "metadata": {},
   "outputs": [],
   "source": [
    "# Looping over some of the elements in the list (using slicing)\n",
    "print(\"Starting loop\")\n",
    "for item in my_list_numbers[1:-1]:   # All but the first and last elements\n",
    "    print(f\"Item {item}\")\n",
    "print(\"Ending loop\")"
   ]
  },
  {
   "cell_type": "code",
   "execution_count": null,
   "metadata": {},
   "outputs": [],
   "source": [
    "# Creating a new list from the old one\n",
    "my_list_from_old = []\n",
    "for item in my_list_numbers:\n",
    "    # Create the element [\"item n\", n] (which is a list) and add it to the new list\n",
    "    my_list_from_old.append([f\"Item {item}\", item])\n",
    "print(my_list_from_old)"
   ]
  },
  {
   "cell_type": "markdown",
   "metadata": {},
   "source": [
    "# Tutorial: Getting indices of elements, multiple lists\n",
    "\n",
    "Task: Suppose you have three lists, one with strings for what you want to do, and two with numbers. You want to do something different depending on what is in the first list - eg, add instead of multiply. The output is a list with the results (but only if the first list says to).\n",
    "\n",
    "Here are multiple ways to do this, getting steadily more sophisticated.\n",
    "\n",
    "TODO:\n",
    "- Try making the lists different lengths (eg, add another number to lhs). What happens?\n",
    "- Try adding a different word (like divide) to my_list_todos - what happens?\n"
   ]
  },
  {
   "cell_type": "code",
   "execution_count": null,
   "metadata": {},
   "outputs": [],
   "source": [
    "my_list_todos = [\"add\", \"add\", \"multiply\", \"skip\", \"multiply\"]\n",
    "my_list_lhs_numbers = [1, 2, 3, -10, 4]\n",
    "my_list_rhs_numbers = [0.1, 0.2, -0.3, 0.4, 0.5]\n",
    "\n",
    "# Old-school, matlab or C++ version\n",
    "#  Declare an index variable and use the length of the list to iterate over\n",
    "#   range produces the numbers 0, 1, etc through n-1\n",
    "#   for the c programmer, there is no for (i = 0, i < n, i++) equivalent\n",
    "my_list_result = []\n",
    "for i in range(0, len(my_list_todos)):\n",
    "    if my_list_todos[i] == \"add\":\n",
    "        my_list_result.append(my_list_lhs_numbers[i] + my_list_rhs_numbers[i])\n",
    "    elif my_list_todos[i] == \"multiply\":\n",
    "        my_list_result.append(my_list_lhs_numbers[i] * my_list_rhs_numbers[i])\n",
    "    elif my_list_todos[i] == \"skip\":\n",
    "        pass \n",
    "    else:\n",
    "        # This is the RIGHT way to do this, so you catch if someone mis-typed something\n",
    "        raise ValueError(f\"Expected add, multiply, or skip, got {my_list_names[i]}\")\n",
    "print(my_list_result)"
   ]
  },
  {
   "cell_type": "code",
   "execution_count": null,
   "metadata": {},
   "outputs": [],
   "source": [
    "# Do NOT do the following. It is prone to errors (forgetting to increment i) and is just UGLY\n",
    "i = 0\n",
    "for n in my_list_todos:\n",
    "    lhs = my_list_lhs_numbers[i]\n",
    "    rhs = my_list_rhs_numbers[i]\n",
    "    print(f\"stuff in for loop {i} {n} {lhs} {rhs}\")\n",
    "    i = i + 1"
   ]
  },
  {
   "cell_type": "code",
   "execution_count": null,
   "metadata": {},
   "outputs": [],
   "source": [
    "# Better: Use python's enumerate function to get i (enumerate is AWESOME)\n",
    "#   i will have 0, 1, etc, while n will take on each element of the list in turn\n",
    "#   Note that, technically, enumerate is returning a tuple with two elements i and n (see optional below)\n",
    "my_list_result = []  # Set list back to empty\n",
    "\n",
    "# Notice i, n\n",
    "for i, n in enumerate(my_list_todos):\n",
    "    if n == \"add\":\n",
    "        my_list_result.append(my_list_lhs_numbers[i] + my_list_rhs_numbers[i])\n",
    "    elif n == \"multiply\":\n",
    "        my_list_result.append(my_list_lhs_numbers[i] * my_list_rhs_numbers[i])\n",
    "    elif n == \"skip\":\n",
    "        pass  # This is the RIGHT way to do this, so you catch if someone mis-typed something\n",
    "    else:\n",
    "        raise ValueError(f\"Expected add, multiply, or skip, got {n}\")\n",
    "print(my_list_result)"
   ]
  },
  {
   "cell_type": "code",
   "execution_count": null,
   "metadata": {},
   "outputs": [],
   "source": [
    "# Best: Use python's zip function to do all the work for you (look ma, no i!)\n",
    "#  Note that zip is returning a tuple with the ith element from each list each iteration\n",
    "#  Note also that this does NOT require an index variable i - it's all handled for you\n",
    "my_list_result = []  # Set list back to empty\n",
    "for n, lhs, rhs in zip(my_list_todos, my_list_lhs_numbers, my_list_rhs_numbers):\n",
    "    if n == \"add\":\n",
    "        my_list_result.append(lhs + rhs)\n",
    "    elif n == \"multiply\":\n",
    "        my_list_result.append(lhs * rhs)\n",
    "    elif n == \"skip\":\n",
    "        pass  \n",
    "    else:\n",
    "        # This is the RIGHT way to do this, so you catch if someone mis-typed something\n",
    "        raise ValueError(f\"Expected add, multiply, or skip, got {n}\")\n",
    "print(my_list_result)"
   ]
  },
  {
   "cell_type": "markdown",
   "metadata": {},
   "source": [
    "## Tutorial: List with enumerate (optional)\n",
    "The following is a fairly complicated example that combines a **for** loop with an **if** statement and **enumerate** to combine indexing with element access. There are two versions here; one that does this all in one line, the second takes that single line apart and shows what it would look like in more traditional coding.\n",
    "\n",
    "TODO: \n",
    "- look up range to see what it does\n",
    "- try changing this to also printout item 6 is 16"
   ]
  },
  {
   "cell_type": "code",
   "execution_count": null,
   "metadata": {},
   "outputs": [],
   "source": [
    "# You can return tuples from for loop iteration on lists to do indexing and values at the same time\n",
    "#  - in this case, if i is even, add the item\n",
    "my_list_fancy_add_with_if_and_enumerate = [\"item \" + str(i) + \" is \" + str(n) for i, n in enumerate(range(10, 15)) if i % 2 == 0]\n",
    "print(my_list_fancy_add_with_if_and_enumerate)"
   ]
  },
  {
   "cell_type": "code",
   "execution_count": null,
   "metadata": {},
   "outputs": [],
   "source": [
    "# Taking this apart - this is the same code, just written in pieces\n",
    "my_list_add_with_if_and_enumerate = []\n",
    "# Build up to enumerate/range - you can print/look at each of these in the debugger\n",
    "r = range(10, 15)  # Note: range is a generator function - not a list. It functions like a list, but doesn't actually make all the values\n",
    "index_plus_r = enumerate(r)  # Enumerate is a generator as well\n",
    "# index_plus_r[0] - this does NOT work, because index_plus_r is a generator, not a list\n",
    "\n",
    "index_plus_r_as_list = list(index_plus_r)  # You can, however, cast to a list to see what it looks like\n",
    "# List of tuples, with the first element created by \n",
    "print(f\"Index plus r as a list: {index_plus_r_as_list}\")\n",
    "\n",
    "tuple_return = index_plus_r_as_list[0]  # See what one element looks like - see tuples tutorials in week 3\n",
    "print(f\"What a single tuple looks like {tuple_return}\")\n",
    "\n",
    "my_list_add_with_if_and_enumerate = []\n",
    "for i, n in enumerate(range(0, 5)):\n",
    "    i_str = str(i)\n",
    "    n_str = str(n)\n",
    "    make_str = \"item \" + i_str + \" is \" + n_str\n",
    "    if i % 2 == 0:\n",
    "        my_list_add_with_if_and_enumerate.append(make_str)\n",
    "\n",
    "print(my_list_add_with_if_and_enumerate)"
   ]
  },
  {
   "cell_type": "markdown",
   "metadata": {},
   "source": [
    "## Tutorial: Gluing together two lists\n",
    "Again, we'll give you two ways to do this, the not so pretty one then the nice one.\n",
    "\n",
    "Then we'll show you the most common error people make when putting two lists together.\n",
    "\n",
    "TODO:\n",
    "- make a third list and create a list with all three lists in a row"
   ]
  },
  {
   "cell_type": "code",
   "execution_count": null,
   "metadata": {},
   "outputs": [],
   "source": [
    "my_list_part_1 = [\"a\", \"list\", \"part\", \"1\"]\n",
    "my_list_part_2 = [\"part\", \"2\"]\n",
    "\n",
    "# old school way of adding list 2 to list 1; this works, but it's clunky and slow\n",
    "for elem in my_list_part_2:\n",
    "    my_list_part_1.append(elem)\n",
    "print(my_list_part_1)"
   ]
  },
  {
   "cell_type": "code",
   "execution_count": null,
   "metadata": {},
   "outputs": [],
   "source": [
    "# Far simpler is to use extend\n",
    "my_list_part_1 = [\"a\", \"list\", \"part\", \"1\"]\n",
    "my_list_part_1.extend(my_list_part_2)\n",
    "print(my_list_part_1)"
   ]
  },
  {
   "cell_type": "markdown",
   "metadata": {},
   "source": [
    "### GOTCHA: Combining lists (but not the way you wanted)\n",
    "The following are two common mistakes people make when putting lists together.\n",
    "\n",
    "Ok, they aren't **technically** mistakes - but they probably aren't what you want.\n",
    "\n",
    "TODO: \n",
    "- Fix the code to do the \"right\" thing"
   ]
  },
  {
   "cell_type": "code",
   "execution_count": null,
   "metadata": {},
   "outputs": [],
   "source": [
    "# ERROR: This does NOT work the way you intend - syntactically correct, but it just adds the entire list as the\n",
    "#  next element.\n",
    "# Why is my list not a list?\n",
    "my_list_part_1 = [\"a\", \"list\", \"part\", \"1\"]\n",
    "my_list_part_2 = [\"part\", \"2\"]\n",
    "\n",
    "my_list_part_1.append(my_list_part_2)\n",
    "print(my_list_part_1)\n",
    "print(f\"Length of list {len(my_list_part_1)}, should be 6\")"
   ]
  },
  {
   "cell_type": "code",
   "execution_count": null,
   "metadata": {},
   "outputs": [],
   "source": [
    "# I've also seen people do this, which is a list of lists with single elements\n",
    "#   This creates a list with one element in it then appends the element\n",
    "my_list_part_1 = [\"a\", \"list\", \"part\", \"1\"]\n",
    "my_list_part_2 = [\"part\", \"2\"]\n",
    "for elem in my_list_part_2:\n",
    "    my_list_part_1.append([elem])\n",
    "print(my_list_part_1)"
   ]
  },
  {
   "cell_type": "code",
   "execution_count": null,
   "metadata": {},
   "outputs": [],
   "source": [
    "# This is also really common\n",
    "my_list_part_1 = [\"a\", \"list\", \"part\", \"1\"]\n",
    "my_list_part_2 = [\"part\", \"2\"]\n",
    "\n",
    "# Empty list\n",
    "my_new_list = []\n",
    "for elem in my_list_part_1:\n",
    "    my_new_list.append([elem])\n",
    "for elem in my_list_part_2:\n",
    "    my_new_list.append([elem])\n",
    "    \n",
    "# This made a lists of lists, so \n",
    "print(my_new_list)\n",
    "\n",
    "# This is a list, not an element - the error you get (TypeError) arises because the int cast doesn't know\n",
    "#. what to do with a list - and you've accidentally made all of the elements lists\n",
    "print(f\"{my_new_list[3]}, attempted cast to int {int(my_new_list[3])}\")\n"
   ]
  },
  {
   "cell_type": "markdown",
   "metadata": {},
   "source": [
    "## GOTCHA: Common indexing errors\n",
    "The following are some common errors you'll get; this code does NOT work and should generate errors\n",
    "\n",
    "TODO\n",
    "- READ the errors and see if you can understand what they mean. \n",
    "- Cut and paste the error into Google - sometimes this can be helpful in deciphering cryptic error messages"
   ]
  },
  {
   "cell_type": "code",
   "execution_count": null,
   "metadata": {},
   "outputs": [],
   "source": [
    "#  error message: IndexError: list index out of range\n",
    "my_list_part_1[50]  # Not 50 elements"
   ]
  },
  {
   "cell_type": "code",
   "execution_count": null,
   "metadata": {},
   "outputs": [],
   "source": [
    "#  error message: TypeError: list indices must be integers or slices, not float\n",
    "n = 10.0\n",
    "my_list_part_1[n]  # n is not an integer"
   ]
  },
  {
   "cell_type": "code",
   "execution_count": null,
   "metadata": {},
   "outputs": [],
   "source": [
    "# Not really an error, but if you meant to include the last number THIS WON'T work\n",
    "#   Use [1:] to include the last element\n",
    "#   Use [0:1] to get just the first element\n",
    "for n in my_list_todos[1:-1]:\n",
    "    print(n)"
   ]
  },
  {
   "cell_type": "markdown",
   "metadata": {},
   "source": [
    "## GOTCHA: List variables point to THE SAME THING\n",
    "\n",
    "This is probably the most common list error - and it can be really hard to figure out because you print the list out at the start and it looks fine, then you do some other operations, and suddenly your list is not what it was before. \n",
    "\n",
    "How to detect these problems\n",
    " - Lists change number of elements when you don't expect them to (leading to indexing errors)\n",
    " - The values in your list change when you don't think you changed them\n",
    " - Look for l1 = l2 OR when you've passed a list into a function\n",
    " - Note that in python it's really, really bad form to change a list inside a function - but that doesn't stop people\n",
    "\n",
    "How to avoid generating this error\n",
    " - Always create a new list and do an append to \"change\" the original list\n",
    " - Avoid re-using variable names\n",
    " \n",
    " TODO: \n",
    " - Try re-writing so that you create a new list instead of point to the old one"
   ]
  },
  {
   "cell_type": "code",
   "execution_count": null,
   "metadata": {},
   "outputs": [],
   "source": [
    "# ERROR: List variables point to THE SAME THING\n",
    "my_list_todos_2 = my_list_todos\n",
    "\n",
    "# fine if you're just accessing\n",
    "print(f\"List names {my_list_todos}\")\n",
    "print(f\"List names 2 {my_list_todos_2}\")"
   ]
  },
  {
   "cell_type": "code",
   "execution_count": null,
   "metadata": {},
   "outputs": [],
   "source": [
    "# If we edit either one, we edit the other\n",
    "my_list_todos.append(\"Oops\")\n",
    "print(f\"List names {my_list_todos}\")\n",
    "print(f\"List names 2 {my_list_todos_2}\")"
   ]
  },
  {
   "cell_type": "code",
   "execution_count": null,
   "metadata": {},
   "outputs": [],
   "source": [
    "# This is particularly problematic - because it will never stop- see * on the left - it gives up.\n",
    "#   It keeps adding n oops to my_list todos \n",
    "#  Note that you may kill the kernel running this... sorry...\n",
    "# \n",
    "my_list_todos = [\"add\", \"add\", \"multiply\", \"skip\", \"multiply\"]\n",
    "my_list_todos_2 = my_list_todos  # Point to the SAME THIGN\n",
    "\n",
    "for n in my_list_todos:\n",
    "    my_list_todos_2.append(n + \"oops\")\n",
    "    print(my_list_todos)\n",
    "print(my_list_todos_2)"
   ]
  },
  {
   "cell_type": "code",
   "execution_count": null,
   "metadata": {},
   "outputs": [],
   "source": [
    "# This will work - because my_list_no_problem is NOT the same as my_list_todos\n",
    "my_list_todos = [\"add\", \"add\", \"multiply\", \"skip\", \"multiply\"]\n",
    "my_list_no_problem = []\n",
    "for n in my_list_todos:\n",
    "    my_list_no_problem.append(n)"
   ]
  },
  {
   "cell_type": "code",
   "execution_count": null,
   "metadata": {},
   "outputs": [],
   "source": [
    "# ERROR: Don't edit lists in place\n",
    "#  Ok, this isn't technically an error, just dangerous/bad coding practice\n",
    "\n",
    "l_orig = [3.0, 5.0, -1.0, 6.0, -2.0, 5.0]\n",
    "# Code to fix negative numbers\n",
    "for i, v in enumerate(l_orig):\n",
    "    if v < 0:\n",
    "        l_orig[i] = 0.0\n",
    "    # Hidden else - l_orig stays the same        \n",
    "print(l_orig)"
   ]
  },
  {
   "cell_type": "code",
   "execution_count": null,
   "metadata": {},
   "outputs": [],
   "source": [
    "# CORRECT way to do this\n",
    "l_orig = [3.0, 5.0, -1.0, 6.0, -2.0, 5.0]\n",
    "# Code to fix negative numbers\n",
    "l_orig_fixed = []\n",
    "for v in l_orig:\n",
    "    if v < 0:\n",
    "        l_orig_fixed.append(0.0)\n",
    "    else:\n",
    "        l_orig_fixed.append(v)\n",
    "print(l_orig)\n",
    "print(l_orig_fixed)"
   ]
  },
  {
   "cell_type": "markdown",
   "metadata": {},
   "source": [
    "## GOTCHA: Edit lists in place, using a function (optional)\n",
    "This is the same thing as the previous example, only the \"edit in place\" is hidden in a function.\n",
    "\n",
    "Just... don't do this. Not only does this edit **l_orig** in place, but it's hidden behavior - how do you, as someone\n",
    "using **bad_programmer()**, suppose to know that **l_orig** will be edited? And that **l_orig** is the same as **l_orig_fixed**?\n",
    "\n",
    "The \"correct\" way to do this is also shown.\n",
    "\n",
    "TODO\n",
    "- Write down on a piece of paper \"I will not do this\" 5 times... ;-)"
   ]
  },
  {
   "cell_type": "code",
   "execution_count": null,
   "metadata": {},
   "outputs": [],
   "source": [
    "def bad_programmer(l_orig):\n",
    "    for i, v in enumerate(l_orig):\n",
    "        if v < 0:\n",
    "            l_orig[i] = 0.0\n",
    "    return l_orig\n",
    "\n",
    "l_orig = [3.0, 5.0, -1.0, 6.0, -2.0, 5.0]\n",
    "l_orig_fixed = bad_programmer(l_orig)\n",
    "print(\"These are the SAME list\")\n",
    "print(l_orig)\n",
    "print(l_orig_fixed)"
   ]
  },
  {
   "cell_type": "code",
   "execution_count": null,
   "metadata": {},
   "outputs": [],
   "source": [
    "def good_programmer(l_orig):\n",
    "    l_orig_fixed = []\n",
    "    for v in l_orig:\n",
    "        if v < 0:\n",
    "            l_orig_fixed.append(0.0)\n",
    "        else:\n",
    "            l_orig_fixed.append(v)\n",
    "    return l_orig_fixed\n",
    "\n",
    "l_orig = [3.0, 5.0, -1.0, 6.0, -2.0, 5.0]\n",
    "l_orig_fixed = good_programmer(l_orig)\n",
    "print(\"These are the NOT the same list\")\n",
    "print(l_orig)\n",
    "print(l_orig_fixed)"
   ]
  }
 ],
 "metadata": {
  "kernelspec": {
   "display_name": "Python 3",
   "language": "python",
   "name": "python3"
  },
  "language_info": {
   "codemirror_mode": {
    "name": "ipython",
    "version": 3
   },
   "file_extension": ".py",
   "mimetype": "text/x-python",
   "name": "python",
   "nbconvert_exporter": "python",
   "pygments_lexer": "ipython3",
   "version": "3.7.4"
  }
 },
 "nbformat": 4,
 "nbformat_minor": 2
}
