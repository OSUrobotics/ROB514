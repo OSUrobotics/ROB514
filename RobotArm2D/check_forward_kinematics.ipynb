{
"cells": [
{
"cell_type": "code",
"execution_count": null,
"metadata": {
"deletable": false,
"editable": false
},
"outputs": [],
"source": [
"# Initialize Otter\n",
"import otter\n",
"grader = otter.Notebook(\"check_forward_kinematics.ipynb\")"
]
},
{
"cell_type": "markdown",
"metadata": {},
"source": [
"# Arm forward kinematics\n",
"\n",
"Create an arm with links and a gripper, then move the links by joint angles.\n",
"\n",
"You shouldn't have to edit this code, except to try some other joint angles. The bulk of the code is in arm_forward_kinematics.py, but you'll need a working version of matrix_transforms.py and object_in_world.py as well.\n",
"\n",
"Slides: https://docs.google.com/presentation/d/11gInwdUCRLz5pAwkYoHR4nzn5McAqfdktITMUe32-pM/edit?usp=sharing"
]
},
{
"cell_type": "code",
"execution_count": null,
"metadata": {},
"outputs": [],
"source": [
"# Doing the imports for you\n",
"import numpy as np\n",
"import json as json\n",
"import matplotlib.pyplot as plt"
]
},
{
"cell_type": "code",
"execution_count": null,
"metadata": {},
"outputs": [],
"source": [
"import sys; \n",
"sys.path.insert(0, '.')\n",
"sys.path.insert(0, '../Skills')\n",
"\n",
"# These commands will force JN to actually re-load the external file when you re-execute the import command\n",
"%load_ext autoreload\n",
"%autoreload 2"
]
},
{
"cell_type": "code",
"execution_count": null,
"metadata": {},
"outputs": [],
"source": [
"import matrix_transforms as mt\n",
"from objects_in_world import read_object, get_pts_as_numpy_array, plot_object_in_world_coord_system\n",
"import arm_forward_kinematics as afk"
]
},
{
"cell_type": "markdown",
"metadata": {
"deletable": false,
"editable": false
},
"source": [
"## Checking that all the .py files are included properly\n",
"And that the data files read properly\n",
"\n",
"You should turn in these files in addition to this one\n",
"- matrix_tranforms,py\n",
"- objects_in_world.py\n",
"- arm_forward_kinematics.py\n",
"\n",
"We include these for you\n",
"- Data/Wedge.json \n",
"- Data/Square.json"
]
},
{
"cell_type": "code",
"execution_count": null,
"metadata": {
"tags": []
},
"outputs": [],
"source": [
"import matrix_transforms as mt\n",
"import objects_in_world as obj_in_world"
]
},
{
"cell_type": "code",
"execution_count": null,
"metadata": {
"deletable": false,
"editable": false
},
"outputs": [],
"source": [
"grader.check(\"included_all_files\")"
]
},
{
"cell_type": "markdown",
"metadata": {
"deletable": false,
"editable": false
},
"source": [
"<!-- BEGIN QUESTION -->\n",
"\n",
"# Step 1: Arm geometry\n",
"\n",
"Build your arm pieces out of squares and wedges\n",
"You will need to fill in get_pts_as_numpy_array in objects_in_world.py, if you haven't done so already.\n",
"\n",
"The rest of the methods to fill in are in arm_forward_kinematics, the first section - set_transform_xxx"
]
},
{
"cell_type": "code",
"execution_count": null,
"metadata": {
"tags": []
},
"outputs": [],
"source": [
"# Syntax check of the methods used in this problem\n",
"obj = read_object(\"Square\") # method in objects_in_world\n",
"base = afk.set_transform_base(obj)\n",
"\n",
"# Check this method in obj\n",
"pts = get_pts_as_numpy_array(base)\n",
"if pts.shape != (3, len(base[\"XYs\"])):\n",
"    print(\"Should be a 3xn matrix\")\n",
"\n",
"# Check this one works\n",
"mat = mt.make_matrix_from_sequence(base[\"Matrix seq\"])\n",
"if mat.shape != (3, 3):\n",
"    print(\"Should be a 3x3 matrix\")\n",
"    \n",
"# The geometry methods - should take in an object, return an object, with Matrix seq st\n",
"link = afk.set_transform_link(obj, 0.75, 0.5)\n",
"\n",
"palm = afk.set_transform_palm(obj, 0.5)\n",
"\n",
"finger = afk.set_transform_finger(obj, 0.5, (0.75, 0.1), True)"
]
},
{
"cell_type": "code",
"execution_count": null,
"metadata": {
"tags": []
},
"outputs": [],
"source": [
"base_size_param = (1.0, 0.5)\n",
"link_sizes_param = [(0.5, 0.25), (0.3, 0.1), (0.2, 0.05)]\n",
"palm_width_param = 0.1\n",
"finger_size_param = (0.075, 0.025)\n",
"\n",
"# This function calls each of the set_transform_xxx functions, and puts the results\n",
"# in a list (the gripper - the last element - is a list)\n",
"arm_geometry = afk.create_arm_geometry(base_size_param, link_sizes_param, palm_width_param, finger_size_param)\n",
"if len(arm_geometry) != 5:\n",
"    print(\"Wrong number of components, should be 5, got {len(arm_geometry)}\")\n",
"if len(arm_geometry[-1]) != 3:\n",
"    print(\"Wrong number of gripper components, should be 3, got {len(arm_geometry[-1])}\")\n",
"\n",
"fig, axs = plt.subplots(1, len(arm_geometry), figsize=(4 * len(arm_geometry), 4))\n",
"\n",
"# Should be 5 windows, with the base, 3 links, and the gripper\n",
"afk.plot_arm_components(axs, arm_geometry)"
]
},
{
"cell_type": "markdown",
"metadata": {
"deletable": false,
"editable": false
},
"source": [
"<!-- END QUESTION -->\n",
"\n",
"<!-- BEGIN QUESTION -->\n",
"\n",
"# Step 2 - rotate links by angles\n",
"\n",
"Now rotate all of the components by an angle in their own coorinate system\n"
]
},
{
"cell_type": "code",
"execution_count": null,
"metadata": {
"tags": []
},
"outputs": [],
"source": [
"# Syntax check for the methods used \n",
"mat = afk.get_rotation_link(arm_geometry[1])\n",
"if mat.shape != (3,3):\n",
"    print(\"Should return a 3x3 matrix\")\n",
"\n",
"mat = afk.get_matrix_finger(arm_geometry[-1][1])\n",
"if mat.shape != (3,3):\n",
"    print(\"Should return a 3x3 matrix\")"
]
},
{
"cell_type": "code",
"execution_count": null,
"metadata": {
"tags": []
},
"outputs": [],
"source": [
"fig, axs = plt.subplots(1, len(arm_geometry), figsize=(4 * len(arm_geometry), 4))\n",
"\n",
"# Several different angles to check your results with\n",
"angles_none = [0.0, 0.0, 0.0, [0.0, 0.0, 0.0]]\n",
"angles_check_fingers = [np.pi/2, -np.pi/4, -3.0 * np.pi/4, [0.0, np.pi/4.0, -np.pi/4.0]]\n",
"angles_check_wrist = [np.pi/2, -np.pi/4, -3.0 * np.pi/4, [np.pi/3.0, 0.0, 0.0]]\n",
"angles_check = [np.pi/2, -np.pi/4, -3.0 * np.pi/4, [np.pi/3.0, np.pi/4.0, -np.pi/4.0]]\n",
"\n",
"# Setting the actual angles\n",
"afk.set_angles_of_arm_geometry(arm_geometry, angles_check)\n",
"\n",
"# Draw the result - make sure to fix where this draws the fingers\n",
"afk.plot_arm_components(axs, arm_geometry, b_with_angles=True)"
]
},
{
"cell_type": "markdown",
"metadata": {
"deletable": false,
"editable": false
},
"source": [
"<!-- END QUESTION -->\n",
"\n",
"<!-- BEGIN QUESTION -->\n",
"\n",
"# Step 3 - matrices all the way down\n",
"Build all the matrices needed to do the forward kinematics"
]
},
{
"cell_type": "code",
"execution_count": null,
"metadata": {
"tags": []
},
"outputs": [],
"source": [
"# Syntax check of the methods used here\n",
"mat = afk.get_matrix_base(arm_geometry[0])\n",
"if mat.shape != (3,3):\n",
"    print(\"Should return a 3x3 matrix\")\n",
"\n",
"mat = afk.get_matrix_link(arm_geometry[0])\n",
"if mat.shape != (3,3):\n",
"    print(\"Should return a 3x3 matrix\")\n",
"\n",
"matrices = afk.get_matrices_all_links(arm_geometry)\n",
"if len(matrices) != len(arm_geometry):\n",
"    print(\"Should have one matrix for each piece of geometry\")"
]
},
{
"cell_type": "code",
"execution_count": null,
"metadata": {
"tags": []
},
"outputs": [],
"source": [
"fig2, axs2 = plt.subplots(1, 1, figsize=(8, 8))\n",
"\n",
"# More angles to check\n",
"angles_check_link_0 = [np.pi/4, 0.0, 0.0, [0.0, 0.0, 0.0]]\n",
"angles_check_link_0_1 = [np.pi/4, -np.pi/4, 0.0, [0.0, 0.0, 0.0]]\n",
"angles_gripper_check = [np.pi/6.0, -np.pi/4, 1.5 * np.pi/4, [np.pi/3.0, -np.pi/8.0, np.pi/6.0]]\n",
"\n",
"# Actually set the angles\n",
"afk.set_angles_of_arm_geometry(arm_geometry, angles_gripper_check)\n",
"# And get the matrices\n",
"matrices = afk.get_matrices_all_links(arm_geometry)\n",
"\n",
"# Print the matrices - if you want\n",
"np.set_printoptions(precision=2, suppress=True)\n",
"for i, m in enumerate(matrices):\n",
"    print(f\"Matrix {i} is\\n{m}\")\n",
"    \n",
"# This is the part that mattters - draw the arm\n",
"afk.plot_complete_arm(axs2, arm_geometry, matrices)\n"
]
},
{
"cell_type": "markdown",
"metadata": {
"deletable": false,
"editable": false
},
"source": [
"<!-- END QUESTION -->\n",
"\n",
"# Step 4 - Put a + and a line at the grasp location\n",
"This should just be a matter of using the matrices you're already calculating."
]
},
{
"cell_type": "code",
"execution_count": null,
"metadata": {
"tags": []
},
"outputs": [],
"source": [
"# Syntax check\n",
"(x, y) = afk.get_gripper_location(arm_geometry)\n",
"if x == 0 and y == 0:\n",
"    print(\"Fix this method\")\n",
"    \n",
"(vx, vy) = afk.get_gripper_orientation(arm_geometry)\n",
"if vx == 0 and vy == 0:\n",
"    print(\"Fix this method\")"
]
},
{
"cell_type": "code",
"execution_count": null,
"metadata": {
"tags": []
},
"outputs": [],
"source": [
"fig2, axs2 = plt.subplots(1, 1, figsize=(8, 8))\n",
"# This time there should be a green plus and a line between the fingers\n",
"afk.plot_complete_arm(axs2, arm_geometry, matrices)"
]
},
{
"cell_type": "markdown",
"metadata": {
"deletable": false,
"editable": false
},
"source": [
"## Hours and collaborators\n",
"Required for every assignment - fill out before you hand-in.\n",
"\n",
"Listing names and websites helps you to document who you worked with and what internet help you received in the case of any plagiarism issues. You should list names of anyone (in class or not) who has substantially helped you with an assignment - or anyone you have *helped*. You do not need to list TAs.\n",
"\n",
"Listing hours helps us track if the assignments are too long."
]
},
{
"cell_type": "code",
"execution_count": null,
"metadata": {
"tags": []
},
"outputs": [],
"source": [
"\n",
"# List of names (creates a set)\n",
"worked_with_names = {\"not filled out\"}\n",
"# List of URLS TCS3 (creates a set)\n",
"websites = {\"not filled out\"}\n",
"# Approximate number of hours, including lab/in-class time\n",
"hours = -1.5"
]
},
{
"cell_type": "code",
"execution_count": null,
"metadata": {
"deletable": false,
"editable": false
},
"outputs": [],
"source": [
"grader.check(\"hours_collaborators\")"
]
},
{
"cell_type": "markdown",
"metadata": {},
"source": [
"See here: https://docs.google.com/presentation/d/1tYa5oycUiG4YhXUq5vHvPOpWJ4k_xUPp2rUNIL7Q9RI/edit?usp=sharing\n",
"for instructions on handing in/common problems with handing in"
]
},
{
"cell_type": "markdown",
"metadata": {
"deletable": false,
"editable": false
},
"source": [
"## Submission\n",
"\n",
"Make sure you have run all cells in your notebook in order before running the cell below, so that all images/graphs appear in the output. The cell below will generate a zip file for you to submit. **Please save before exporting!**\n",
"\n",
"Submit through gradescope, forward kinematics. Remember to include arm_forward_kinematics.py, objects_in_world.py, and matrix_transforms.py"
]
},
{
"cell_type": "code",
"execution_count": null,
"metadata": {
"deletable": false,
"editable": false
},
"outputs": [],
"source": [
"# Save your notebook first, then run this cell to export your submission.\n",
"grader.export(run_tests=True)"
]
},
{
"cell_type": "markdown",
"metadata": {},
"source": [
" "
]
}
],
"metadata": {
"kernelspec": {
"display_name": "Python 3",
"language": "python",
"name": "python3"
},
"language_info": {
"codemirror_mode": {
"name": "ipython",
"version": 3
},
"file_extension": ".py",
"mimetype": "text/x-python",
"name": "python",
"nbconvert_exporter": "python",
"pygments_lexer": "ipython3",
"version": "3.7.4"
},
"otter": {
"OK_FORMAT": true,
"tests": {
"hours_collaborators": {
"name": "hours_collaborators",
"points": 1,
"suites": [
{
"cases": [
{
"code": ">>> assert not 'not filled out' in worked_with_names\n",
"hidden": false,
"locked": false
},
{
"code": ">>> assert not 'not filled out' in websites\n",
"hidden": false,
"locked": false
},
{
"code": ">>> assert hours > 0\n",
"hidden": false,
"locked": false
}
],
"scored": true,
"setup": "",
"teardown": "",
"type": "doctest"
}
]
},
"included_all_files": {
"name": "included_all_files",
"points": 1,
"suites": [
{
"cases": [
{
"code": ">>> blank_obj = obj_in_world.make_blank_object()\n",
"hidden": false,
"locked": false
},
{
"code": ">>> scl_matrix = mt.make_scale_matrix(0.1, 0.1)\n",
"hidden": false,
"locked": false
},
{
"code": ">>> obj_wedge = obj_in_world.read_object('Wedge')\n",
"hidden": false,
"locked": false
},
{
"code": ">>> obj_square = obj_in_world.read_object('Square')\n",
"hidden": false,
"locked": false
},
{
"code": ">>> arm_geometry = afk.create_arm_geometry((1.0, 0.5), [(0.5, 0.25), (0.3, 0.1), (0.2, 0.05)], 0.1, (0.075, 0.025))\n",
"hidden": false,
"locked": false
}
],
"scored": true,
"setup": "",
"teardown": "",
"type": "doctest"
}
]
}
}
}
},
"nbformat": 4,
"nbformat_minor": 2
}