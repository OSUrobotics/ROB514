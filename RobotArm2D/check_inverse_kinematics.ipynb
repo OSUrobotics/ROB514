{
"cells": [
{
"cell_type": "code",
"execution_count": null,
"metadata": {
"deletable": false,
"editable": false
},
"outputs": [],
"source": [
"# Initialize Otter\n",
"import otter\n",
"grader = otter.Notebook(\"check_inverse_kinematics.ipynb\")"
]
},
{
"cell_type": "markdown",
"metadata": {},
"source": [
"# Arm inverse kinematics\n",
"\n",
"Do IK twice, once with gradient descent, once with a Jacobian.\n",
"All the code is in arm_ik_gradient.py and arm_ik_jacobian.py\n",
"\n",
"**Files to include:**\n",
"- matrix_transforms.py\n",
"- objects_in_world.py\n",
"- arm_forward_kinematics.py\n",
"- arm_ik_jacobian.py\n",
"- arm_ik_gradient.py\n",
"\n",
"Slides: https://docs.google.com/presentation/d/1dowamZVQqyLDZ-k-vWRV0rrQ-4dMVWhSCy25BV8a6bU/edit?usp=sharing"
]
},
{
"cell_type": "code",
"execution_count": null,
"metadata": {},
"outputs": [],
"source": [
"# Doing the imports for you\n",
"import numpy as np\n",
"import json as json\n",
"import matplotlib.pyplot as plt"
]
},
{
"cell_type": "code",
"execution_count": null,
"metadata": {},
"outputs": [],
"source": [
"import sys; \n",
"sys.path.insert(0, '.')\n",
"sys.path.insert(0, '../Skills')\n",
"\n",
"# These commands will force JN to actually re-load the external file when you re-execute the import command\n",
"%load_ext autoreload\n",
"%autoreload 2"
]
},
{
"cell_type": "code",
"execution_count": null,
"metadata": {},
"outputs": [],
"source": [
"import arm_forward_kinematics as afk\n",
"import arm_ik_gradient as ik_gradient"
]
},
{
"cell_type": "markdown",
"metadata": {
"deletable": false,
"editable": false
},
"source": [
"## Checking that all the .py files are included properly\n",
"And that the data files read properly\n",
"\n",
"- matrix_tranforms,py\n",
"- objects_in_world.py\n",
"- arm_forward_kinematics.py\n",
"- arm_ik_gradient.py\n",
"- arm_jacobian_gradient.py\n",
"\n",
"We include these for you\n",
"- Data/Wedge.json \n",
"- Data/Square.json\n",
"\n",
"There is nothing you need to do here, except make sure the .py files are included"
]
},
{
"cell_type": "code",
"execution_count": null,
"metadata": {
"tags": []
},
"outputs": [],
"source": [
"import matrix_transforms as mt\n",
"import objects_in_world as obj_in_world\n",
"import arm_ik_jacobian as ik_jacobian"
]
},
{
"cell_type": "code",
"execution_count": null,
"metadata": {
"deletable": false,
"editable": false
},
"outputs": [],
"source": [
"grader.check(\"included_all_files\")"
]
},
{
"cell_type": "markdown",
"metadata": {
"deletable": false,
"editable": false
},
"source": [
"## Gradient calculation, using distance of grasp point to target\n",
"There are tests for each step of this/each function to make sure that you're getting the correct (or same as the example code) values. "
]
},
{
"cell_type": "code",
"execution_count": null,
"metadata": {
"tags": []
},
"outputs": [],
"source": [
"# Create the arm geometry\n",
"base_size_param = (1.0, 0.5)\n",
"link_sizes_param = [(0.5, 0.25), (0.3, 0.1), (0.2, 0.05)]\n",
"palm_width_param = 0.1\n",
"finger_size_param = (0.075, 0.025)\n",
"\n",
"arm_geometry = afk.create_arm_geometry(base_size_param, link_sizes_param, palm_width_param, finger_size_param)\n",
"\n",
"# Set some initial angles\n",
"angles_check = [0.0, np.pi/4, 0, [-np.pi/4.0, np.pi/4.0, -np.pi/4.0]]\n",
"afk.set_angles_of_arm_geometry(arm_geometry, angles_check)"
]
},
{
"cell_type": "code",
"execution_count": null,
"metadata": {
"tags": []
},
"outputs": [],
"source": [
"# First check - do you get the same answer for the gripper location?\n",
"gripper_loc = afk.get_gripper_location(arm_geometry)\n",
"exp_gripper_loc = (-0.3536, 1.4098)\n",
"if not np.isclose(gripper_loc[0], exp_gripper_loc[0], atol=0.01) or not np.isclose(gripper_loc[1], exp_gripper_loc[1], atol=0.01):\n",
"    print(f\"Gripper loc, expected {exp_gripper_loc}, got {gripper_loc}\")\n",
"else:\n",
"    print(f\"Success: got same gripper location\")\n"
]
},
{
"cell_type": "code",
"execution_count": null,
"metadata": {
"tags": []
},
"outputs": [],
"source": [
"# Set the target for the example here\n",
"target = (0.5, 1.5)"
]
},
{
"cell_type": "code",
"execution_count": null,
"metadata": {
"tags": []
},
"outputs": [],
"source": [
"# Plot so you can see what the arm angles produce and where the target is\n",
"fig, axs = plt.subplots(1, 1, figsize=(4, 4))\n",
"\n",
"# Actually get the matrices\n",
"matrices = afk.get_matrices_all_links(arm_geometry)\n",
"afk.plot_complete_arm(axs, arm_geometry, matrices)\n",
"\n",
"# Plot target too\n",
"axs.plot(target[0], target[1], '+r')\n",
"axs.set_title(\"Before gradient descent\")"
]
},
{
"cell_type": "code",
"execution_count": null,
"metadata": {
"tags": []
},
"outputs": [],
"source": [
"# First check - vector to goal - see pic above, should point from green + to red one\n",
"vec = ik_gradient.vector_to_goal(arm_geometry, target)\n",
"if not vec.shape[0] == 2:\n",
"    print(f\"Expected a 2x1 vector, got {vec.shape}\")\n",
"elif not np.isclose(vec[0], 0.8535, atol=0.01) or not np.isclose(vec[1], 0.09019, atol=0.01):\n",
"    print(f\"Expected (0.853, 0.090), got {vec}\")\n",
"else:\n",
"    print(\"Passed vec check\")"
]
},
{
"cell_type": "code",
"execution_count": null,
"metadata": {
"tags": []
},
"outputs": [],
"source": [
"# Second check - distance to goal, should be length of vector\n",
"dist_to_arm = ik_gradient.distance_to_goal(arm_geometry, target)\n",
"if not np.isclose(dist_to_arm, 0.858, atol=0.01):\n",
"    print(f\"Expected 0.858, got {dist_to_arm:0.3}\")\n",
"else:\n",
"    print(f\"Passed distance check, dist {dist_to_arm:0.3}\")"
]
},
{
"cell_type": "code",
"execution_count": null,
"metadata": {
"tags": []
},
"outputs": [],
"source": [
"# Third check - the gradient. \n",
"grad = ik_gradient.calculate_gradient(arm_geometry, angles_check, target)\n",
"exp_grad = [0.9419, 0.4447, 0.2114, 0.0559]\n",
"if not len(grad) == 4:\n",
"    print(f\"Expected a 4x1 list, got {grad}\")\n",
"elif not np.all(np.isclose(grad, exp_grad, atol=0.01)):\n",
"    print(f\"Expected {exp_grad} got {grad}\")\n",
"else:\n",
"    print(\"Passed gradient check\")"
]
},
{
"cell_type": "code",
"execution_count": null,
"metadata": {
"deletable": false,
"editable": false
},
"outputs": [],
"source": [
"grader.check(\"gradient_calculation\")"
]
},
{
"cell_type": "markdown",
"metadata": {
"deletable": false,
"editable": false
},
"source": [
"## Gradient descent\n",
"This checks the actual gradient descent algorithm - does the gripper get closer to the goal at each time step? Does it eventually reach the goal?\n",
"\n",
"Checks gradient_descent in arm_ik_gradient.py"
]
},
{
"cell_type": "code",
"execution_count": null,
"metadata": {
"tags": []
},
"outputs": [],
"source": [
"\n",
"# Main check - do we get out the new angles? Note, this assumes that you haven't changed up the step size\n",
"b_succ, angles_new, count = ik_gradient.gradient_descent(arm_geometry, angles_check, target, b_one_step=True)\n",
"ang_exp = [-0.942, 0.341, -0.211, [-0.841, 0, 0]]\n",
"if not len(angles_new) == 4:\n",
"    print(f\"Expected {ang_exp}, got {angles_new}\")\n",
"for a1, a2 in zip(angles_new, ang_exp):\n",
"    if not np.all(np.isclose(a1, a2, atol=0.01)):\n",
"        print(f\"Expected {a1} got {a2}\")\n",
"if not b_succ:\n",
"    print(f\"Expected successful/improvement, got none\")"
]
},
{
"cell_type": "code",
"execution_count": null,
"metadata": {
"tags": []
},
"outputs": [],
"source": [
"# This will actually change the arm geometry based on the new angles\n",
"afk.set_angles_of_arm_geometry(arm_geometry, angles_check)\n",
"last_dist = ik_gradient.distance_to_goal(arm_geometry, target)\n",
"\n",
"# For first round of for loop\n",
"angles_new = angles_check\n",
"print(f\"Starting distance {last_dist}\")\n",
"for i in range(0, 3):\n",
"    b_succ, angles_new, count = ik_gradient.gradient_descent(arm_geometry, angles_new, target, b_one_step=True)\n",
"    afk.set_angles_of_arm_geometry(arm_geometry, angles_new)\n",
"    dist = ik_gradient.distance_to_goal(arm_geometry, target)\n",
"    if not b_succ:\n",
"        print(f\"Expected successful/improvement after each iteration, got none\")\n",
"    elif not dist < last_dist:\n",
"        print(f\"Expected improvement, got none, dist {dist}\")\n",
"    else:\n",
"        print(f\"Passed iteration check {i}, dist {dist}\")\n",
"    last_dist = dist\n",
"\n",
"if not np.isclose(dist, 0.1, atol=0.01):\n",
"    print(f\"Expected distance to be close to 0.1, got {dist}, count {count}\")\n"
]
},
{
"cell_type": "code",
"execution_count": null,
"metadata": {
"tags": []
},
"outputs": [],
"source": [
"# Do gradient descent until gradient descent bottoms out\n",
"b_succ, angles_new, count = ik_gradient.gradient_descent(arm_geometry, angles_check, target, b_one_step=False)\n",
"\n",
"# Set the new angles\n",
"afk.set_angles_of_arm_geometry(arm_geometry, angles_new)\n",
"dist = ik_gradient.distance_to_goal(arm_geometry, target)\n",
"\n",
"if not b_succ:\n",
"    print(f\"Expected successful/improvement, got none\")\n",
"elif not np.isclose(dist, 0.063, atol=0.01):\n",
"    print(f\"Expected distance to be close to 0.063, got {dist}, count {count}\")\n",
"    \n",
"else:\n",
"    print(f\"Passed full descent {dist:0.2}\")"
]
},
{
"cell_type": "code",
"execution_count": null,
"metadata": {
"tags": []
},
"outputs": [],
"source": [
"# And plot the old and the new\n",
"# Plot so you can see what it should look like\n",
"fig, axs = plt.subplots(1, 2, figsize=(12, 6))\n",
"\n",
"for i, a in enumerate([angles_check, angles_new]):\n",
"    # Actually get the matrices\n",
"    afk.set_angles_of_arm_geometry(arm_geometry, a)\n",
"    matrices = afk.get_matrices_all_links(arm_geometry)\n",
"    afk.plot_complete_arm(axs[i], arm_geometry, matrices)\n",
"\n",
"    # Plot target too\n",
"    axs[i].plot(target[0], target[1], '+r')\n",
"\n",
"axs[0].set_title(\"Before gradient descent\")\n",
"axs[1].set_title(f\"After gradient descent count {count} dist {dist:0.3}\")"
]
},
{
"cell_type": "code",
"execution_count": null,
"metadata": {
"deletable": false,
"editable": false
},
"outputs": [],
"source": [
"grader.check(\"gradient_descent\")"
]
},
{
"cell_type": "markdown",
"metadata": {},
"source": [
"# IK using a jacobian\n",
"You can do either the Jacobian numerically or from matrices (extra credit) or both. \n",
"The routines you need to edit are in arm_ik_jacobian.py"
]
},
{
"cell_type": "markdown",
"metadata": {
"deletable": false,
"editable": false
},
"source": [
"## Practice Jacobian\n",
"This is a 1d, stand-alone Jacobian. "
]
},
{
"cell_type": "code",
"execution_count": null,
"metadata": {
"tags": []
},
"outputs": [],
"source": [
"import arm_ik_jacobian as ik_jacobian"
]
},
{
"cell_type": "code",
"execution_count": null,
"metadata": {
"tags": []
},
"outputs": [],
"source": [
"# Do this first to make sure you know how to calculate a Jacobian for 1 link\n",
"#  There's additional prints that print out the angle, moved point, etc.\n",
"print(\"Checking practice jacobian\")\n",
"ang = ik_jacobian.practice_jacobian()\n",
"exp_ang = -0.032\n",
"try:\n",
"    if not np.isclose(ang, exp_ang, atol=0.01):\n",
"        print(f\"Practice jacobian: Expected {exp_ang}, got {ang}\")\n",
"    else:\n",
"        print(f\"Passed practice jacobian test\")\n",
"except:\n",
"    print(f\"Probably an indexing/data structure problem Expected {exp_ang}, got {ang}\\n\")"
]
},
{
"cell_type": "code",
"execution_count": null,
"metadata": {
"deletable": false,
"editable": false
},
"outputs": [],
"source": [
"grader.check(\"practice_jacobian\")"
]
},
{
"cell_type": "markdown",
"metadata": {
"deletable": false,
"editable": false
},
"source": [
"## Calculate jacobian\n",
"You need to do one of calculate_jacobian_numerically or calculate_jacobian (from matrices). Doing both will win you prizes and acclaim (and extra credit)"
]
},
{
"cell_type": "code",
"execution_count": null,
"metadata": {
"tags": []
},
"outputs": [],
"source": [
"\n",
"# Create the arm geometry\n",
"base_size_param = (1.0, 0.5)\n",
"link_sizes_param = [(0.5, 0.25), (0.3, 0.1), (0.2, 0.05)]\n",
"palm_width_param = 0.1\n",
"finger_size_param = (0.075, 0.025)\n",
"\n",
"arm_geometry = afk.create_arm_geometry(base_size_param, link_sizes_param, palm_width_param, finger_size_param)\n",
"\n",
"# Set some initial angles\n",
"angles_check = [0.0, np.pi/4, 0, [-np.pi/4.0, np.pi/4.0, -np.pi/4.0]]\n",
"afk.set_angles_of_arm_geometry(arm_geometry, angles_check)\n",
"\n",
"# The location to reach for\n",
"target = (0.5, 1.5)"
]
},
{
"cell_type": "code",
"execution_count": null,
"metadata": {
"tags": []
},
"outputs": [],
"source": [
"### Numerical calculation check"
]
},
{
"cell_type": "code",
"execution_count": null,
"metadata": {
"tags": []
},
"outputs": [],
"source": [
"# First check - calculating the jacobian (2 x 4 matrix) calculated numerically\n",
"jacob_numerical = ik_jacobian.calculate_jacobian_numerically(arm_geometry, angles_check)\n",
"exp_jacob = np.array([[-0.9098, -0.4098, -0.1977, -0.0562], [-0.3535, -0.3535, -0.1414, 0.0]])\n",
"if not np.all(np.isclose(jacob_numerical, exp_jacob, atol=0.01)):\n",
"    print(f\"Expected jacob\\n{exp_jacob}, got\\n{jacob}\\n{np.isclose(jacob, exp_jacob, atol=0.01)}\")\n",
"else:\n",
"    print(\"Passed numerical jacob test\")"
]
},
{
"cell_type": "code",
"execution_count": null,
"metadata": {
"tags": []
},
"outputs": [],
"source": [
"### Matrix calculation check"
]
},
{
"cell_type": "code",
"execution_count": null,
"metadata": {
"tags": []
},
"outputs": [],
"source": [
"# Second check (optional) - calculating the jacobian using matrices (2 x 4 matrix)\n",
"jacob_matrix = ik_jacobian.calculate_jacobian(arm_geometry, angles_check)\n",
"if not np.all(np.isclose(jacob_matrix, exp_jacob, atol=0.01)):\n",
"    print(f\"Expected jacob\\n{exp_jacob}, got\\n{jacob}\\n{np.isclose(jacob, exp_jacob, atol=0.01)}\")\n",
"else:\n",
"    print(\"Passed matrix jacob test\")"
]
},
{
"cell_type": "code",
"execution_count": null,
"metadata": {
"deletable": false,
"editable": false
},
"outputs": [],
"source": [
"grader.check(\"jacobian\")"
]
},
{
"cell_type": "markdown",
"metadata": {
"deletable": false,
"editable": false
},
"source": [
"## Do the pseudo inverse\n",
"Do the pseudo inverse (solve_jacobian) to solve for a set of angle changes given a set of x,y changes"
]
},
{
"cell_type": "code",
"execution_count": null,
"metadata": {
"tags": []
},
"outputs": [],
"source": [
"# Third check - pseudo inverse 1 x 5 matrix of angle changes needed to get the desired x,y change\n",
"delta_angles = ik_jacobian.solve_jacobian(np.array(exp_jacob), np.array([0.5, -0.2]))\n",
"exp_delta_angles = np.array([-1.456, 1.819,  0.506, -0.368])\n",
"if not np.all(np.isclose(delta_angles, exp_delta_angles, atol=0.01)):\n",
"    print(f\"Expected delta angles\\n{exp_delta_angles}, got\\n{delta_angles}\")\n",
"else:\n",
"    print(\"Passed solve jacobian test\")"
]
},
{
"cell_type": "code",
"execution_count": null,
"metadata": {
"deletable": false,
"editable": false
},
"outputs": [],
"source": [
"grader.check(\"solve_jacobian\")"
]
},
{
"cell_type": "markdown",
"metadata": {
"deletable": false,
"editable": false
},
"source": [
"## Use the Jacobian to move the gripper closer to the goal\n",
"Edit the code in jacobian_descent (which is very similar to gradient_descent). The checks *should* work with either the numerical or matrix jacobian."
]
},
{
"cell_type": "code",
"execution_count": null,
"metadata": {
"tags": []
},
"outputs": [],
"source": [
"# Main check - do we get out the new angles? Note, this assumes that you haven't changed up the step size\n",
"b_succ, angles_new, count = ik_jacobian.jacobian_follow_path(arm_geometry, angles_check, target, b_one_step=True)\n",
"ang_exp = [-0.0864, 0.8506, 0.01585, [-0.8024, 0, 0]]\n",
"if not len(angles_new) == 4:\n",
"    print(f\"Expected {ang_exp}, got {angles_new}\")\n",
"for a1, a2 in zip(angles_new, ang_exp):\n",
"    if not np.all(np.isclose(a1, a2, atol=0.01)):\n",
"        print(f\"Expected {a1} got {a2}\")\n",
"if not b_succ:\n",
"    print(f\"Expected successful/improvement, got none\")"
]
},
{
"cell_type": "code",
"execution_count": null,
"metadata": {
"tags": []
},
"outputs": [],
"source": [
"b_succ, angles_new, count = ik_jacobian.jacobian_follow_path(arm_geometry, angles_check, target, b_one_step=False)\n",
"afk.set_angles_of_arm_geometry(arm_geometry, angles_new)\n",
"dist = ik_gradient.distance_to_goal(arm_geometry, target)\n",
"if not b_succ:\n",
"    print(f\"Expected successful/improvement, got none\")\n",
"elif not np.isclose(dist, 0.062, atol=0.01):\n",
"    print(f\"Expected distance to be close to 0.063, got {dist}, count {count}\")\n",
"else: \n",
"    print(f\"Passed full solve check, dist {dist:0.2}\")"
]
},
{
"cell_type": "code",
"execution_count": null,
"metadata": {
"tags": []
},
"outputs": [],
"source": [
"# Plot so you can see what it should look like\n",
"fig, axs = plt.subplots(1, 2, figsize=(12, 6))\n",
"\n",
"for i, a in enumerate([angles_check, angles_new]):\n",
"    # Actually get the matrices\n",
"    afk.set_angles_of_arm_geometry(arm_geometry, a)\n",
"    matrices = afk.get_matrices_all_links(arm_geometry)\n",
"    afk.plot_complete_arm(axs[i], arm_geometry, matrices)\n",
"\n",
"    # Plot target too\n",
"    axs[i].plot(target[0], target[1], '+r')\n",
"\n",
"axs[0].set_title(\"Before Jacobian descent\")\n",
"axs[1].set_title(f\"After Jacobian descent count {count} dist {dist:0.2}\")"
]
},
{
"cell_type": "code",
"execution_count": null,
"metadata": {
"deletable": false,
"editable": false
},
"outputs": [],
"source": [
"grader.check(\"jacobian_descent\")"
]
},
{
"cell_type": "markdown",
"metadata": {
"deletable": false,
"editable": false
},
"source": [
"## Hours and collaborators\n",
"Required for every assignment - fill out before you hand-in.\n",
"\n",
"Listing names and websites helps you to document who you worked with and what internet help you received in the case of any plagiarism issues. You should list names of anyone (in class or not) who has substantially helped you with an assignment - or anyone you have *helped*. You do not need to list TAs.\n",
"\n",
"Listing hours helps us track if the assignments are too long."
]
},
{
"cell_type": "code",
"execution_count": null,
"metadata": {
"tags": []
},
"outputs": [],
"source": [
"\n",
"# List of names (creates a set)\n",
"worked_with_names = {\"not filled out\"}\n",
"# List of URLS TCS3 (creates a set)\n",
"websites = {\"not filled out\"}\n",
"# Approximate number of hours, including lab/in-class time\n",
"hours = -1.5"
]
},
{
"cell_type": "code",
"execution_count": null,
"metadata": {
"deletable": false,
"editable": false
},
"outputs": [],
"source": [
"grader.check(\"hours_collaborators\")"
]
},
{
"cell_type": "markdown",
"metadata": {
"deletable": false,
"editable": false
},
"source": [
"## Submission\n",
"\n",
"Make sure you have run all cells in your notebook in order before running the cell below, so that all images/graphs appear in the output. The cell below will generate a zip file for you to submit. **Please save before exporting!**\n",
"\n",
"Submit through gradescope, inverse kinematics. Remember to include arm_forward_kinematics.py, objects_in_world.py, matrix_transforms.py, and both arm_ik_*.py files"
]
},
{
"cell_type": "code",
"execution_count": null,
"metadata": {
"deletable": false,
"editable": false
},
"outputs": [],
"source": [
"# Save your notebook first, then run this cell to export your submission.\n",
"grader.export(run_tests=True)"
]
},
{
"cell_type": "markdown",
"metadata": {},
"source": [
" "
]
}
],
"metadata": {
"kernelspec": {
"display_name": "Python 3",
"language": "python",
"name": "python3"
},
"language_info": {
"codemirror_mode": {
"name": "ipython",
"version": 3
},
"file_extension": ".py",
"mimetype": "text/x-python",
"name": "python",
"nbconvert_exporter": "python",
"pygments_lexer": "ipython3",
"version": "3.7.4"
},
"otter": {
"OK_FORMAT": true,
"tests": {
"gradient_calculation": {
"name": "gradient_calculation",
"points": 4,
"suites": [
{
"cases": [
{
"code": ">>> assert np.isclose(vec[0], 0.8535, atol=0.01) or not np.isclose(vec[1], 0.09019, atol=0.01)\n",
"hidden": false,
"locked": false
},
{
"code": ">>> assert np.isclose(dist_to_arm, 0.858, atol=0.01)\n",
"hidden": false,
"locked": false
},
{
"code": ">>> assert np.all(np.isclose(grad, exp_grad, atol=0.01))\n",
"hidden": false,
"locked": false
}
],
"scored": true,
"setup": "",
"teardown": "",
"type": "doctest"
}
]
},
"gradient_descent": {
"name": "gradient_descent",
"points": 6,
"suites": [
{
"cases": [
{
"code": ">>> from tests_ik_autograder import test_reach_target\n>>> assert test_reach_target(ik_gradient.gradient_descent)\n",
"hidden": false,
"locked": false
}
],
"scored": true,
"setup": "",
"teardown": "",
"type": "doctest"
}
]
},
"hours_collaborators": {
"name": "hours_collaborators",
"points": 1,
"suites": [
{
"cases": [
{
"code": ">>> assert not 'not filled out' in worked_with_names\n",
"hidden": false,
"locked": false
},
{
"code": ">>> assert not 'not filled out' in websites\n",
"hidden": false,
"locked": false
},
{
"code": ">>> assert hours > 0\n",
"hidden": false,
"locked": false
}
],
"scored": true,
"setup": "",
"teardown": "",
"type": "doctest"
}
]
},
"included_all_files": {
"name": "included_all_files",
"points": 1,
"suites": [
{
"cases": [
{
"code": ">>> blank_obj = obj_in_world.make_blank_object()\n",
"hidden": false,
"locked": false
},
{
"code": ">>> scl_matrix = mt.make_scale_matrix(0.1, 0.1)\n",
"hidden": false,
"locked": false
},
{
"code": ">>> obj_wedge = obj_in_world.read_object('Wedge')\n",
"hidden": false,
"locked": false
},
{
"code": ">>> obj_square = obj_in_world.read_object('Square')\n",
"hidden": false,
"locked": false
},
{
"code": ">>> arm_geometry = afk.create_arm_geometry((1.0, 0.5), [(0.5, 0.25), (0.3, 0.1), (0.2, 0.05)], 0.1, (0.075, 0.025))\n",
"hidden": false,
"locked": false
},
{
"code": ">>> vec = ik_gradient.vector_to_goal(arm_geometry, target)\n",
"hidden": false,
"locked": false
},
{
"code": ">>> ang = ik_jacobian.practice_jacobian()\n",
"hidden": false,
"locked": false
}
],
"scored": true,
"setup": "",
"teardown": "",
"type": "doctest"
}
]
},
"jacobian": {
"name": "jacobian",
"points": 3,
"suites": [
{
"cases": [
{
"code": ">>> assert np.all(np.isclose(jacob_numerical, exp_jacob, atol=0.01)) or np.all(np.isclose(jacob_matrix, exp_jacob, atol=0.01))\n",
"hidden": false,
"locked": false
}
],
"scored": true,
"setup": "",
"teardown": "",
"type": "doctest"
}
]
},
"jacobian_descent": {
"name": "jacobian_descent",
"points": 4,
"suites": [
{
"cases": [
{
"code": ">>> from tests_ik_autograder import test_reach_target\n>>> assert test_reach_target(ik_jacobian.jacobian_follow_path)\n",
"hidden": false,
"locked": false
}
],
"scored": true,
"setup": "",
"teardown": "",
"type": "doctest"
}
]
},
"practice_jacobian": {
"name": "practice_jacobian",
"points": 1,
"suites": [
{
"cases": [
{
"code": ">>> assert np.isclose(ang, exp_ang, atol=0.01)\n",
"hidden": false,
"locked": false
}
],
"scored": true,
"setup": "",
"teardown": "",
"type": "doctest"
}
]
},
"solve_jacobian": {
"name": "solve_jacobian",
"points": 2,
"suites": [
{
"cases": [
{
"code": ">>> assert np.all(np.isclose(delta_angles, exp_delta_angles, atol=0.01))\n",
"hidden": false,
"locked": false
}
],
"scored": true,
"setup": "",
"teardown": "",
"type": "doctest"
}
]
}
}
}
},
"nbformat": 4,
"nbformat_minor": 2
}