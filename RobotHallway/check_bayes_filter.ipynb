{
"cells": [
{
"cell_type": "code",
"execution_count": null,
"metadata": {
"deletable": false,
"editable": false
},
"outputs": [],
"source": [
"# Initialize Otter\n",
"import otter\n",
"grader = otter.Notebook(\"check_bayes_filter.ipynb\")"
]
},
{
"cell_type": "markdown",
"metadata": {
"deletable": false,
"editable": false
},
"source": [
"# Bayes filter using bins\n",
"\n",
"This Jupyter notebook file imports (and tests) all of the code needed to do the Bayes' filter assignment. Note that the actual code is in the .py files in this directory.\n",
"\n",
"For each block, go to the corresponding .py file (you can use Jupyter Notebook to edit those files, or whaterver text editor you want) and fill in the missing code. Note that there's some code that you will NOT fill in (yet) - that is for the Kalman/particle filter assignments. \n",
"\n",
"Slides for this assignment: https://docs.google.com/presentation/d/1BClQb3jZRV6kE4TME6tfnjLrWVGh-BKZ0SZ8jdTVuc8/edit?usp=sharing"
]
},
{
"cell_type": "markdown",
"metadata": {
"deletable": false,
"editable": false
},
"source": [
"## Robot ground truth\n",
"This gets all the code in Robot_ground_truth.py. If you change any code in that file then you will need to re-execute this import."
]
},
{
"cell_type": "code",
"execution_count": null,
"metadata": {
"deletable": false,
"editable": false
},
"outputs": [],
"source": [
"import sys; sys.path.insert(0, '.')\n",
"\n",
"# These commands will force JN to actually re-load the external file when you re-execute the import command\n",
"%load_ext autoreload\n",
"%autoreload 2"
]
},
{
"cell_type": "code",
"execution_count": null,
"metadata": {
"deletable": false,
"editable": false
},
"outputs": [],
"source": [
"from robot_ground_truth import RobotGroundTruth, test_discrete_move_functions"
]
},
{
"cell_type": "code",
"execution_count": null,
"metadata": {
"tags": []
},
"outputs": [],
"source": [
"# Syntax check of your code\n",
"robot_gt = RobotGroundTruth()\n",
"robot_gt.set_move_left_probabilities(0.3, 0.5)\n",
"b_all_ok = True\n",
"for _ in range(0, 20):\n",
"    ret_value = robot_gt.move_left(0.1)\n",
"    if ret_value < -0.11:\n",
"        print(f\"Robot ground truth: Failed move left syntax check {ret_value}\")\n",
"        b_all_ok = False\n",
"    if ret_value > 0.11:\n",
"        print(f\"Robot ground truth: Failed move left syntax check {ret_value}\")\n",
"        b_all_ok = False\n",
"if b_all_ok:\n",
"    print(\"Robot ground truth passed check (yay!)\")"
]
},
{
"cell_type": "code",
"execution_count": null,
"metadata": {
"tags": []
},
"outputs": [],
"source": [
"robot_gt.reset_location()\n",
"robot_gt.set_move_right_probabilities(0.2, 0.1)\n",
"b_all_ok = True\n",
"for _ in range(0, 20):\n",
"    ret_value = robot_gt.move_left(0.1)\n",
"    if ret_value < -0.11:\n",
"        print(f\"Robot ground truth: Failed move right syntax check {ret_value}\")\n",
"        b_all_ok = False\n",
"    if ret_value > 0.11:\n",
"        print(f\"Robot ground truth: Failed move right syntax check {ret_value}\")\n",
"        b_all_ok = False\n",
"if b_all_ok:\n",
"    print(\"Robot ground truth passed check (yay!)\")"
]
},
{
"cell_type": "code",
"execution_count": null,
"metadata": {
"tags": []
},
"outputs": [],
"source": [
"print"
]
},
{
"cell_type": "code",
"execution_count": null,
"metadata": {
"tags": []
},
"outputs": [],
"source": [
"# Edit the code in robot_ground_truth.py (the methods tagged with Bayes assignment)\n",
"test_discrete_move_functions()"
]
},
{
"cell_type": "code",
"execution_count": null,
"metadata": {
"deletable": false,
"editable": false
},
"outputs": [],
"source": [
"grader.check(\"robotGT\")"
]
},
{
"cell_type": "markdown",
"metadata": {
"deletable": false,
"editable": false
},
"source": [
"## Robot sensors"
]
},
{
"cell_type": "code",
"execution_count": null,
"metadata": {
"tags": []
},
"outputs": [],
"source": [
"from world_ground_truth import WorldGroundTruth, test_world_ground_truth\n",
"from robot_sensors import RobotSensors, test_discrete_sensors"
]
},
{
"cell_type": "code",
"execution_count": null,
"metadata": {
"tags": []
},
"outputs": [],
"source": [
"# Syntax check  \n",
"robot_gt = RobotGroundTruth()\n",
"world_gt = WorldGroundTruth()\n",
"robot_sensor = RobotSensors()\n",
"\n",
"probs_see_door = (0.7, 0.2)\n",
"robot_sensor.set_door_sensor_probabilites(probs_see_door[0], probs_see_door[1])\n",
"ret_value = robot_sensor.query_door(robot_gt, world_gt)\n",
"if ret_value is True or ret_value is False:\n",
"    print(\"Passed robot sensor syntax check\")"
]
},
{
"cell_type": "code",
"execution_count": null,
"metadata": {
"tags": []
},
"outputs": [],
"source": [
"# No code to edit for this one - just make sure the world works properly before testing the sensors\n",
"test_world_ground_truth()\n",
"\n",
"# Edit the code in robot_sensors.py (the methods tagged with Bayes assignment)\n",
"test_discrete_sensors()"
]
},
{
"cell_type": "code",
"execution_count": null,
"metadata": {
"deletable": false,
"editable": false
},
"outputs": [],
"source": [
"grader.check(\"robot_sensors\")"
]
},
{
"cell_type": "markdown",
"metadata": {
"deletable": false,
"editable": false
},
"source": [
"## Bayes filter\n",
"\n",
"This is the part where you actually *do* the bayes' filter update. There's two parts, the sensor update and the move update. There are separate test methods for each, followed by a call to the method that does both.\n",
"\n",
"Edit the four methods in **bayes_filter.py**\n",
"\n"
]
},
{
"cell_type": "code",
"execution_count": null,
"metadata": {
"deletable": false,
"editable": false
},
"outputs": [],
"source": [
"from bayes_filter import BayesFilter, test_bayes_filter_sensor_update, test_move_one_direction, test_move_update"
]
},
{
"cell_type": "code",
"execution_count": null,
"metadata": {
"tags": []
},
"outputs": [],
"source": [
"# Syntax checks    \n",
"n_doors = 2\n",
"n_bins = 10\n",
"world_ground_truth = WorldGroundTruth()\n",
"world_ground_truth.random_door_placement(n_doors, n_bins)\n",
"robot_sensor = RobotSensors()\n",
"bayes_filter = BayesFilter()\n",
"robot_ground_truth = RobotGroundTruth()\n",
"\n",
"# Syntax check 1, reset probabilities\n",
"bayes_filter.reset_probabilities(n_bins)\n",
"\n",
"# Syntax check 2, update sensor\n",
"bayes_filter.update_belief_sensor_reading(world_ground_truth, robot_sensor, True)\n",
"\n",
"# Syntax check 3, move\n",
"bayes_filter.update_belief_move_left(robot_ground_truth)\n",
"bayes_filter.update_belief_move_right(robot_ground_truth)\n",
"\n",
"# Syntax check 4, full update\n",
"bayes_filter.one_full_update(world_ground_truth, robot_ground_truth, robot_sensor, \"move_left\", True)\n"
]
},
{
"cell_type": "code",
"execution_count": null,
"metadata": {
"tags": []
},
"outputs": [],
"source": [
"# Note: If you are passing these tests but NOT passing the grader check, the problem is (probably) that you are printing out something in your code.\n",
"# If you are passing the first two tests, but not the test_move_update \n",
"#   If the probablities are wrong, it's probably because you're not saving your probabilities OR you haven't filled in one_full_update in Bayes_filter.py\n",
"#   If you're getting a Warning: random number generator is off error, you're calling robot_sensor.query_door_sensor (or robot_ground_truth.move) more \n",
"#     than once and/or calling random() more than once for each of those (or calling the query/move in the one_full_update method)\n",
"#     Also check that you are using numpy.random.uniform, NOT a different package, for generating random numbers\n",
"test_bayes_filter_sensor_update()\n",
"test_move_one_direction()\n",
"test_move_update()"
]
},
{
"cell_type": "code",
"execution_count": null,
"metadata": {
"deletable": false,
"editable": false
},
"outputs": [],
"source": [
"grader.check(\"bayes_filter\")"
]
},
{
"cell_type": "markdown",
"metadata": {
"deletable": false,
"editable": false
},
"source": [
"## Hours and collaborators\n",
"Required for every assignment - fill out before you hand-in.\n",
"\n",
"Listing names and websites helps you to document who you worked with and what internet help you received in the case of any plagiarism issues. You should list names of anyone (in class or not) who has substantially helped you with an assignment - or anyone you have *helped*. You do not need to list TAs.\n",
"\n",
"Listing hours helps us track if the assignments are too long."
]
},
{
"cell_type": "code",
"execution_count": null,
"metadata": {
"tags": []
},
"outputs": [],
"source": [
"\n",
"# List of names (creates a set)\n",
"worked_with_names = {\"not filled out\"}\n",
"# List of URLS TAF24 (creates a set)\n",
"websites = {\"not filled out\"}\n",
"# Approximate number of hours, including lab/in-class time\n",
"hours = -1.5"
]
},
{
"cell_type": "code",
"execution_count": null,
"metadata": {
"deletable": false,
"editable": false
},
"outputs": [],
"source": [
"grader.check(\"hours_collaborators\")"
]
},
{
"cell_type": "markdown",
"metadata": {},
"source": [
"### To submit\n",
"\n",
"- Do a restart then run all to make sure everything runs ok\n",
"- Save the file\n",
"- Submit this .ipynb file and **robot_ground_truth.py**, **robot_sensors.py** and **bayes_filter.py** through gradescope, Homework Bayes filter\n",
"- You do NOT need to submit the data files - we will supply those, along with **world_ground_truth.py**\n",
"- Take out/suppress all print statements that you added (that are not part of the tests)\n",
"\n",
"If the Gradescope autograder fails, please check here first for common reasons for it to fail\n",
"    https://docs.google.com/presentation/d/1tYa5oycUiG4YhXUq5vHvPOpWJ4k_xUPp2rUNIL7Q9RI/edit?usp=sharing\n",
"\n",
"Most likely failure for this assignment is you forgot to include **robot_ground_truth.py** and **bayes_filter.py** and/or you put the file(s) in a folder\n"
]
}
],
"metadata": {
"kernelspec": {
"display_name": "base",
"language": "python",
"name": "python3"
},
"language_info": {
"codemirror_mode": {
"name": "ipython",
"version": 3
},
"file_extension": ".py",
"mimetype": "text/x-python",
"name": "python",
"nbconvert_exporter": "python",
"pygments_lexer": "ipython3",
"version": "3.11.7"
},
"otter": {
"OK_FORMAT": true,
"tests": {
"bayes_filter": {
"name": "bayes_filter",
"points": 15,
"suites": [
{
"cases": [
{
"code": ">>> assert test_bayes_filter_sensor_update(b_print=False)\n",
"hidden": false,
"locked": false
},
{
"code": ">>> assert test_move_one_direction(b_print=False)\n",
"hidden": false,
"locked": false
},
{
"code": ">>> assert test_move_update(b_print=False)\n",
"hidden": false,
"locked": false
}
],
"scored": true,
"setup": "",
"teardown": "",
"type": "doctest"
}
]
},
"hours_collaborators": {
"name": "hours_collaborators",
"points": 1,
"suites": [
{
"cases": [
{
"code": ">>> assert not 'not filled out' in worked_with_names\n",
"hidden": false,
"locked": false
},
{
"code": ">>> assert not 'not filled out' in websites\n",
"hidden": false,
"locked": false
},
{
"code": ">>> assert hours > 0\n",
"hidden": false,
"locked": false
}
],
"scored": true,
"setup": "",
"teardown": "",
"type": "doctest"
}
]
},
"robotGT": {
"name": "robotGT",
"points": 5,
"suites": [
{
"cases": [
{
"code": ">>> assert test_discrete_move_functions(b_print=False)\n",
"hidden": false,
"locked": false
}
],
"scored": true,
"setup": "",
"teardown": "",
"type": "doctest"
}
]
},
"robot_sensors": {
"name": "robot_sensors",
"points": 10,
"suites": [
{
"cases": [
{
"code": ">>> assert test_discrete_sensors(b_print=False)\n",
"hidden": false,
"locked": false
}
],
"scored": true,
"setup": "",
"teardown": "",
"type": "doctest"
}
]
}
}
}
},
"nbformat": 4,
"nbformat_minor": 2
}