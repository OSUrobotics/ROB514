{
"cells": [
{
"cell_type": "code",
"execution_count": null,
"metadata": {
"deletable": false,
"editable": false
},
"outputs": [],
"source": [
"# Initialize Otter\n",
"import otter\n",
"grader = otter.Notebook(\"check_kalman_filter.ipynb\")"
]
},
{
"cell_type": "markdown",
"metadata": {
"deletable": false,
"editable": false
},
"source": [
"# Kalman filter \n",
"\n",
"This Jupyter notebook file imports (and tests) all of the code needed to do the Kalman' filter assignment. Note that the actual code is in the .py files in this directory.\n",
"\n",
"This is where you'll fill in the missing code from the last assignment\n",
"\n",
"Slides for this assignment: https://docs.google.com/presentation/d/1Q6w-vczvWHanGDqbuz6H1qhTOkSrX54kf1g8NgTcipQ/edit?usp=sharing"
]
},
{
"cell_type": "markdown",
"metadata": {
"deletable": false,
"editable": false
},
"source": [
"## Robot ground truth\n",
"This gets all the code in **robot_ground_truth.py**. If you change any code in that file then you will need to re-execute this import."
]
},
{
"cell_type": "code",
"execution_count": null,
"metadata": {
"deletable": false,
"editable": false
},
"outputs": [],
"source": [
"import sys; sys.path.insert(0, '.')\n",
"\n",
"# These commands will force JN to actually re-load the external file when you re-execute the import command\n",
"%load_ext autoreload\n",
"%autoreload 2"
]
},
{
"cell_type": "code",
"execution_count": null,
"metadata": {
"deletable": false,
"editable": false
},
"outputs": [],
"source": [
"from robot_ground_truth import RobotGroundTruth, test_continuous_move_functions"
]
},
{
"cell_type": "code",
"execution_count": null,
"metadata": {
"tags": []
},
"outputs": [],
"source": [
"# Syntax check\n",
"robot_gt = RobotGroundTruth()\n",
"robot_gt.reset_location()\n",
"robot_gt.set_move_continuos_probabilities(sigma=0.01)\n",
"ret_amt_moved = robot_gt.move_continuous(amount=0.0)\n",
"if -0.1 < ret_amt_moved < 0.1:\n",
"    print(f\"Robot ground truth: Passed move continuous syntax check\")"
]
},
{
"cell_type": "code",
"execution_count": null,
"metadata": {
"tags": []
},
"outputs": [],
"source": [
"# Edit the code in robot_ground_truth.py (the methods tagged with Kalman assignment)\n",
"# This checks that you are correctly generating the move continuous function in robot ground truth\n",
"#    If you call robot_gt.move_continous(amount), you should get back amount += some noise, and robot_gt.robot_location should change by amount +- some noise\n",
"#    If this fails, use the above cell to print out a few rounds of calling move continuous with different amounts and check that it is adding a reasonable amount of noise\n",
"test_continuous_move_functions()"
]
},
{
"cell_type": "code",
"execution_count": null,
"metadata": {
"deletable": false,
"editable": false
},
"outputs": [],
"source": [
"grader.check(\"robotGT\")"
]
},
{
"cell_type": "markdown",
"metadata": {
"deletable": false,
"editable": false
},
"source": [
"## Robot sensors"
]
},
{
"cell_type": "code",
"execution_count": null,
"metadata": {
"tags": []
},
"outputs": [],
"source": [
"from robot_sensors import RobotSensors, test_continuous_sensor"
]
},
{
"cell_type": "code",
"execution_count": null,
"metadata": {
"tags": []
},
"outputs": [],
"source": [
"# Syntax check\n",
"robot_gt = RobotGroundTruth()\n",
"robot_sensor = RobotSensors()\n",
"robot_sensor.set_distance_wall_sensor_probabilities(sigma=0.01)\n",
"dist_with_noise = robot_sensor.query_distance_to_wall(robot_gt)\n",
"if 0.0 <= dist_with_noise <= 1.0:\n",
"    print(\"Dist wall sensor, passed syntax test\")"
]
},
{
"cell_type": "code",
"execution_count": null,
"metadata": {
"tags": []
},
"outputs": [],
"source": [
"# Edit the code in robot_sensors.py (the methods tagged with Bayes assignment)\n",
"#  The sensor should be returning the robot_gt.robot_location +- some noise\n",
"#  Again, print out the values you're getting in the previous cell to see if they make sense if this test is failing\n",
"test_continuous_sensor()"
]
},
{
"cell_type": "code",
"execution_count": null,
"metadata": {
"deletable": false,
"editable": false
},
"outputs": [],
"source": [
"grader.check(\"robot_sensors\")"
]
},
{
"cell_type": "markdown",
"metadata": {
"deletable": false,
"editable": false
},
"source": [
"## Kalman filter\n",
"\n",
"This is the part where you actually *do* the kalman filter update. There's two parts, the sensor update and the move update. The test file runs a sensor, then a move, then a sequence of sensor, sequence of move, then a mix.\n",
"\n",
"The first cell just checks that you are calling all the functions correctly. You are free to edit it to print out the values at each step so you can debug each step in turn. If the entire test is failing, put in values into the methods and check that they \"make sense\""
]
},
{
"cell_type": "code",
"execution_count": null,
"metadata": {
"deletable": false,
"editable": false
},
"outputs": [],
"source": [
"from kalman_filter import KalmanFilter, test_kalman_update"
]
},
{
"cell_type": "code",
"execution_count": null,
"metadata": {
"tags": []
},
"outputs": [],
"source": [
"# Syntax checks\n",
"kalman_filter = KalmanFilter()\n",
"robot_ground_truth = RobotGroundTruth()\n",
"robot_sensor = RobotSensors()\n",
"\n",
"# Set mu/sigmas for sensor and movement\n",
"sensor_noise = {\"mu\": 0.0, \"sigma\": 0.1}\n",
"move_error = {\"mu\": 0.0, \"sigma\": 0.05}\n",
"robot_ground_truth.set_move_continuos_probabilities(move_error[\"sigma\"])     # This is the R of the action (Ax + Bu + R)...\n",
"robot_sensor.set_distance_wall_sensor_probabilities(sensor_noise[\"sigma\"])   # This is also your Q value in the Kalman update...\n",
"\n",
"print(f\"Robot location {robot_ground_truth.robot_loc}\")\n",
"# Actually get out a distance reading from the robot sensor. Should return 0.5 +- some noise\n",
"dist_reading = robot_sensor.query_distance_to_wall(robot_gt=robot_ground_truth)\n",
"# Actually move the robot\n",
"robot_ground_truth.move_continuous(amount=-0.1)\n",
"# Should be 0.4 +- some noise\n",
"print(f\"New robot location after move {robot_ground_truth.robot_loc}\")\n",
"\n",
"# The two kalman filter update methods. You can put in whatever values you want to test\n",
"kalman_filter.update_belief_distance_sensor(robot_sensor, dist_reading=0.1)\n",
"kalman_filter.update_continuous_move(robot_ground_truth, amount=0.0)\n",
"\n",
"# Example print statement \n",
"print(f\"mu is: {kalman_filter.mu}, sigma is {kalman_filter.sigma}\")"
]
},
{
"cell_type": "code",
"execution_count": null,
"metadata": {
"tags": []
},
"outputs": [],
"source": [
"# If this is failing, debug each step (Ax + Bu + noise) and (x = Cz) in turn by putting values in the calls in the previous cell\n",
"test_kalman_update()"
]
},
{
"cell_type": "code",
"execution_count": null,
"metadata": {
"deletable": false,
"editable": false
},
"outputs": [],
"source": [
"grader.check(\"kalman_filter\")"
]
},
{
"cell_type": "markdown",
"metadata": {
"deletable": false,
"editable": false
},
"source": [
"## Hours and collaborators\n",
"Required for every assignment - fill out before you hand-in.\n",
"\n",
"Listing names and websites helps you to document who you worked with and what internet help you received in the case of any plagiarism issues. You should list names of anyone (in class or not) who has substantially helped you with an assignment - or anyone you have *helped*. You do not need to list TAs.\n",
"\n",
"Listing hours helps us track if the assignments are too long."
]
},
{
"cell_type": "code",
"execution_count": null,
"metadata": {
"tags": []
},
"outputs": [],
"source": [
"\n",
"# List of names (creates a set)\n",
"worked_with_names = {\"not filled out\"}\n",
"# List of URLS TAF24 (creates a set)\n",
"websites = {\"not filled out\"}\n",
"# Approximate number of hours, including lab/in-class time\n",
"hours = -1.5"
]
},
{
"cell_type": "code",
"execution_count": null,
"metadata": {
"deletable": false,
"editable": false
},
"outputs": [],
"source": [
"grader.check(\"hours_collaborators\")"
]
},
{
"cell_type": "markdown",
"metadata": {},
"source": [
"### To submit\n",
"\n",
"- Do a restart then run all to make sure everything runs ok\n",
"- Save the file\n",
"- Submit this .ipynb file and **robot_sensors.py** and **robot_ground_truth.py** and **kalman_filter.py** through gradescope, Homework Kalman filter\n",
"- You do NOT need to submit the data files - we will supply those\n",
"- Take out/suppress all print statements\n",
"\n",
"If the Gradescope autograder fails, please check here first for common reasons for it to fail\n",
"    https://docs.google.com/presentation/d/1tYa5oycUiG4YhXUq5vHvPOpWJ4k_xUPp2rUNIL7Q9RI/edit?usp=sharing\n",
"\n",
"Most likely failure for this assignment is not naming the data directory and files correctly; capitalization matters for the Gradescope grader. \n",
"\n",
"Second reason for failure is you forgot to include the **.py** files and/or you put the file(s) in a folder\n"
]
}
],
"metadata": {
"kernelspec": {
"display_name": "Python 3",
"language": "python",
"name": "python3"
},
"language_info": {
"codemirror_mode": {
"name": "ipython",
"version": 3
},
"file_extension": ".py",
"mimetype": "text/x-python",
"name": "python",
"nbconvert_exporter": "python",
"pygments_lexer": "ipython3",
"version": "3.11.7"
},
"otter": {
"OK_FORMAT": true,
"tests": {
"hours_collaborators": {
"name": "hours_collaborators",
"points": 1,
"suites": [
{
"cases": [
{
"code": ">>> assert not 'not filled out' in worked_with_names\n",
"hidden": false,
"locked": false
},
{
"code": ">>> assert not 'not filled out' in websites\n",
"hidden": false,
"locked": false
},
{
"code": ">>> assert hours > 0\n",
"hidden": false,
"locked": false
}
],
"scored": true,
"setup": "",
"teardown": "",
"type": "doctest"
}
]
},
"kalman_filter": {
"name": "kalman_filter",
"points": 15,
"suites": [
{
"cases": [
{
"code": ">>> assert test_kalman_update(b_print=False)\n",
"hidden": false,
"locked": false
}
],
"scored": true,
"setup": "",
"teardown": "",
"type": "doctest"
}
]
},
"robotGT": {
"name": "robotGT",
"points": 5,
"suites": [
{
"cases": [
{
"code": ">>> assert test_continuous_move_functions(b_print=False)\n",
"hidden": false,
"locked": false
}
],
"scored": true,
"setup": "",
"teardown": "",
"type": "doctest"
}
]
},
"robot_sensors": {
"name": "robot_sensors",
"points": 10,
"suites": [
{
"cases": [
{
"code": ">>> assert test_continuous_sensor(b_print=False)\n",
"hidden": false,
"locked": false
}
],
"scored": true,
"setup": "",
"teardown": "",
"type": "doctest"
}
]
}
}
}
},
"nbformat": 4,
"nbformat_minor": 2
}