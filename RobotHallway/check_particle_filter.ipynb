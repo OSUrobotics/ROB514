{
"cells": [
{
"cell_type": "code",
"execution_count": null,
"metadata": {
"deletable": false,
"editable": false
},
"outputs": [],
"source": [
"# Initialize Otter\n",
"import otter\n",
"grader = otter.Notebook(\"check_particle_filter.ipynb\")"
]
},
{
"cell_type": "markdown",
"metadata": {},
"source": [
"# Particle filter \n",
"\n",
"This Jupyter notebook file imports (and tests) all of the code needed to do the particle filter assignment. Note that the actual code is in the .py files in this directory.\n",
"\n",
"You should only have to edit particle_filter.py - you did all the \"simulator\" code in the previous two assignments.\n",
"\n",
"Note that, although we use both sensors in this assignment, we'll only use one at a time, and update the particle distribution (importance sampling) before calling a calculate_weights method again.\n",
"\n",
"Slides for this assignment: https://docs.google.com/presentation/d/1GVCAWUSUhJiHP6VBi-HusDyZmunQG1mnVlopLhtRGLs/edit?usp=sharing"
]
},
{
"cell_type": "code",
"execution_count": null,
"metadata": {},
"outputs": [],
"source": [
"import sys; sys.path.insert(0, '.')\n",
"import numpy as np\n",
"import matplotlib.pyplot as plt\n",
"\n",
"# These commands will force JN to actually re-load the external file when you re-execute the import command\n",
"%load_ext autoreload\n",
"%autoreload 2"
]
},
{
"cell_type": "code",
"execution_count": null,
"metadata": {
"deletable": false,
"editable": false
},
"outputs": [],
"source": [
"from particle_filter import ParticleFilter, test_particle_filter_syntax\n",
"from world_ground_truth import WorldGroundTruth\n",
"from robot_sensors import RobotSensors\n",
"from robot_ground_truth import RobotGroundTruth"
]
},
{
"cell_type": "code",
"execution_count": null,
"metadata": {
"tags": []
},
"outputs": [],
"source": [
"# Declare variables\n",
"n_doors = 2\n",
"n_bins = 10\n",
"n_samples = 100\n",
"world_ground_truth = WorldGroundTruth()\n",
"world_ground_truth.random_door_placement(n_doors, n_bins)\n",
"robot_ground_truth = RobotGroundTruth()\n",
"robot_sensor = RobotSensors()\n",
"particle_filter = ParticleFilter()"
]
},
{
"cell_type": "code",
"execution_count": null,
"metadata": {
"tags": []
},
"outputs": [],
"source": [
"# Syntax check 1, reset probabilities\n",
"particle_filter.reset_particles(n_samples)"
]
},
{
"cell_type": "code",
"execution_count": null,
"metadata": {
"tags": []
},
"outputs": [],
"source": [
"# Syntax check 2, update move\n",
"particle_filter.update_particles_move_continuous(robot_ground_truth, 0.1)"
]
},
{
"cell_type": "code",
"execution_count": null,
"metadata": {
"tags": []
},
"outputs": [],
"source": [
"# Syntax checks 3 and 4 - the two different sensor readings\n",
"particle_filter.calculate_weights_door_sensor_reading(world_ground_truth, robot_sensor, True)\n",
"if np.isclose(np.max(particle_filter.weights), np.min(particle_filter.weights)):\n",
"    print(f\"Possible error: The weights should not all be the same\")\n",
"\n",
"particle_filter.reset_particles(n_samples)\n",
"particle_filter.calculate_weights_distance_wall(robot_sensor, 0.1)\n",
"if np.isclose(np.max(particle_filter.weights), np.min(particle_filter.weights)):\n",
"    print(f\"Possible error: The weights should not all be the same\")"
]
},
{
"cell_type": "code",
"execution_count": null,
"metadata": {
"tags": []
},
"outputs": [],
"source": [
"# Syntax check 5 - importance sampling\n",
"particle_filter.resample_particles()\n",
"if not np.isclose(np.max(particle_filter.weights), np.min(particle_filter.weights)):\n",
"    print(f\"Possible error: The weights should be set back to all the same\")\n",
"if np.unique(particle_filter.particles, return_counts=True) == n_samples:\n",
"    print(f\"Possible error: There probably should be duplicate particles {np.unique(particle_filter.particles, return_counts=True)} {n_samples}\")"
]
},
{
"cell_type": "code",
"execution_count": null,
"metadata": {
"tags": []
},
"outputs": [],
"source": [
"# Syntax checks 6 and 7 - the two full updates\n",
"particle_filter.one_full_update_door(world_ground_truth, robot_ground_truth, robot_sensor, u=0.1, z=True)\n",
"particle_filter.one_full_update_distance(robot_ground_truth, robot_sensor, u=0.1, z=0.6)"
]
},
{
"cell_type": "code",
"execution_count": null,
"metadata": {
"tags": []
},
"outputs": [],
"source": [
"test_particle_filter_syntax(b_print=True)"
]
},
{
"cell_type": "code",
"execution_count": null,
"metadata": {
"deletable": false,
"editable": false
},
"outputs": [],
"source": [
"grader.check(\"syntax_check\")"
]
},
{
"cell_type": "markdown",
"metadata": {
"deletable": false,
"editable": false
},
"source": [
"<!-- BEGIN QUESTION -->\n",
"\n",
"## Door sensor\n",
"Did you calculate the door sensor correctly?\n",
"\n",
"Tall particles in door if sensor is True, otherwise, short particles in doors."
]
},
{
"cell_type": "code",
"execution_count": null,
"metadata": {
"tags": []
},
"outputs": [],
"source": [
"fig, axs = plt.subplots(1, 2, figsize=(16, 4))\n",
"\n",
"n_doors = 2\n",
"n_bins = 10\n",
"n_particles = 100\n",
"np.random.seed(2)\n",
"\n",
"# Initialize with values that are NOT the default ones\n",
"world_ground_truth.random_door_placement(n_doors, n_bins)\n",
"\n",
"# Two cases - sensor returned True or False\n",
"axs[0].set_title(\"Sensor True\")\n",
"particle_filter.reset_particles(n_particles)\n",
"particle_filter.calculate_weights_door_sensor_reading(world_ground_truth, robot_sensor, True)\n",
"particle_filter.plot_particles_with_weights(axs[0], world_ground_truth, robot_ground_truth)\n",
"axs[0].axis('equal')\n",
"\n",
"axs[1].set_title(\"Sensor False\")\n",
"particle_filter.reset_particles(n_particles)\n",
"particle_filter.calculate_weights_door_sensor_reading(world_ground_truth, robot_sensor, False)\n",
"particle_filter.plot_particles_with_weights(axs[1], world_ground_truth, robot_ground_truth)\n",
"axs[1].axis('equal')\n"
]
},
{
"cell_type": "markdown",
"metadata": {
"deletable": false,
"editable": false
},
"source": [
"<!-- END QUESTION -->\n",
"\n",
"<!-- BEGIN QUESTION -->\n",
"\n",
"## Distance sensor - is your distance sensor setting correct values?\n",
"Should show a Gaussian centered at the distance input"
]
},
{
"cell_type": "code",
"execution_count": null,
"metadata": {
"tags": []
},
"outputs": [],
"source": [
"fig, axs = plt.subplots(1, 2, figsize=(16, 4))\n",
"\n",
"# Two cases - sensor returned 0.25 or 0.6\n",
"axs[0].set_title(\"0.25 off left wall\")\n",
"robot_ground_truth.robot_loc = 0.25\n",
"particle_filter.reset_particles(n_particles)\n",
"particle_filter.calculate_weights_distance_wall(robot_sensor, 0.25)\n",
"particle_filter.plot_particles_with_weights(axs[0], world_ground_truth, robot_ground_truth)\n",
"axs[0].axis('equal')\n",
"\n",
"axs[1].set_title(\"0.6 location\")\n",
"robot_ground_truth.robot_loc = 0.6\n",
"particle_filter.reset_particles(n_particles)\n",
"particle_filter.calculate_weights_distance_wall(robot_sensor, 0.6)\n",
"particle_filter.plot_particles_with_weights(axs[1], world_ground_truth, robot_ground_truth)\n",
"axs[1].axis('equal')"
]
},
{
"cell_type": "markdown",
"metadata": {
"deletable": false,
"editable": false
},
"source": [
"<!-- END QUESTION -->\n",
"\n",
"<!-- BEGIN QUESTION -->\n",
"\n",
"## Importance weighting/resampling\n",
"Do you resample the particles correctly? More particles in \"bump\""
]
},
{
"cell_type": "code",
"execution_count": null,
"metadata": {
"tags": []
},
"outputs": [],
"source": [
"fig, axs = plt.subplots(1, 2, figsize=(16, 4))\n",
"\n",
"n_particles = 50\n",
"# Sensor reading first, to calculate weights\n",
"axs[0].set_title(\"0.25 off left wall\")\n",
"robot_ground_truth.robot_loc = 0.25\n",
"particle_filter.reset_particles(n_particles)\n",
"particle_filter.calculate_weights_distance_wall(robot_sensor, 0.25)\n",
"particle_filter.plot_particles_with_weights(axs[0], world_ground_truth, robot_ground_truth)\n",
"axs[0].axis('equal')\n",
"\n",
"# Now resample\n",
"axs[1].set_title(\"Resampled\")\n",
"particle_filter.resample_particles()\n",
"particle_filter.plot_particles_with_weights(axs[1], world_ground_truth, robot_ground_truth)\n",
"axs[1].axis('equal')"
]
},
{
"cell_type": "markdown",
"metadata": {
"deletable": false,
"editable": false
},
"source": [
"<!-- END QUESTION -->\n",
"\n",
"<!-- BEGIN QUESTION -->\n",
"\n",
"## Robot moves\n",
"Do the particles shift? All should pile up on the left (or right) side, depending on the move direction.\n",
"Also should spread out over time"
]
},
{
"cell_type": "code",
"execution_count": null,
"metadata": {
"tags": []
},
"outputs": [],
"source": [
"fig, axs = plt.subplots(1, 4, figsize=(24, 4))\n",
"\n",
"n_particles = 75\n",
"\n",
"# Move to the left\n",
"axs[0].set_title(\"Move left\")\n",
"robot_ground_truth.robot_loc = 0.4\n",
"particle_filter.reset_particles(n_particles)\n",
"particle_filter.update_particles_move_continuous(robot_ground_truth, -0.1)\n",
"particle_filter.plot_particles_with_weights(axs[0], world_ground_truth, robot_ground_truth)\n",
"axs[0].axis('equal')\n",
"\n",
"axs[1].set_title(\"Move right\")\n",
"robot_ground_truth.robot_loc = 0.6\n",
"particle_filter.reset_particles(n_particles)\n",
"particle_filter.update_particles_move_continuous(robot_ground_truth, 0.1)\n",
"particle_filter.plot_particles_with_weights(axs[1], world_ground_truth, robot_ground_truth)\n",
"axs[1].axis('equal')\n",
"\n",
"axs[2].set_title(\"Door reading\")\n",
"robot_ground_truth.robot_loc = 0.5\n",
"particle_filter.reset_particles(n_particles)\n",
"# Pile up particles in front of doors\n",
"for _ in range(0, 2):\n",
"    particle_filter.calculate_weights_door_sensor_reading(world_ground_truth, robot_sensor, True)\n",
"    particle_filter.resample_particles()\n",
"particle_filter.plot_particles_with_weights(axs[2], world_ground_truth, robot_ground_truth)\n",
"axs[2].axis('equal')\n",
"\n",
"# \"Don't\" move for 2 iterations - but should still spread particles out\n",
"axs[3].set_title(\"Spread out\")\n",
"for _ in range(0, 2):\n",
"    particle_filter.update_particles_move_continuous(robot_ground_truth, 0.0)\n",
"    \n",
"particle_filter.plot_particles_with_weights(axs[3], world_ground_truth, robot_ground_truth)\n",
"axs[3].axis('equal')\n"
]
},
{
"cell_type": "markdown",
"metadata": {
"deletable": false,
"editable": false
},
"source": [
"<!-- END QUESTION -->\n",
"\n",
"## Do one full loop\n",
"Do a move, sensor loop a few times"
]
},
{
"cell_type": "code",
"execution_count": null,
"metadata": {
"tags": []
},
"outputs": [],
"source": [
"fig, axs = plt.subplots(1, 4, figsize=(24, 4))\n",
"\n",
"n_particles = 75\n",
"\n",
"# Moves followed by door, then distance, then door, then distance reading\n",
"moves = [-0.1, -0.05, 0.1, 0.0]\n",
"\n",
"particle_filter.reset_particles(n_particles)\n",
"robot_ground_truth.robot_loc = 0.5\n",
"\n",
"np.random.seed(3)\n",
"\n",
"for i, u in enumerate(moves):\n",
"    robot_ground_truth.move_continuous(u)\n",
"    if i % 2:\n",
"        saw_door = robot_sensor.query_door(robot_ground_truth, world_ground_truth)\n",
"        particle_filter.one_full_update_door(world_ground_truth, robot_ground_truth, robot_sensor, u, saw_door)\n",
"        axs[i].set_title(f\"Move {u}, door {saw_door}\")\n",
"    else:\n",
"        dist = robot_sensor.query_distance_to_wall(robot_ground_truth)\n",
"        particle_filter.one_full_update_distance(robot_ground_truth, robot_sensor, u, dist)\n",
"        axs[i].set_title(f\"Move {u}, distance {dist:0.2f}\")\n",
"    \n",
"    axs[i].axis('equal')\n",
"    particle_filter.plot_particles_with_weights(axs[i], world_ground_truth, robot_ground_truth)\n"
]
},
{
"cell_type": "markdown",
"metadata": {
"deletable": false,
"editable": false
},
"source": [
"## Hours and collaborators\n",
"Required for every assignment - fill out before you hand-in.\n",
"\n",
"Listing names and websites helps you to document who you worked with and what internet help you received in the case of any plagiarism issues. You should list names of anyone (in class or not) who has substantially helped you with an assignment - or anyone you have *helped*. You do not need to list TAs.\n",
"\n",
"Listing hours helps us track if the assignments are too long."
]
},
{
"cell_type": "code",
"execution_count": null,
"metadata": {
"tags": []
},
"outputs": [],
"source": [
"\n",
"# List of names (creates a set)\n",
"worked_with_names = {\"not filled out\"}\n",
"# List of URLS TAF24 (creates a set)\n",
"websites = {\"not filled out\"}\n",
"# Approximate number of hours, including lab/in-class time\n",
"hours = -1.5"
]
},
{
"cell_type": "code",
"execution_count": null,
"metadata": {
"deletable": false,
"editable": false
},
"outputs": [],
"source": [
"grader.check(\"hours_collaborators\")"
]
},
{
"cell_type": "markdown",
"metadata": {},
"source": [
"### To submit\n",
"\n",
"- Do a restart then run all to make sure everything runs ok\n",
"- Save the file\n",
"- Submit this .ipynb file and **robot_sensors.py** and **robot_ground_truth.py** and **particle_filter.py** through gradescope, Homework Particle filter\n",
"- You do NOT need to submit the data files - we will supply those\n",
"- Take out/suppress all print statements that are not part of the tests\n",
"\n",
"If the Gradescope autograder fails, please check here first for common reasons for it to fail\n",
"    https://docs.google.com/presentation/d/1tYa5oycUiG4YhXUq5vHvPOpWJ4k_xUPp2rUNIL7Q9RI/edit?usp=sharing\n",
"\n",
"Most likely failure for this assignment is not naming the data directory and files correctly; capitalization matters for the Gradescope grader. \n",
"\n",
"Second reason for failure is you forgot to include the **.py** files and/or you put the file(s) in a folder\n",
"\n",
"Sometimes it's just that the random numbers don't quite work out; if it seems like that's the case, add a note below\n"
]
}
],
"metadata": {
"kernelspec": {
"display_name": "Python 3",
"language": "python",
"name": "python3"
},
"language_info": {
"codemirror_mode": {
"name": "ipython",
"version": 3
},
"file_extension": ".py",
"mimetype": "text/x-python",
"name": "python",
"nbconvert_exporter": "python",
"pygments_lexer": "ipython3",
"version": "3.11.7"
},
"otter": {
"OK_FORMAT": true,
"tests": {
"hours_collaborators": {
"name": "hours_collaborators",
"points": 1,
"suites": [
{
"cases": [
{
"code": ">>> assert not 'not filled out' in worked_with_names\n",
"hidden": false,
"locked": false
},
{
"code": ">>> assert not 'not filled out' in websites\n",
"hidden": false,
"locked": false
},
{
"code": ">>> assert hours > 0\n",
"hidden": false,
"locked": false
}
],
"scored": true,
"setup": "",
"teardown": "",
"type": "doctest"
}
]
},
"syntax_check": {
"name": "syntax_check",
"points": 4,
"suites": [
{
"cases": [
{
"code": ">>> assert test_particle_filter_syntax(b_print=False)\n",
"hidden": false,
"locked": false
}
],
"scored": true,
"setup": "",
"teardown": "",
"type": "doctest"
}
]
}
}
}
},
"nbformat": 4,
"nbformat_minor": 2
}