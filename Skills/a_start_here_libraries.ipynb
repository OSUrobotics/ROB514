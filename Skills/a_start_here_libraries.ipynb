{
"cells": [
{
"cell_type": "code",
"execution_count": null,
"metadata": {
"deletable": false,
"editable": false
},
"outputs": [],
"source": [
"# Initialize Otter\n",
"import otter\n",
"grader = otter.Notebook(\"a_start_here_libraries.ipynb\")"
]
},
{
"cell_type": "markdown",
"metadata": {},
"source": [
"## Ensuring the libararies are installed correctly\n",
"\n",
"Use this JN to check that all your libraries are installed correctly, and to install any that are not.\n",
"\n",
"First thing to note: See the \"Select Kernel\" in the upper-right hand corner? This needs to be set to the Python version you setup in the instructions:\n",
"\n",
"https://docs.google.com/document/d/1Cp4uuRHMWHfKTAbYAV14y2tMWslmj_-bv_xo3CxYGAo/edit?usp=sharing\n",
"\n",
"Presumably, if you are reading this, than you have already set up VSCode and done the library installs in the above document. \n",
"\n",
"Note: If you are using this file to \"fix\" library problems, first make sure that whatever you've selected in \"Select Kernel\" is the same for both JNs. \n"
]
},
{
"cell_type": "code",
"execution_count": null,
"metadata": {},
"outputs": [],
"source": [
"# These are all the imports you'll need in the class; if you get a \"library not found\" then see the following cells for installing them\n",
"\n",
"# Note: You may get a pop-up that says \"ipykernel needed, install y/n\". Say yes. That's the library that lets you run cells in a JN.\n",
"#  For Mac users with Apple silicon: That install will likely Fail - you will need to follow the instructions to over-ride the\n",
"#    system checks (at least as-of spring 2025). Go back to the install doc (above) and follow the instructions for how to do that.\n",
"#  If you've already done it, then chances are that when you did Select Kernel you did not pick the same kernel as the one you\n",
"#    did the homebrew install with. Double check that they are the same by typing \"python3 --version\" into a terminal - that one\n",
"#    should be the same as the one you picked for Select Kernel\n",
"import otter\n",
"import numpy\n",
"import matplotlib\n",
"import scipy\n",
"import json"
]
},
{
"cell_type": "markdown",
"metadata": {},
"source": [
"If all of the above imports worked, then you're done! If not, you can use the following cell to force-install the missing libraries\n",
"\n",
"This may take awhile, btw"
]
},
{
"cell_type": "code",
"execution_count": null,
"metadata": {},
"outputs": [],
"source": [
"import sys\n",
"!{sys.executable} -m pip install otter-grader\n",
"!{sys.executable} -m pip install numpy\n",
"!{sys.executable} -m pip install matplotlib\n",
"!{sys.executable} -m pip install scipy\n",
"!{sys.executable} -m pip install json"
]
},
{
"cell_type": "markdown",
"metadata": {
"deletable": false,
"editable": false
},
"source": [
"## Submission\n",
"\n",
"Make sure you have run all cells in your notebook in order before running the cell below, so that all images/graphs appear in the output. The cell below will generate a zip file for you to submit. **Please save before exporting!**"
]
},
{
"cell_type": "code",
"execution_count": null,
"metadata": {
"deletable": false,
"editable": false
},
"outputs": [],
"source": [
"# Save your notebook first, then run this cell to export your submission.\n",
"grader.export(run_tests=True)"
]
},
{
"cell_type": "markdown",
"metadata": {},
"source": [
" "
]
}
],
"metadata": {
"kernelspec": {
"display_name": "base",
"language": "python",
"name": "python3"
},
"language_info": {
"codemirror_mode": {
"name": "ipython",
"version": 3
},
"file_extension": ".py",
"mimetype": "text/x-python",
"name": "python",
"nbconvert_exporter": "python",
"pygments_lexer": "ipython3",
"version": "3.11.7"
},
"otter": {
"OK_FORMAT": true,
"tests": {}
}
},
"nbformat": 4,
"nbformat_minor": 2
}