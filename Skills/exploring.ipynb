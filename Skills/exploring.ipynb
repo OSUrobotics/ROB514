{
"cells": [
{
"cell_type": "code",
"execution_count": null,
"metadata": {
"deletable": false,
"editable": false
},
"outputs": [],
"source": [
"# Initialize Otter\n",
"import otter\n",
"grader = otter.Notebook(\"exploring.ipynb\")"
]
},
{
"cell_type": "markdown",
"metadata": {},
"source": [
"# Instructions\n",
"\n",
"This assignment lets you both define a strategy for picking the next point to explore and determine how you want to chop up a full path into way points. You'll need **path_planning.py** and **exploring.py** as well (for calculating the paths)\n",
"\n",
"Note that there isn't a \"right\" answer for either of these. This is (mostly) a light-weight way to check your code for obvious problems before trying it in ROS. It's set up to make it easy to download a map and try some robot starting/ending points\n",
"\n",
"Given to you:\n",
"- Image handling\n",
"- plotting\n",
"- Some structure for keeping/changing waypoints and converting to/from the map to the robot's coordinate space\n",
"\n",
"Slides: https://docs.google.com/presentation/d/1tOUGoNDbzQeuzRwG-kJ-ipqDsCy3ABkIvNEdFmozRT8/edit?usp=sharing\n"
]
},
{
"cell_type": "code",
"execution_count": null,
"metadata": {},
"outputs": [],
"source": [
"# The ever-present numpy and matplot lib\n",
"import numpy as np\n",
"\n",
"# Our priority queue\n",
"import heapq\n",
"\n",
"# Using imageio to read in the image\n",
"import imageio\n",
"\n",
"# Reading in map meta data\n",
"import yaml"
]
},
{
"cell_type": "code",
"execution_count": null,
"metadata": {},
"outputs": [],
"source": [
"import sys; \n",
"sys.path.insert(0, '.')\n",
"\n",
"# These commands will force JN to actually re-load the external file when you re-execute the import command\n",
"%load_ext autoreload\n",
"%autoreload 2"
]
},
{
"cell_type": "markdown",
"metadata": {
"deletable": false,
"editable": false
},
"source": [
"<!-- BEGIN QUESTION -->\n",
"\n",
"# Run exploring a SLAM map\n",
"\n"
]
},
{
"cell_type": "code",
"execution_count": null,
"metadata": {
"tags": []
},
"outputs": [],
"source": [
"from path_planning import convert_image, dijkstra, open_image, plot_with_path\n",
"from exploring import find_all_possible_goals, find_best_point, plot_with_explore_points, find_waypoints"
]
},
{
"cell_type": "code",
"execution_count": null,
"metadata": {
"tags": []
},
"outputs": [],
"source": [
"# You can use map or initial\n",
"im, im_thresh = open_image(\"map.pgm\")\n",
"\n",
"# Split into two pieces - find all of the points that are adjacent to an unknown area and a visible area\n",
"#    Then pick the best one\n",
"all_unseen = find_all_possible_goals(im_thresh)\n",
"\n",
"robot_start_loc = (1940, 1953)\n",
"best_unseen = find_best_point(im_thresh, all_unseen, robot_loc=robot_start_loc)\n",
"\n",
"# Note: This can be a little slow (it's drawing a lot of little points)\n",
"plot_with_explore_points(im_thresh, zoom=0.1, robot_loc=robot_start_loc, explore_points=all_unseen, best_pt=best_unseen)"
]
},
{
"cell_type": "markdown",
"metadata": {
"deletable": false,
"editable": false
},
"source": [
"<!-- END QUESTION -->\n",
"\n",
"<!-- BEGIN QUESTION -->\n",
"\n",
"# Run waypoint generation on a pretend SLAM map\n",
"Note: This code assumes you have the previous problem completed"
]
},
{
"cell_type": "code",
"execution_count": null,
"metadata": {
"tags": []
},
"outputs": [],
"source": [
"path = dijkstra(im_thresh, robot_start_loc, best_unseen)\n",
"waypoints = find_waypoints(im_thresh, path)\n",
"plot_with_path(im, im_thresh, zoom=0.1, robot_loc=robot_start_loc, goal_loc=best_unseen, path=waypoints)\n",
"print(f\"Waypoints has {len(waypoints)} points of {len(path)}\")"
]
},
{
"cell_type": "markdown",
"metadata": {
"deletable": false,
"editable": false
},
"source": [
"<!-- END QUESTION -->\n",
"\n",
"## Hours and collaborators\n",
"Required for every assignment - fill out before you hand-in.\n",
"\n",
"Listing names and websites helps you to document who you worked with and what internet help you received in the case of any plagiarism issues. You should list names of anyone (in class or not) who has substantially helped you with an assignment - or anyone you have *helped*. You do not need to list TAs.\n",
"\n",
"Listing hours helps us track if the assignments are too long."
]
},
{
"cell_type": "code",
"execution_count": null,
"metadata": {
"tags": []
},
"outputs": [],
"source": [
"\n",
"# List of names (creates a set)\n",
"worked_with_names = {\"not filled out\"}\n",
"# List of URLS TAF24 (creates a set)\n",
"websites = {\"not filled out\"}\n",
"# Approximate number of hours, including lab/in-class time\n",
"hours = -1.5"
]
},
{
"cell_type": "code",
"execution_count": null,
"metadata": {
"deletable": false,
"editable": false
},
"outputs": [],
"source": [
"grader.check(\"hours_collaborators\")"
]
},
{
"cell_type": "markdown",
"metadata": {},
"source": [
"### To submit\n",
"\n",
"- Do a restart then run all to make sure everything runs ok\n",
"- Save the file\n",
"- Submit this .ipynb file and **path_planning.py** and **exploring.py** through gradescope, Lab 4: Explore\n",
"- You do NOT need to submit the data files - we will supply those\n",
"- Take out/suppress all print statements\n",
"\n",
"If the Gradescope autograder fails, please check here first for common reasons for it to fail\n",
"    https://docs.google.com/presentation/d/1tYa5oycUiG4YhXUq5vHvPOpWJ4k_xUPp2rUNIL7Q9RI/edit?usp=sharing\n",
"\n",
"Most likely failure for this assignment is not naming the data directory and files correctly; capitalization matters for the Gradescope grader. \n",
"\n",
"Second most likely failure is because your code ran very, very slowly and the autograder timed out.\n",
"\n",
"Third reason for failure is you forgot to include **path_planning.py** and **exploring.py** and/or you put the file(s) in a folder"
]
}
],
"metadata": {
"kernelspec": {
"display_name": "Python 3",
"language": "python",
"name": "python3"
},
"language_info": {
"codemirror_mode": {
"name": "ipython",
"version": 3
},
"file_extension": ".py",
"mimetype": "text/x-python",
"name": "python",
"nbconvert_exporter": "python",
"pygments_lexer": "ipython3",
"version": "3.11.7"
},
"otter": {
"OK_FORMAT": true,
"tests": {
"hours_collaborators": {
"name": "hours_collaborators",
"points": 1,
"suites": [
{
"cases": [
{
"code": ">>> assert not 'not filled out' in worked_with_names\n",
"hidden": false,
"locked": false
},
{
"code": ">>> assert not 'not filled out' in websites\n",
"hidden": false,
"locked": false
},
{
"code": ">>> assert hours > 0\n",
"hidden": false,
"locked": false
}
],
"scored": true,
"setup": "",
"teardown": "",
"type": "doctest"
}
]
}
}
}
},
"nbformat": 4,
"nbformat_minor": 2
}