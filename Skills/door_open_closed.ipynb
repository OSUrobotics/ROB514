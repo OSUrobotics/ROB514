{
"cells": [
{
"cell_type": "code",
"execution_count": null,
"metadata": {
"deletable": false,
"editable": false
},
"outputs": [],
"source": [
"# Initialize Otter\n",
"import otter\n",
"grader = otter.Notebook(\"door_open_closed.ipynb\")"
]
},
{
"cell_type": "markdown",
"metadata": {},
"source": [
"# What is in this file/notebook\n",
"\n",
"Slides: https://docs.google.com/presentation/d/1vZC32UCamhyJWJBQIuP5AXKK896mBges_eO2H3Vo3q4/edit?usp=sharing\n",
"\n",
"Step 1) How do you use numpy's stats package to generalize a single random variable for a Booleans variable (T/F)?\n",
"\n",
"Step 2) Implement a door sensor (which needs two T/F random variables)\n",
"\n",
"Step 3) Implement a robot action (which needs FOUR opened/closed random variables)\n",
"\n",
"All of the actual functional code is in **door_open_closed_classes.py**. The cells here (mostly) just functions that call methods on those classes. The reason this is implemented this way is so that you can \"swap out\" your own version of doing things if you really wanted to. The exception to this is the first problem, which is a stand-alone implementation of a Boolean variable\n",
"\n",
"Note that most of the tests here also appear in the Python file so once the Python file passes all the assert tests then this one should, too (again, excepting the first problem). "
]
},
{
"cell_type": "code",
"execution_count": null,
"metadata": {},
"outputs": [],
"source": [
"# The imports you'll need - numpy has both numpy arrays and, in the random library, the method for \n",
"# randomly generating a numer between zero and one (np.random.uniform)\n",
"import numpy as np\n",
"\n",
"# These commands will force JN to actually re-load the external file when you re-execute the import command\n",
"%load_ext autoreload\n",
"%autoreload 2"
]
},
{
"cell_type": "markdown",
"metadata": {
"deletable": false,
"editable": false
},
"source": [
"## Boolean random variable\n",
"\n",
"TODO: Practice implementing a Boolean random variable\n",
"\n",
"A boolean random variable returns True or False, with some probability. \n",
"\n",
"Since probability of returning False is (1 - probability of returning True), you only need to specify the probability of returning True."
]
},
{
"cell_type": "code",
"execution_count": null,
"metadata": {
"tags": [
"otter_answer_cell"
]
},
"outputs": [],
"source": [
"def sample_boolean_variable(prob : float):\n",
"    \"\"\" Generate one sample from a boolean variable\n",
"    @param prob contains the probability of the sensor returning True\n",
"    @returns True or False \"\"\"\n",
"\n",
"    # Probabilities have to be between 0 and 1...\n",
"    assert 0.0 <= prob <= 1.0\n",
"\n",
"    # First, use random.uniform to generate a number between 0 and one. Note that this is a uniform distribution, not\n",
"    #  a Gaussian one. Please use np.random.uniform() for this assignment. If you find a different library that also generates\n",
"    #  random numbers (eg, mentioned in ChatGPT or Stack Exchange) I do not guarantee that the tests will work.\n",
"    zero_to_one = np.random.uniform()\n",
"\n",
"    # See slides - if the number generated (zero_to_one) is below the probability of returning true, return true. Otherwise, return false\n",
"    # TODO: Return True or False, depending on value of zero_to_one\n",
"    ..."
]
},
{
"cell_type": "code",
"execution_count": null,
"metadata": {
"tags": [
"otter_answer_cell"
]
},
"outputs": [],
"source": [
"# First, check that you have no obvious syntax errors. This does not mean that your code does the correct thing,\n",
"#. just that it has no Python errors\n",
"prob_ret_true = 0.6\n",
"\n",
"ret_val = sample_boolean_variable(prob_ret_true)\n",
"if ret_val is True or ret_val is False:\n",
"    print(\"sample_boolean: Passed syntax check\")"
]
},
{
"cell_type": "code",
"execution_count": null,
"metadata": {
"tags": [
"otter_answer_cell"
]
},
"outputs": [],
"source": [
"# Test function\n",
"def test_boolean(test_prob_value=0.6, n_samples=1000, b_print=True):\n",
"    \"\"\" Check if the sample_boolean is doing the right thing by calling it lots of times\n",
"    @param test_prob_value - any value from 0.0 to 1.0\n",
"    @param b_print - whether or not to print out intermediate results\n",
"    @returns True if sample_boolean_variable has the correct distribution of Trues/Falses\"\"\"\n",
"\n",
"    if b_print:\n",
"        print(\"Testing boolean\")\n",
"\n",
"    # Just call lots of time and count\n",
"    count_true = 0\n",
"    count_false = 0\n",
"    for _ in range(0, n_samples):\n",
"        if sample_boolean_variable(test_prob_value) == True:\n",
"            count_true += 1\n",
"        else:\n",
"            count_false += 1\n",
"\n",
"    # Percentage of times the function returned True\n",
"    perc_true = count_true / (count_true + count_false)\n",
"    if b_print:\n",
"        print(f\"Out of {n_samples}, {count_true} were True, and {count_false} were False\")\n",
"        print(f\"Perc true from sampling: {perc_true}, expected {test_prob_value}\")\n",
"\n",
"    if not np.isclose(perc_true, test_prob_value, atol=0.05):\n",
"        if b_print:\n",
"            print(\"Failed\")\n",
"        return False\n",
"\n",
"    if b_print:\n",
"        print(\"Passed\")\n",
"    return True"
]
},
{
"cell_type": "code",
"execution_count": null,
"metadata": {
"tags": [
"otter_answer_cell"
]
},
"outputs": [],
"source": [
"# Note: I have set the random seed generator to use a sequence that should return true and print out passed, with\n",
"#. 581 True and 419 False\n",
"#   --but I have seen a few cases where the random number generator has changed between versions of python/numpy.\n",
"#.  -- it should still work as long as it's close to the same\n",
"#. My output (Python library 3.11.7 (main, Dec 15 2023, 12:09:04) [Clang 14.0.6 ], numpy 1.26.4) is 581 True, 419 False\n",
"import sys\n",
"np.random.seed = 5.0\n",
"print(f\"Python library {sys.version}, numpy {np.__version__}\")\n",
"print(f\"Boolean result: {test_boolean()}\")"
]
},
{
"cell_type": "code",
"execution_count": null,
"metadata": {
"deletable": false,
"editable": false
},
"outputs": [],
"source": [
"grader.check(\"boolean_sample\")"
]
},
{
"cell_type": "markdown",
"metadata": {
"deletable": false,
"editable": false
},
"source": [
"# Door state\n",
"\n",
"Create a \"door state\" variable. Note, this is set up to create an instance of **DoorGroundTruth** and check that it is creating the class correctly. If you really, really want to \"do your own thing\", you can change the data structure the functions return/accept. Do NOT change the value passed in to **door_open**. \n",
"\n",
"TODO: Edit the **__init__** and **get_door_state** methods in **DoorGroundTruth** (search for part 1)"
]
},
{
"cell_type": "code",
"execution_count": null,
"metadata": {
"tags": [
"otter_answer_cell"
]
},
"outputs": [],
"source": [
"# Re-execute this cell if you change DoorGroundTruth\n",
"from door_open_closed_classes import DoorGroundTruth"
]
},
{
"cell_type": "code",
"execution_count": null,
"metadata": {
"tags": [
"otter_answer_cell"
]
},
"outputs": [],
"source": [
"# Functions used to test DoorGroundTruth. These just create an instance of DoorGroundTruth then return the\n",
"#. door state value (method get_door_state()). These are what are called \"wrappers\" - they wrap functionality\n",
"# \n",
"def make_door_ground_truth(door_open : bool):\n",
"    # Create an instance of DoorGroundTruth\n",
"    return DoorGroundTruth(door_open)\n",
"\n",
"def get_door_ground_truth(my_door_ground_truth : DoorGroundTruth):\n",
"    # Assumes my_door_ground_truth is an instance of DoorGroundTruth\n",
"    return my_door_ground_truth.get_door_state()"
]
},
{
"cell_type": "code",
"execution_count": null,
"metadata": {
"tags": [
"otter_answer_cell"
]
},
"outputs": [],
"source": [
"# Create to instances and check that the __init__ function and the get_door_state() method are correctly implemented\n",
"\n",
"# Two instances, one initialized with the door open (True) and one with the door closed (False)\n",
"door_start_open = make_door_ground_truth(True)\n",
"door_start_closed = make_door_ground_truth(False)\n",
"\n",
"# You can print variables out, btw - or look in the variable window to see what the values are\n",
"#  Note: This will only work correctly when you've implemented get_door_state\n",
"print(f\"Door state open: {door_start_open}\")\n",
"print(f\"Door state closed: {door_start_closed}\")\n",
"\n",
"# Use the functions in the previous cell to check that you've implemented __init__ and get_door_state correctly\n",
"assert get_door_ground_truth(door_start_open) == True\n",
"assert get_door_ground_truth(door_start_closed) == False\n"
]
},
{
"cell_type": "code",
"execution_count": null,
"metadata": {
"deletable": false,
"editable": false
},
"outputs": [],
"source": [
"grader.check(\"door_state\")"
]
},
{
"cell_type": "markdown",
"metadata": {
"deletable": false,
"editable": false
},
"source": [
"# Door sensor\n",
"\n",
"TODO: Implement the door sensor. The code you need to write is all in the class **DoorSensor** in **door_open_closed_classes.py**. The TODOs are labeled with \"part 2\""
]
},
{
"cell_type": "code",
"execution_count": null,
"metadata": {
"tags": [
"otter_answer_cell"
]
},
"outputs": [],
"source": [
"# Re-execute this cell if you change DoorSensor\n",
"from door_open_closed_classes import DoorGroundTruth, DoorSensor"
]
},
{
"cell_type": "code",
"execution_count": null,
"metadata": {
"tags": [
"otter_answer_cell"
]
},
"outputs": [],
"source": [
"# These functions just call the class methods\n",
"#. I made the decision here to NOT pass in the prob_xx values to the __init__ values, but to have an explicit set method.\n",
"#.   This is to more clearly highlight that you need to make two random variables, (one for if the door is open, one for\n",
"#.    if the door is cloesd) and those probability values can be DIFFERENT from one another.\n",
"def make_sensor(prob_true_if_open: float, prob_false_if_closed: float):\n",
"    # Make an instance of a door sensor with uniform (0.5) probability of returning True or False\n",
"    door_sensor = DoorSensor()\n",
"    # Now change the probabilities for the random variable used if the door is open\n",
"    door_sensor.set_return_true_if_open_probability(prob=prob_true_if_open)\n",
"    #. ... and the random variable for if the door is closed. \n",
"    door_sensor.set_return_false_if_closed_probability(prob=prob_false_if_closed)\n",
"    # Return the instance\n",
"    return door_sensor\n",
"\n",
"def sample_sensor(door_gt : DoorGroundTruth, door_sensor : DoorSensor):\n",
"    \"\"\" Given the door state, make one call to the sensor sample function\n",
"    @param door_gt - an instance of DoorGroundTruth\n",
"    @param door_sensor - an instance of DoorSensor\n",
"    @ return True or False \"\"\"\n",
"    # Reminder that the door sensor needs the actual ground truth of whether or not the\n",
"    #.  door is open (or closed)\n",
"    return door_sensor.sample_sensor(door_gt)"
]
},
{
"cell_type": "code",
"execution_count": null,
"metadata": {
"tags": [
"otter_answer_cell"
]
},
"outputs": [],
"source": [
"# This is JUST a syntax check - does not check if the code does the correct thing\n",
"door_sensor = make_sensor(prob_true_if_open=0.8, prob_false_if_closed=0.7)\n",
"\n",
"ret_val = sample_sensor(door_gt=door_start_open, door_sensor=door_sensor)"
]
},
{
"cell_type": "code",
"execution_count": null,
"metadata": {
"tags": [
"otter_answer_cell"
]
},
"outputs": [],
"source": [
"# Test one combo function - check if the door sensor works properly\n",
"def test_combo(prob_true_if_open: float, prob_false_if_closed: float):\n",
"    # Make the sensor\n",
"    door_sensor = make_sensor(prob_true_if_open=prob_true_if_open, prob_false_if_closed=prob_false_if_closed)\n",
"\n",
"    # Do both an open and a closed door\n",
"    n_total = 1000\n",
"    for b_door_gt, exp_val in zip([True, False], [prob_true_if_open, 1.0 - prob_false_if_closed]):\n",
"        # Make the door, with door either open or closed\n",
"        door_gt = make_door_ground_truth(door_open=b_door_gt)\n",
"\n",
"        count_true = 0\n",
"        for _ in range(0, n_total):\n",
"            # Just count the true values\n",
"            if sample_sensor(door_gt, door_sensor):\n",
"                count_true += 1\n",
"\n",
"        if not np.isclose(count_true / n_total, exp_val, atol=0.05):\n",
"            print(f\"For door in state {door_gt}, expected {exp_val}, got {count_true / n_total}\")\n",
"            return False\n",
"\n",
"    return True"
]
},
{
"cell_type": "code",
"execution_count": null,
"metadata": {
"tags": [
"otter_answer_cell"
]
},
"outputs": [],
"source": [
"# Check prob true if open\n",
"assert test_combo(prob_true_if_open=0.8, prob_false_if_closed=0.5)\n",
"\n",
"# Check prob false if closed\n",
"assert test_combo(prob_true_if_open=0.5, prob_false_if_closed=0.7)\n",
"\n",
"# Check both\n",
"assert test_combo(prob_true_if_open=0.7, prob_false_if_closed=0.8)"
]
},
{
"cell_type": "code",
"execution_count": null,
"metadata": {
"deletable": false,
"editable": false
},
"outputs": [],
"source": [
"grader.check(\"door_sensor\")"
]
},
{
"cell_type": "markdown",
"metadata": {
"deletable": false,
"editable": false
},
"source": [
"## Door action - opening or closing the door\n",
"\n",
"TODO: Try to open (or close) the door. The assumption is that the robot tries to open (or close) the door and the door may change to the desired state - or the action may fail. This is the transition diagram.\n",
"\n",
"This is multiple boolean random variables. Rather than have one set method for each possible random variable, the **set_probabilities** method takes in the starting state, the action, the ending state, and the probability that from that starting state you would take that action and end up in that state. \n",
"\n",
"The recommendation is to store all those probabilities in some sort of matrix/list of lists. The default probability value(s) should be 0.5 (uniform probability).\n",
"\n",
"TODO: Fill in the **set_probability** method and the two \"sample\" methods (open and close actions)"
]
},
{
"cell_type": "code",
"execution_count": null,
"metadata": {
"tags": [
"otter_answer_cell"
]
},
"outputs": [],
"source": [
"# putting this here again so you can easily run it\n",
"from door_open_closed_classes import DoorGroundTruth"
]
},
{
"cell_type": "code",
"execution_count": null,
"metadata": {
"tags": [
"otter_answer_cell"
]
},
"outputs": [],
"source": [
"# Wrapper functions\n",
"def set_probability(door_gt: DoorGroundTruth, \n",
"                    door_initial_state : bool, \n",
"                    action : str, \n",
"                    door_final_state : bool, \n",
"                    prob : float):\n",
"    door_gt.set_probability(door_initial_state=door_initial_state,\n",
"                            action=action,\n",
"                            door_final_state=door_final_state,\n",
"                            prob=prob)\n",
"    \n",
"def try_action(door_gt: DoorGroundTruth, action : str):\n",
"    assert action in DoorGroundTruth.actions\n",
"    if action == \"Open\":\n",
"        door_gt.robot_tries_to_open_door()\n",
"    elif action == \"Close\":        \n",
"        door_gt.robot_tries_to_close_door()\n",
"\n",
"    return door_gt.get_door_state()"
]
},
{
"cell_type": "code",
"execution_count": null,
"metadata": {
"tags": [
"otter_answer_cell"
]
},
"outputs": [],
"source": [
"# This is (mostly) a syntax check, but by forcing the probabilities to be one, it means the action should always succeed\n",
"# TODO part 3: try changing prob = 0.0 and check that the return state is NOT the end state\n",
"for door_start_state in [True, False]:\n",
"    for action in DoorGroundTruth.actions:\n",
"        for door_end_state in [True, False]:\n",
"            # Make a door with the given start state\n",
"            door_gt = make_door_ground_truth(door_open=door_start_state)\n",
"\n",
"            # Set the probabilities for this combination\n",
"            set_probability(door_gt=door_gt, \n",
"                            door_initial_state=door_start_state,\n",
"                            action=action,\n",
"                            door_final_state=door_end_state,\n",
"                            prob=1.0)\n",
"            # Try the action - should succeed, since we set the probability to 1\n",
"            ret_state = try_action(door_gt=door_gt, action=action)\n",
"\n",
"            # Did it succeed?\n",
"            assert ret_state == door_end_state\n"
]
},
{
"cell_type": "code",
"execution_count": null,
"metadata": {
"tags": [
"otter_answer_cell"
]
},
"outputs": [],
"source": [
"# Basically the same as above, except sample the action multiple times and see if the distribution\n",
"#. of resulting states is correct\n",
"def test_action(n_samples=100):\n",
"    b_ret = True\n",
"    for door_start_state in [True, False]:\n",
"        for action in DoorGroundTruth.actions:\n",
"            for door_end_state in [True, False]:\n",
"                for prob in [0.0, 0.2, 0.8, 1.0]:\n",
"                    count_in_state = 0\n",
"                    for _ in range(0, n_samples):\n",
"                        # Make a new one each time, so my_door is always in the correct starting state\n",
"                        my_door = make_door_ground_truth(door_open=door_start_state)\n",
"                        set_probability(door_gt=my_door,\n",
"                                        door_initial_state=door_start_state,\n",
"                                        action=action,\n",
"                                        door_final_state=door_end_state,\n",
"                                        prob=prob)\n",
"                        # Do the action\n",
"                        try_action(door_gt=my_door, action=action)\n",
"                        # Check the end state\n",
"                        if my_door.get_door_state() == door_end_state:\n",
"                            count_in_state += 1                    \n",
"\n",
"                    prob_in_state = count_in_state / n_samples\n",
"                    if not np.isclose(prob_in_state, prob, atol=0.1):\n",
"                        print(f\"Failed start state {door_start_state}, door end state {door_end_state}, action {action}\")\n",
"                        print(f\" Expected {prob}, got {prob_in_state}\")\n",
"                        b_ret = False\n",
"    return b_ret\n"
]
},
{
"cell_type": "code",
"execution_count": null,
"metadata": {
"tags": [
"otter_answer_cell"
]
},
"outputs": [],
"source": [
"b_ret = test_action()\n",
"assert b_ret"
]
},
{
"cell_type": "code",
"execution_count": null,
"metadata": {
"deletable": false,
"editable": false
},
"outputs": [],
"source": [
"grader.check(\"door_action\")"
]
},
{
"cell_type": "markdown",
"metadata": {
"deletable": false,
"editable": false
},
"source": [
"## Hours and collaborators\n",
"Required for every assignment - fill out before you hand-in.\n",
"\n",
"Listing names and websites helps you to document who you worked with and what internet help you received in the case of any plagiarism issues. You should list names of anyone (in class or not) who has substantially helped you with an assignment - or anyone you have *helped*. You do not need to list TAs.\n",
"\n",
"Listing hours helps us track if the assignments are too long."
]
},
{
"cell_type": "code",
"execution_count": null,
"metadata": {
"tags": [
"otter_answer_cell"
]
},
"outputs": [],
"source": [
"\n",
"# TODO - set to correct value               \n",
"# List of names (creates a set)\n",
"worked_with_names = {\"not filled out\"}\n",
"# List of URLS FW25(creates a set)\n",
"websites = {\"not filled out\"}\n",
"# Approximate number of hours, including lab/in-class time\n",
"hours = -1.5\n"
]
},
{
"cell_type": "code",
"execution_count": null,
"metadata": {
"deletable": false,
"editable": false
},
"outputs": [],
"source": [
"grader.check(\"hours_collaborators\")"
]
},
{
"cell_type": "markdown",
"metadata": {},
"source": [
"### To submit\n",
"\n",
"- Do a restart then run all to make sure everything runs ok\n",
"- Save the file\n",
"- Submit this .ipynb file and the .py file through gradescope, Door open closed assignment\n",
"- Take out/suppress all print statements\n",
"\n",
"If the Gradescope autograder fails, please check here first for common reasons for it to fail\n",
"    https://docs.google.com/presentation/d/1tYa5oycUiG4YhXUq5vHvPOpWJ4k_xUPp2rUNIL7Q9RI/edit?usp=sharing\n",
"\n"
]
}
],
"metadata": {
"kernelspec": {
"display_name": "base",
"language": "python",
"name": "python3"
},
"language_info": {
"codemirror_mode": {
"name": "ipython",
"version": 3
},
"file_extension": ".py",
"mimetype": "text/x-python",
"name": "python",
"nbconvert_exporter": "python",
"pygments_lexer": "ipython3",
"version": "3.11.7"
},
"otter": {
"OK_FORMAT": true,
"tests": {
"boolean_sample": {
"name": "boolean_sample",
"points": 1,
"suites": [
{
"cases": [
{
"code": ">>> assert test_boolean(0.3, n_samples=10000, b_print=False)\n",
"hidden": false,
"locked": false
}
],
"scored": true,
"setup": "",
"teardown": "",
"type": "doctest"
}
]
},
"door_action": {
"name": "door_action",
"points": 5,
"suites": [
{
"cases": [
{
"code": ">>> assert test_action()\n",
"hidden": false,
"locked": false
}
],
"scored": true,
"setup": "",
"teardown": "",
"type": "doctest"
}
]
},
"door_sensor": {
"name": "door_sensor",
"points": 4,
"suites": [
{
"cases": [
{
"code": ">>> assert test_combo(prob_true_if_open=0.85, prob_false_if_closed=0.72)\n",
"hidden": false,
"locked": false
}
],
"scored": true,
"setup": "",
"teardown": "",
"type": "doctest"
}
]
},
"door_state": {
"name": "door_state",
"points": 1,
"suites": [
{
"cases": [
{
"code": ">>> assert get_door_ground_truth(door_start_open) == True\n",
"hidden": false,
"locked": false
},
{
"code": ">>> assert get_door_ground_truth(door_start_closed) == False\n",
"hidden": false,
"locked": false
}
],
"scored": true,
"setup": "",
"teardown": "",
"type": "doctest"
}
]
},
"hours_collaborators": {
"name": "hours_collaborators",
"points": 1,
"suites": [
{
"cases": [
{
"code": ">>> assert not 'not filled out' in worked_with_names\n",
"hidden": false,
"locked": false
},
{
"code": ">>> assert not 'not filled out' in websites\n",
"hidden": false,
"locked": false
},
{
"code": ">>> assert hours > 0\n",
"hidden": false,
"locked": false
}
],
"scored": true,
"setup": "",
"teardown": "",
"type": "doctest"
}
]
}
}
}
},
"nbformat": 4,
"nbformat_minor": 2
}