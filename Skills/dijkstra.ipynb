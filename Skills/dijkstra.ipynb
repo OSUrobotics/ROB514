{
"cells": [
{
"cell_type": "code",
"execution_count": null,
"metadata": {
"deletable": false,
"editable": false
},
"outputs": [],
"source": [
"# Initialize Otter\n",
"import otter\n",
"grader = otter.Notebook(\"dijkstra.ipynb\")"
]
},
{
"cell_type": "markdown",
"metadata": {},
"source": [
"# Instructions\n",
"\n",
"This assignment implements Dijkstra's shortest path on a graph, finding an unvisited node in a graph, picking which one to visit, and taking a path in the map and generating waypoints along that path\n",
"\n",
"Given to you:\n",
"- Priority queue\n",
"- Image handling\n",
"- Eight connected neighbors\n",
"\n",
"Slides: https://docs.google.com/presentation/d/1XBPw2B2Bac-LcXH5kYN4hQLLLl_AMIgoowlrmPpTinA/edit?usp=sharing\n"
]
},
{
"cell_type": "code",
"execution_count": null,
"metadata": {},
"outputs": [],
"source": [
"# The ever-present numpy and matplot lib\n",
"import numpy as np\n",
"\n",
"# Our priority queue\n",
"import heapq\n",
"\n",
"# Using imageio to read in the image\n",
"import imageio\n",
"\n",
"# For reading yaml files\n",
"import yaml"
]
},
{
"cell_type": "code",
"execution_count": null,
"metadata": {},
"outputs": [],
"source": [
"import sys; \n",
"sys.path.insert(0, '.')\n",
"\n",
"# These commands will force JN to actually re-load the external file when you re-execute the import command\n",
"%load_ext autoreload\n",
"%autoreload 2"
]
},
{
"cell_type": "markdown",
"metadata": {
"deletable": false,
"editable": false
},
"source": [
"<!-- BEGIN QUESTION -->\n",
"\n",
"# Run Dijkstra on a pretend SLAM map\n",
"\n"
]
},
{
"cell_type": "code",
"execution_count": null,
"metadata": {
"tags": []
},
"outputs": [],
"source": [
"from path_planning import convert_image, dijkstra, plot_with_path, open_image"
]
},
{
"cell_type": "code",
"execution_count": null,
"metadata": {
"tags": []
},
"outputs": [],
"source": [
"# Opens and threshold the SLAM map image\n",
"im, im_thresh = open_image(\"SLAM_map.png\")\n",
"\n",
"robot_start_loc = (200, 150)\n",
"# Closer one to try - change this after it works...\n",
"robot_goal_loc = (315, 250)\n",
"#robot_goal_loc = (615, 850)\n",
"zoom = 0.8\n",
"\n",
"\"\"\"\n",
"print(f\"Image shape {im_thresh.shape}\")\n",
"for i in range(0, im_thresh.shape[1]-1):\n",
"    for j in range(0, im_thresh.shape[0]-1):\n",
"        if is_free(im_thresh, (i, j)):\n",
"            print(f\"Free {i} {j}\")\n",
"\"\"\"\n",
"path = dijkstra(im_thresh, robot_start_loc, robot_goal_loc)\n",
"plot_with_path(im, im_thresh, zoom=zoom, robot_loc=robot_start_loc, goal_loc=robot_goal_loc, path=path)\n"
]
},
{
"cell_type": "code",
"execution_count": null,
"metadata": {
"tags": []
},
"outputs": [],
"source": [
"# Opens and threshold a real SLAM map image\n",
"im, im_thresh = open_image(\"map.pgm\")\n",
"\n",
"robot_start_loc = (1940, 1953)\n",
"robot_goal_loc = (2135, 2045)\n",
"zoom = 0.1\n",
"\n",
"path = dijkstra(im_thresh, robot_start_loc, robot_goal_loc)\n",
"plot_with_path(im, im_thresh, zoom=zoom, robot_loc=robot_start_loc, goal_loc=robot_goal_loc, path=path)"
]
},
{
"cell_type": "markdown",
"metadata": {
"deletable": false,
"editable": false
},
"source": [
"<!-- END QUESTION -->\n",
"\n",
"## Hours and collaborators\n",
"Required for every assignment - fill out before you hand-in.\n",
"\n",
"Listing names and websites helps you to document who you worked with and what internet help you received in the case of any plagiarism issues. You should list names of anyone (in class or not) who has substantially helped you with an assignment - or anyone you have *helped*. You do not need to list TAs.\n",
"\n",
"Listing hours helps us track if the assignments are too long."
]
},
{
"cell_type": "code",
"execution_count": null,
"metadata": {
"tags": []
},
"outputs": [],
"source": [
"\n",
"# List of names (create\"s a set)\n",
"worked_with_names = {\"not filled out\"}\n",
"# List of URLS TAF24 (creates a set)\n",
"websites = {\"not filled out\"}\n",
"# Approximate number of hours, including lab/in-class time\n",
"hours = -1.5"
]
},
{
"cell_type": "code",
"execution_count": null,
"metadata": {
"deletable": false,
"editable": false
},
"outputs": [],
"source": [
"grader.check(\"hours_collaborators\")"
]
},
{
"cell_type": "markdown",
"metadata": {},
"source": [
"### To submit\n",
"\n",
"- Do a restart then run all to make sure everything runs ok\n",
"- Save the file\n",
"- Submit this .ipynb file and path_planning.py through gradescope, Lab 3: A star/Dijkstra\n",
"- You do NOT need to submit the data files - we will supply those\n",
"- Take out/suppress all print statements\n",
"\n",
"If the Gradescope autograder fails, please check here first for common reasons for it to fail\n",
"    https://docs.google.com/presentation/d/1tYa5oycUiG4YhXUq5vHvPOpWJ4k_xUPp2rUNIL7Q9RI/edit?usp=sharing\n",
"\n",
"Most likely failure for this assignment is not naming the data directory and files correctly; capitalization matters for the Gradescope grader. \n",
"\n",
"Second most likely failure is because your code ran very, very slowly and the autograder timed out.\n",
"\n",
"Third reason for failure is you forgot to include **path_planning.py** and/or you put the file in a folder"
]
}
],
"metadata": {
"kernelspec": {
"display_name": "Python 3",
"language": "python",
"name": "python3"
},
"language_info": {
"codemirror_mode": {
"name": "ipython",
"version": 3
},
"file_extension": ".py",
"mimetype": "text/x-python",
"name": "python",
"nbconvert_exporter": "python",
"pygments_lexer": "ipython3",
"version": "3.11.7"
},
"otter": {
"OK_FORMAT": true,
"tests": {
"hours_collaborators": {
"name": "hours_collaborators",
"points": 1,
"suites": [
{
"cases": [
{
"code": ">>> assert not 'not filled out' in worked_with_names\n",
"hidden": false,
"locked": false
},
{
"code": ">>> assert not 'not filled out' in websites\n",
"hidden": false,
"locked": false
},
{
"code": ">>> assert hours > 0\n",
"hidden": false,
"locked": false
}
],
"scored": true,
"setup": "",
"teardown": "",
"type": "doctest"
}
]
}
}
}
},
"nbformat": 4,
"nbformat_minor": 2
}